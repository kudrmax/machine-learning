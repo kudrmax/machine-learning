{
 "cells": [
  {
   "cell_type": "markdown",
   "id": "7c60429d",
   "metadata": {},
   "source": [
    "## Метод градиентного спуска"
   ]
  },
  {
   "cell_type": "markdown",
   "id": "926638d1",
   "metadata": {},
   "source": [
    "**Вопрос**: что такое градиент?"
   ]
  },
  {
   "cell_type": "markdown",
   "id": "d509e631",
   "metadata": {},
   "source": [
    "Градиент указывает направление, в котором некоторая функция $f$ возрастает больше всего:\n",
    "$$\\nabla f = \\frac{\\partial f}{\\partial x_1} e_1 + ... + \\frac{\\partial f}{\\partial x_n} e_n$$\n",
    "\n",
    "$\\frac{\\partial f}{\\partial x_i}$ -- частная производная функции $f$ по $x_i$, $e_i$ -- базисный вектор."
   ]
  },
  {
   "cell_type": "markdown",
   "id": "4f895101",
   "metadata": {},
   "source": [
    "Возьмем некоторую точку $a$ — в окрестности этой точки функция $F$ должна быть определена и дифференцируема, тогда вектор антиградиента будет указывать на направление, в котором функция $F$ убывает быстрее всего. Отсюда делается вывод, что в некоторой точке $b$, равной $b = a - \\varepsilon \\nabla F(a)$; при некотором малом $\\varepsilon$ значение функции будет меньше либо равным значению в точке $а$. \n",
    "\n",
    "Можно представить это, как движение вниз по холму — сделав шаг вниз, текущая позиция будет ниже, чем предыдущая. Таким образом, на каждом следующем шаге высота будет как минимум не увеличиваться."
   ]
  },
  {
   "cell_type": "markdown",
   "id": "d1cfad21",
   "metadata": {},
   "source": [
    "Пусть $S$ -- функция потерь (MSE, MAE, ...). Исходя из определений выше, можно получить формулу для нахождения неизвестных параметров:\n",
    "$$x_j = x_{j-1} - \\varepsilon \\frac{\\partial S}{\\partial x_j}$$"
   ]
  },
  {
   "cell_type": "markdown",
   "id": "a15e7c0a",
   "metadata": {},
   "source": [
    "**Пример**: необходимо минимизировать функцию $y(x) = (x-5)^2$\n",
    "\n",
    "1. Находим производную по $x$: $\\frac{\\partial y}{\\partial x} = 2(x-5)$\n",
    "\n",
    "2. Выберем начальное значение: $x_0 = 0$, шаг $\\varepsilon = 0.1$ и максимальное количество итераций: $n=25$\n",
    "\n",
    "3. Для всех $i = 1, ..., 25$ рассчитаем $x_i = x_{i-1} - \\varepsilon \\frac{\\partial y}{\\partial x}|_{x = x_i}$"
   ]
  },
  {
   "cell_type": "code",
   "execution_count": 1,
   "id": "60d191c2",
   "metadata": {},
   "outputs": [],
   "source": [
    "# для нахождения производной\n",
    "from scipy.misc import derivative\n",
    "\n",
    "%matplotlib inline\n",
    "from matplotlib import pylab as plt"
   ]
  },
  {
   "cell_type": "code",
   "execution_count": 2,
   "id": "6dd1b298",
   "metadata": {},
   "outputs": [
    {
     "data": {
      "text/plain": [
       "-10.0"
      ]
     },
     "execution_count": 2,
     "metadata": {},
     "output_type": "execute_result"
    }
   ],
   "source": [
    "# определяем функцию\n",
    "def f(x):\n",
    "    return (x-5)**2\n",
    "\n",
    "# проверяем нахождение f'(x)\n",
    "derivative(f, 0)"
   ]
  },
  {
   "cell_type": "code",
   "execution_count": 3,
   "id": "ccfcfa61",
   "metadata": {},
   "outputs": [
    {
     "data": {
      "image/png": "[encoded data removed]",
      "text/plain": [
       "<Figure size 432x288 with 1 Axes>"
      ]
     },
     "metadata": {
      "needs_background": "light"
     },
     "output_type": "display_data"
    }
   ],
   "source": [
    "# рисуем график функции\n",
    "x = range(-5,15)\n",
    "y = [f(xn) for xn in x]\n",
    "plt.plot(x, y)\n",
    "plt.show()"
   ]
  },
  {
   "cell_type": "code",
   "execution_count": 4,
   "id": "6406c878",
   "metadata": {},
   "outputs": [
    {
     "data": {
      "text/plain": [
       "{0: 25,\n",
       " 1.0: 16.0,\n",
       " 1.8: 10.240000000000002,\n",
       " 2.4400000000000004: 6.553599999999998,\n",
       " 2.9520000000000004: 4.194303999999998,\n",
       " 3.3616: 2.6843545599999996,\n",
       " 3.68928: 1.7179869183999996,\n",
       " 3.9514240000000003: 1.0995116277759995,\n",
       " 4.1611392: 0.7036874417766399,\n",
       " 4.32891136: 0.4503599627370493,\n",
       " 4.4631290880000005: 0.2882303761517112,\n",
       " 4.570503270400001: 0.184467440737095,\n",
       " 4.65640261632: 0.11805916207174093,\n",
       " 4.725122093056: 0.07555786372591429,\n",
       " 4.7800976744448: 0.04835703278458515,\n",
       " 4.82407813955584: 0.030948500982134555,\n",
       " 4.859262511644672: 0.019807040628566166,\n",
       " 4.8874100093157375: 0.012676506002282305,\n",
       " 4.90992800745259: 0.008112963841460612,\n",
       " 4.927942405962073: 0.005192296858534741,\n",
       " 4.942353924769658: 0.0033230699894622544,\n",
       " 4.953883139815726: 0.0021267647932558427,\n",
       " 4.9631065118525814: 0.0013611294676837131,\n",
       " 4.9704852094820655: 0.0008711228593175555,\n",
       " 4.976388167585652: 0.0005575186299632523,\n",
       " 4.981110534068522: 0.000356811923176468}"
      ]
     },
     "execution_count": 4,
     "metadata": {},
     "output_type": "execute_result"
    }
   ],
   "source": [
    "# начальн. значение\n",
    "xn = 0 \n",
    "yn = f(xn)\n",
    "\n",
    "# заводим словарь, где будем хранить все найденные значения функции\n",
    "Y = {xn: yn}\n",
    "\n",
    "# шаг ГС (произвольный подибраем)\n",
    "step = 0.1\n",
    "\n",
    "# по формуле градиентного спуска получаем все значения x y\n",
    "for _ in range(25):\n",
    "    xn = xn - step*derivative(f, xn)\n",
    "    yn = f(xn)\n",
    "    Y[xn] = yn\n",
    "\n",
    "Y"
   ]
  },
  {
   "cell_type": "code",
   "execution_count": 5,
   "id": "b7480b92",
   "metadata": {},
   "outputs": [
    {
     "data": {
      "image/png": "[encoded data removed]",
      "text/plain": [
       "<Figure size 432x288 with 1 Axes>"
      ]
     },
     "metadata": {
      "needs_background": "light"
     },
     "output_type": "display_data"
    }
   ],
   "source": [
    "# наносим найденные точки на график\n",
    "plt.plot(list(Y.keys()), list(Y.values()), 'ro')\n",
    "plt.show()"
   ]
  },
  {
   "cell_type": "code",
   "execution_count": 6,
   "id": "999426e9",
   "metadata": {},
   "outputs": [
    {
     "data": {
      "image/png": "[encoded data removed]",
      "text/plain": [
       "<Figure size 432x288 with 1 Axes>"
      ]
     },
     "metadata": {
      "needs_background": "light"
     },
     "output_type": "display_data"
    }
   ],
   "source": [
    "# масштабируем\n",
    "plt.plot(list(Y.keys()), list(Y.values()), 'ro')\n",
    "plt.axis([4.95, 5.05, -0.05, 0.05])\n",
    "plt.show()"
   ]
  },
  {
   "cell_type": "code",
   "execution_count": 7,
   "id": "f08704ab",
   "metadata": {},
   "outputs": [
    {
     "name": "stdout",
     "output_type": "stream",
     "text": [
      "мин. Х = 4.981110534068522\n",
      "мин. Y = 0.000356811923176468\n"
     ]
    }
   ],
   "source": [
    "# словарь значений, где key = х (просто инвертируем Y)\n",
    "X = {}\n",
    "for i in range(len(Y)):\n",
    "    X[list(Y.values())[i]] = list(Y.keys())[i]\n",
    "\n",
    "# выводим пару искомых минимальных X и Y (близких к минимумам)\n",
    "print ('мин. Х =', min(X.items())[1])\n",
    "print ('мин. Y =', min(X.items())[0])"
   ]
  },
  {
   "cell_type": "markdown",
   "id": "665ce835",
   "metadata": {},
   "source": [
    "<img src=\"https://hsto.org/files/dd8/48b/b4b/dd848bb4b5484825854e8e8f6712dfb3.gif\">"
   ]
  },
  {
   "cell_type": "markdown",
   "id": "27e90af5",
   "metadata": {},
   "source": [
    "Всегда ли градиентный спуск эффективен? Нет, необходимо выбирать длину шага корректно -- можно \"перейти\" через глобальный минимум и найти один из локальных. \n",
    "\n",
    "Пример \"плохой\" функции: $y = (x-5)^2 + 50\\sin(x) + 50$ "
   ]
  },
  {
   "cell_type": "markdown",
   "id": "5966dac1",
   "metadata": {},
   "source": [
    "<img src=\"https://hsto.org/files/ba3/d98/dc7/ba3d98dc7ab14212a582d59c5e649617.gif\">"
   ]
  },
  {
   "cell_type": "markdown",
   "id": "5614548c",
   "metadata": {},
   "source": [
    "...Но и подбор шага не всегда помогает:\n",
    "    \n",
    "<img src=\"https://hsto.org/files/376/7a8/b8c/3767a8b8cdd34602929a78fd0f51fe89.gif\">"
   ]
  },
  {
   "cell_type": "markdown",
   "id": "1099ac4a",
   "metadata": {},
   "source": [
    "Рассмотрим функцию $z(x,y) = 4x^2 + 16y^2$\n",
    "\n",
    "<img src=\"https://hsto.org/r/w1560/files/ef9/503/62a/ef950362a9a64342bdcf23bd3d9cf469.png\">"
   ]
  },
  {
   "cell_type": "code",
   "execution_count": 8,
   "id": "c5afe203",
   "metadata": {},
   "outputs": [
    {
     "data": {
      "image/png": "[encoded data removed]",
      "text/plain": [
       "<Figure size 432x288 with 1 Axes>"
      ]
     },
     "metadata": {
      "needs_background": "light"
     },
     "output_type": "display_data"
    }
   ],
   "source": [
    "import matplotlib.pyplot as plt\n",
    "import matplotlib.animation as anim\n",
    "import numpy as np\n",
    "\n",
    "\n",
    "STEP_COUNT = 25\n",
    "STEP_SIZE = 0.005  # Скорость обучения\n",
    "X = np.array([i for i in np.linspace(-10, 10, 1000)])\n",
    "Y = np.array([i for i in np.linspace(-10, 10, 1000)])\n",
    "\n",
    "\n",
    "def func(X, Y):\n",
    "    return 4 * (X ** 2) + 16 * (Y ** 2)\n",
    "\n",
    "\n",
    "def dx(x):\n",
    "    return 8 * x\n",
    "\n",
    "\n",
    "def dy(y):\n",
    "    return 32 * y\n",
    "\n",
    "skip_first = True\n",
    "def draw_gradient_points(num, point, line):\n",
    "    global previous_x, previous_y, skip_first, ax\n",
    "    if skip_first:\n",
    "        skip_first = False\n",
    "        return point\n",
    "    current_x = previous_x - STEP_SIZE * dx(previous_x)\n",
    "    current_y = previous_y - STEP_SIZE * dy(previous_y)\n",
    "    print(\"Step:\", num, \"CurX:\", current_x, \"CurY\", current_y, \"Fun:\", func(current_x, current_y))\n",
    "    point.set_data([current_x], [current_y])\n",
    "    new_x = list(line.get_xdata()) + [previous_x, current_x]\n",
    "    new_y = list(line.get_ydata()) + [previous_y, current_y]\n",
    "    line.set_xdata(new_x)\n",
    "    line.set_ydata(new_y)\n",
    "\n",
    "    previous_x = current_x\n",
    "    previous_y = current_y\n",
    "    return point\n",
    "\n",
    "\n",
    "previous_x, previous_y = 8.8, 8.5\n",
    "fig, ax = plt.subplots()\n",
    "p = ax.get_position()\n",
    "ax.set_position([p.x0 + 0.1, p.y0, p.width * 0.9, p.height])\n",
    "ax.set_xlabel(\"X\", fontsize=18)\n",
    "ax.set_ylabel(\"Y\", fontsize=18)\n",
    "\n",
    "X, Y = np.meshgrid(X, Y)\n",
    "plt.contour(X, Y, func(X, Y))\n",
    "point, = plt.plot([8.8], [8.5], 'bo')\n",
    "line, = plt.plot([], color='black')\n",
    "\n",
    "\n",
    "gradient_anim = anim.FuncAnimation(fig, draw_gradient_points, frames=STEP_COUNT,\n",
    "                                   fargs=(point, line),\n",
    "                                   interval=1500)"
   ]
  },
  {
   "cell_type": "markdown",
   "id": "1ef10e20",
   "metadata": {},
   "source": [
    "<img src=\"https://hsto.org/files/967/b34/8ea/967b348ead36449c960a91eeb529021f.gif\">"
   ]
  },
  {
   "cell_type": "markdown",
   "id": "cfb79da7",
   "metadata": {},
   "source": [
    "Основные типы градиентных методов:\n",
    "    \n",
    "1) **Пакетный градиентный спуск**:\n",
    "Он использует весь пакет данных на каждом этапе итерации, в результате довольно медленно обрабатывает большие наборы обучающих данных. Это предпочтительнее, только если вы хотите обработать все экземпляры в обучающем наборе. Единственное ограничение заключается в том, что если обучающий набор очень велик, он будет очень медленным.\n",
    "\n",
    "2) **Стохастичеческий градиентный спуск**:\n",
    "Этот алгоритм извлекает случайный экземпляр обучающего набора на каждом шаге итерации и вычисляет градиенты на основе этого случайного экземпляра. Таким образом, работа с одним экземпляром идет быстрее. \n",
    "\n",
    "3) **Мини-пакетный градиентный спуск:**\n",
    "Вычисляет градиенты для небольших случайных наборов экземпляров, известных как мини-пакеты, вместо вычисления набора обучающих данных или одного случайного экземпляра. "
   ]
  },
  {
   "cell_type": "markdown",
   "id": "3d0e6e3b",
   "metadata": {},
   "source": [
    "<img src=\"https://neurohive.io/wp-content/uploads/2018/11/lokalnyi-minimum-gradientnyi-spusk.png\">"
   ]
  },
  {
   "cell_type": "code",
   "execution_count": 11,
   "id": "4c559960",
   "metadata": {},
   "outputs": [
    {
     "name": "stdout",
     "output_type": "stream",
     "text": [
      "[[3.62251052]\n",
      " [3.33838529]]\n"
     ]
    }
   ],
   "source": [
    "# Batch Gradient Descent\n",
    "import numpy as np\n",
    "eta = 0.1 # learning rate\n",
    "n_iterations = 1000\n",
    "m = 100\n",
    "\n",
    "X = 2 * np.random.rand(100, 1)\n",
    "y = 4 + 3 * X + np.random.randn(100, 1)\n",
    "X_b = np.c_[np.ones((100, 1)), X]  # add x0 = 1 to each instance\n",
    "theta = np.random.randn(2,1) #random initilization\n",
    "for iteration in range(n_iterations):\n",
    "    gradients = 2/m * X_b.T.dot(X_b.dot(theta)-y)\n",
    "    theta = theta - eta * gradients\n",
    "print(theta)"
   ]
  },
  {
   "cell_type": "code",
   "execution_count": 12,
   "id": "c255926e",
   "metadata": {},
   "outputs": [
    {
     "name": "stdout",
     "output_type": "stream",
     "text": [
      "[[3.50243485]\n",
      " [3.48829165]]\n"
     ]
    }
   ],
   "source": [
    "# Stochastic Gradient Descent\n",
    "n_epochs = 50\n",
    "t0, t1 = 5, 50 #learning schedule hyperparameters\n",
    "m = 100\n",
    "X = 2 * np.random.rand(100, 1)\n",
    "y = 4 + 3 * X + np.random.randn(100, 1)\n",
    "X_b = np.c_[np.ones((100, 1)), X]  # add x0 = 1 to each instance\n",
    "def learning_schedule(t):\n",
    "    return t0/(t+t1)\n",
    "\n",
    "theta = np.random.randn(2,1) #random initilization\n",
    "for epoch in range(n_epochs):\n",
    "    for i in range(m):\n",
    "        random_index = np.random.randint(m)\n",
    "        xi = X_b[random_index:random_index+1]\n",
    "        yi = y[random_index:random_index+1]\n",
    "        gradients = 2 * xi.T.dot(xi.dot(theta)-yi)\n",
    "        eta = learning_schedule(epoch * m + i)\n",
    "        theta = theta - eta * gradients\n",
    "print(theta)"
   ]
  },
  {
   "cell_type": "code",
   "execution_count": 13,
   "id": "f2c3ecb5",
   "metadata": {},
   "outputs": [
    {
     "name": "stdout",
     "output_type": "stream",
     "text": [
      "[[4.10668045]\n",
      " [2.84356366]]\n"
     ]
    }
   ],
   "source": [
    "# Mini-batch Gradient Descent\n",
    "n_iterations = 50\n",
    "minibatch_size = 20\n",
    "m = 100\n",
    "X = 2 * np.random.rand(100, 1)\n",
    "y = 4 + 3 * X + np.random.randn(100, 1)\n",
    "X_b = np.c_[np.ones((100, 1)), X]  # add x0 = 1 to each instance\n",
    "np.random.seed(42)\n",
    "theta = np.random.randn(2,1)  # random initialization\n",
    "\n",
    "t0, t1 = 200, 1000\n",
    "def learning_schedule(t):\n",
    "    return t0 / (t + t1)\n",
    "\n",
    "t = 0\n",
    "for epoch in range(n_iterations):\n",
    "    shuffled_indices = np.random.permutation(m)\n",
    "    X_b_shuffled = X_b[shuffled_indices]\n",
    "    y_shuffled = y[shuffled_indices]\n",
    "    for i in range(0, m, minibatch_size):\n",
    "        t += 1\n",
    "        xi = X_b_shuffled[i:i+minibatch_size]\n",
    "        yi = y_shuffled[i:i+minibatch_size]\n",
    "        gradients = 2/minibatch_size * xi.T.dot(xi.dot(theta) - yi)\n",
    "        eta = learning_schedule(t)\n",
    "        theta = theta - eta * gradients\n",
    "print(theta)"
   ]
  },
  {
   "cell_type": "code",
   "execution_count": null,
   "id": "b584deab",
   "metadata": {},
   "outputs": [],
   "source": []
  }
 ],
 "metadata": {
  "kernelspec": {
   "display_name": "Python 3 (ipykernel)",
   "language": "python",
   "name": "python3"
  },
  "language_info": {
   "codemirror_mode": {
    "name": "ipython",
    "version": 3
   },
   "file_extension": ".py",
   "mimetype": "text/x-python",
   "name": "python",
   "nbconvert_exporter": "python",
   "pygments_lexer": "ipython3",
   "version": "3.9.12"
  }
 },
 "nbformat": 4,
 "nbformat_minor": 5
}
