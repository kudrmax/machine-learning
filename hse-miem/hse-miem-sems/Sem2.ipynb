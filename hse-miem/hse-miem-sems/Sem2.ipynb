{
 "cells": [
  {
   "cell_type": "code",
   "execution_count": 27,
   "id": "93ac1a63",
   "metadata": {},
   "outputs": [
    {
     "name": "stdout",
     "output_type": "stream",
     "text": [
      "defaultdict(<function train.<locals>.<lambda> at 0x13545cb80>, {'F': 0.4, 'M': 0.6}) defaultdict(<function train.<locals>.<lambda> at 0x1355f0860>, {('F', 'a'): 0.5, ('M', 'q'): 0.3333333333333333, ('F', 'e'): 0.5, ('M', 'a'): 0.3333333333333333, ('M', 'y'): 0.3333333333333333})\n"
     ]
    }
   ],
   "source": [
    "from collections import defaultdict\n",
    "from math import log\n",
    "\n",
    "def train(samples):\n",
    "    classes, freq = defaultdict(lambda:0), defaultdict(lambda:0)\n",
    "    for feats, label in samples:\n",
    "        classes[label] += 1                 # count classes frequencies\n",
    "        for feat in feats:\n",
    "            freq[label, feat] += 1          # count features frequencies\n",
    "\n",
    "    for label, feat in freq:                # normalize features frequencies\n",
    "        freq[label, feat] /= classes[label]\n",
    "    for c in classes:                       # normalize classes frequencies\n",
    "        classes[c] /= len(samples)\n",
    "    print(classes, freq)\n",
    "    return classes, freq                    # return P(C) and P(O|C)\n",
    "\n",
    "def classify(classifier, feats):\n",
    "    classes, prob = classifier\n",
    "    return min(classes.keys(),              # calculate argmin(-log(P(C|O))) -> argmax(P(C|O))\n",
    "        key = lambda cl: -log(classes[cl]) + \\\n",
    "            sum(-log(prob.get((cl,feat))) for feat in feats))\n",
    "\n",
    "def get_features(sample): return (sample[-1]) # get last letter\n",
    "\n",
    "samples = ((\"Anna\", \"F\"), (\"Michaelq\", \"M\"), (\"Jane\", \"F\"), (\"Ilya\", \"M\"), (\"Anthony\", \"M\"))\n",
    "features = [(get_features(feat), label) for feat, label in samples]\n",
    "classifier = train(features)"
   ]
  },
  {
   "cell_type": "code",
   "execution_count": 28,
   "id": "b989e756",
   "metadata": {},
   "outputs": [
    {
     "data": {
      "text/plain": "(defaultdict(<function __main__.train.<locals>.<lambda>()>,\n             {'F': 0.4, 'M': 0.6}),\n defaultdict(<function __main__.train.<locals>.<lambda>()>,\n             {('F', 'a'): 0.5,\n              ('M', 'q'): 0.3333333333333333,\n              ('F', 'e'): 0.5,\n              ('M', 'a'): 0.3333333333333333,\n              ('M', 'y'): 0.3333333333333333}))"
     },
     "execution_count": 28,
     "metadata": {},
     "output_type": "execute_result"
    }
   ],
   "source": [
    "classifier"
   ]
  },
  {
   "cell_type": "code",
   "execution_count": 29,
   "id": "8886b6bc",
   "metadata": {},
   "outputs": [
    {
     "name": "stdout",
     "output_type": "stream",
     "text": [
      "gender:  F\n"
     ]
    }
   ],
   "source": [
    "print('gender: ', classify(classifier, get_features(u'Milana')))"
   ]
  },
  {
   "cell_type": "code",
   "execution_count": null,
   "id": "aaa34c14",
   "metadata": {},
   "outputs": [],
   "source": []
  }
 ],
 "metadata": {
  "kernelspec": {
   "display_name": "Python 3 (ipykernel)",
   "language": "python",
   "name": "python3"
  },
  "language_info": {
   "codemirror_mode": {
    "name": "ipython",
    "version": 3
   },
   "file_extension": ".py",
   "mimetype": "text/x-python",
   "name": "python",
   "nbconvert_exporter": "python",
   "pygments_lexer": "ipython3",
   "version": "3.9.12"
  }
 },
 "nbformat": 4,
 "nbformat_minor": 5
}
