{
 "cells": [
  {
   "cell_type": "code",
   "execution_count": 1,
   "metadata": {
    "collapsed": true
   },
   "outputs": [],
   "source": [
    "import pandas as pd\n",
    "import numpy as np\n",
    "from sklearn.model_selection import train_test_split\n",
    "from sklearn.metrics import accuracy_score\n",
    "from sklearn.metrics import recall_score\n",
    "from sklearn.metrics import precision_score\n",
    "\n",
    "from collections import defaultdict\n",
    "from math import log"
   ]
  },
  {
   "cell_type": "markdown",
   "source": [
    "# Считывание данных"
   ],
   "metadata": {
    "collapsed": false
   }
  },
  {
   "cell_type": "code",
   "execution_count": 2,
   "outputs": [
    {
     "data": {
      "text/plain": "        year      name   percent   sex\n0       1880      John  0.081541   boy\n1       1880   William  0.080511   boy\n2       1880     James  0.050057   boy\n3       1880   Charles  0.045167   boy\n4       1880    George  0.043292   boy\n...      ...       ...       ...   ...\n257995  2008  Carleigh  0.000128  girl\n257996  2008     Iyana  0.000128  girl\n257997  2008    Kenley  0.000127  girl\n257998  2008    Sloane  0.000127  girl\n257999  2008   Elianna  0.000127  girl\n\n[258000 rows x 4 columns]",
      "text/html": "<div>\n<style scoped>\n    .dataframe tbody tr th:only-of-type {\n        vertical-align: middle;\n    }\n\n    .dataframe tbody tr th {\n        vertical-align: top;\n    }\n\n    .dataframe thead th {\n        text-align: right;\n    }\n</style>\n<table border=\"1\" class=\"dataframe\">\n  <thead>\n    <tr style=\"text-align: right;\">\n      <th></th>\n      <th>year</th>\n      <th>name</th>\n      <th>percent</th>\n      <th>sex</th>\n    </tr>\n  </thead>\n  <tbody>\n    <tr>\n      <th>0</th>\n      <td>1880</td>\n      <td>John</td>\n      <td>0.081541</td>\n      <td>boy</td>\n    </tr>\n    <tr>\n      <th>1</th>\n      <td>1880</td>\n      <td>William</td>\n      <td>0.080511</td>\n      <td>boy</td>\n    </tr>\n    <tr>\n      <th>2</th>\n      <td>1880</td>\n      <td>James</td>\n      <td>0.050057</td>\n      <td>boy</td>\n    </tr>\n    <tr>\n      <th>3</th>\n      <td>1880</td>\n      <td>Charles</td>\n      <td>0.045167</td>\n      <td>boy</td>\n    </tr>\n    <tr>\n      <th>4</th>\n      <td>1880</td>\n      <td>George</td>\n      <td>0.043292</td>\n      <td>boy</td>\n    </tr>\n    <tr>\n      <th>...</th>\n      <td>...</td>\n      <td>...</td>\n      <td>...</td>\n      <td>...</td>\n    </tr>\n    <tr>\n      <th>257995</th>\n      <td>2008</td>\n      <td>Carleigh</td>\n      <td>0.000128</td>\n      <td>girl</td>\n    </tr>\n    <tr>\n      <th>257996</th>\n      <td>2008</td>\n      <td>Iyana</td>\n      <td>0.000128</td>\n      <td>girl</td>\n    </tr>\n    <tr>\n      <th>257997</th>\n      <td>2008</td>\n      <td>Kenley</td>\n      <td>0.000127</td>\n      <td>girl</td>\n    </tr>\n    <tr>\n      <th>257998</th>\n      <td>2008</td>\n      <td>Sloane</td>\n      <td>0.000127</td>\n      <td>girl</td>\n    </tr>\n    <tr>\n      <th>257999</th>\n      <td>2008</td>\n      <td>Elianna</td>\n      <td>0.000127</td>\n      <td>girl</td>\n    </tr>\n  </tbody>\n</table>\n<p>258000 rows × 4 columns</p>\n</div>"
     },
     "execution_count": 2,
     "metadata": {},
     "output_type": "execute_result"
    }
   ],
   "source": [
    "data = pd.read_csv(\"names.csv\")\n",
    "data"
   ],
   "metadata": {
    "collapsed": false
   }
  },
  {
   "cell_type": "markdown",
   "source": [
    "# Разделение на тестовую и обучающую выборку"
   ],
   "metadata": {
    "collapsed": false
   }
  },
  {
   "cell_type": "code",
   "execution_count": 3,
   "outputs": [],
   "source": [
    "data_train, data_test = train_test_split(data, test_size=0.3)"
   ],
   "metadata": {
    "collapsed": false
   }
  },
  {
   "cell_type": "code",
   "execution_count": 4,
   "outputs": [
    {
     "data": {
      "text/plain": "        year     name   percent   sex\n20617   1900      Ole  0.000105   boy\n68470   1948     Gail  0.000113   boy\n1289    1881    Abram  0.000277   boy\n128774  2008  Marcelo  0.000131   boy\n58287   1938    Garry  0.000324   boy\n...      ...      ...       ...   ...\n120277  2000    Randy  0.000544   boy\n180063  1931   Audrey  0.003431  girl\n191479  1942     Nona  0.000170  girl\n207347  1958   Cherie  0.000333  girl\n11876   1891     Elam  0.000055   boy\n\n[77400 rows x 4 columns]",
      "text/html": "<div>\n<style scoped>\n    .dataframe tbody tr th:only-of-type {\n        vertical-align: middle;\n    }\n\n    .dataframe tbody tr th {\n        vertical-align: top;\n    }\n\n    .dataframe thead th {\n        text-align: right;\n    }\n</style>\n<table border=\"1\" class=\"dataframe\">\n  <thead>\n    <tr style=\"text-align: right;\">\n      <th></th>\n      <th>year</th>\n      <th>name</th>\n      <th>percent</th>\n      <th>sex</th>\n    </tr>\n  </thead>\n  <tbody>\n    <tr>\n      <th>20617</th>\n      <td>1900</td>\n      <td>Ole</td>\n      <td>0.000105</td>\n      <td>boy</td>\n    </tr>\n    <tr>\n      <th>68470</th>\n      <td>1948</td>\n      <td>Gail</td>\n      <td>0.000113</td>\n      <td>boy</td>\n    </tr>\n    <tr>\n      <th>1289</th>\n      <td>1881</td>\n      <td>Abram</td>\n      <td>0.000277</td>\n      <td>boy</td>\n    </tr>\n    <tr>\n      <th>128774</th>\n      <td>2008</td>\n      <td>Marcelo</td>\n      <td>0.000131</td>\n      <td>boy</td>\n    </tr>\n    <tr>\n      <th>58287</th>\n      <td>1938</td>\n      <td>Garry</td>\n      <td>0.000324</td>\n      <td>boy</td>\n    </tr>\n    <tr>\n      <th>...</th>\n      <td>...</td>\n      <td>...</td>\n      <td>...</td>\n      <td>...</td>\n    </tr>\n    <tr>\n      <th>120277</th>\n      <td>2000</td>\n      <td>Randy</td>\n      <td>0.000544</td>\n      <td>boy</td>\n    </tr>\n    <tr>\n      <th>180063</th>\n      <td>1931</td>\n      <td>Audrey</td>\n      <td>0.003431</td>\n      <td>girl</td>\n    </tr>\n    <tr>\n      <th>191479</th>\n      <td>1942</td>\n      <td>Nona</td>\n      <td>0.000170</td>\n      <td>girl</td>\n    </tr>\n    <tr>\n      <th>207347</th>\n      <td>1958</td>\n      <td>Cherie</td>\n      <td>0.000333</td>\n      <td>girl</td>\n    </tr>\n    <tr>\n      <th>11876</th>\n      <td>1891</td>\n      <td>Elam</td>\n      <td>0.000055</td>\n      <td>boy</td>\n    </tr>\n  </tbody>\n</table>\n<p>77400 rows × 4 columns</p>\n</div>"
     },
     "execution_count": 4,
     "metadata": {},
     "output_type": "execute_result"
    }
   ],
   "source": [
    "data_test"
   ],
   "metadata": {
    "collapsed": false
   }
  },
  {
   "cell_type": "code",
   "execution_count": 6,
   "outputs": [
    {
     "data": {
      "text/plain": "        year         name   percent   sex\n192636  1943       Pattie  0.000099  girl\n157814  1908       Jackie  0.000065  girl\n225107  1976          Ann  0.001549  girl\n146510  1897      Delphia  0.000133  girl\n100303  1980         Toby  0.000350   boy\n...      ...          ...       ...   ...\n222215  1973      Darlene  0.000748  girl\n222722  1973       Adrian  0.000128  girl\n233502  1984  Christopher  0.000218  girl\n73951   1953         Oren  0.000029   boy\n115427  1995      Grayson  0.000264   boy\n\n[180600 rows x 4 columns]",
      "text/html": "<div>\n<style scoped>\n    .dataframe tbody tr th:only-of-type {\n        vertical-align: middle;\n    }\n\n    .dataframe tbody tr th {\n        vertical-align: top;\n    }\n\n    .dataframe thead th {\n        text-align: right;\n    }\n</style>\n<table border=\"1\" class=\"dataframe\">\n  <thead>\n    <tr style=\"text-align: right;\">\n      <th></th>\n      <th>year</th>\n      <th>name</th>\n      <th>percent</th>\n      <th>sex</th>\n    </tr>\n  </thead>\n  <tbody>\n    <tr>\n      <th>192636</th>\n      <td>1943</td>\n      <td>Pattie</td>\n      <td>0.000099</td>\n      <td>girl</td>\n    </tr>\n    <tr>\n      <th>157814</th>\n      <td>1908</td>\n      <td>Jackie</td>\n      <td>0.000065</td>\n      <td>girl</td>\n    </tr>\n    <tr>\n      <th>225107</th>\n      <td>1976</td>\n      <td>Ann</td>\n      <td>0.001549</td>\n      <td>girl</td>\n    </tr>\n    <tr>\n      <th>146510</th>\n      <td>1897</td>\n      <td>Delphia</td>\n      <td>0.000133</td>\n      <td>girl</td>\n    </tr>\n    <tr>\n      <th>100303</th>\n      <td>1980</td>\n      <td>Toby</td>\n      <td>0.000350</td>\n      <td>boy</td>\n    </tr>\n    <tr>\n      <th>...</th>\n      <td>...</td>\n      <td>...</td>\n      <td>...</td>\n      <td>...</td>\n    </tr>\n    <tr>\n      <th>222215</th>\n      <td>1973</td>\n      <td>Darlene</td>\n      <td>0.000748</td>\n      <td>girl</td>\n    </tr>\n    <tr>\n      <th>222722</th>\n      <td>1973</td>\n      <td>Adrian</td>\n      <td>0.000128</td>\n      <td>girl</td>\n    </tr>\n    <tr>\n      <th>233502</th>\n      <td>1984</td>\n      <td>Christopher</td>\n      <td>0.000218</td>\n      <td>girl</td>\n    </tr>\n    <tr>\n      <th>73951</th>\n      <td>1953</td>\n      <td>Oren</td>\n      <td>0.000029</td>\n      <td>boy</td>\n    </tr>\n    <tr>\n      <th>115427</th>\n      <td>1995</td>\n      <td>Grayson</td>\n      <td>0.000264</td>\n      <td>boy</td>\n    </tr>\n  </tbody>\n</table>\n<p>180600 rows × 4 columns</p>\n</div>"
     },
     "execution_count": 6,
     "metadata": {},
     "output_type": "execute_result"
    }
   ],
   "source": [
    "data_train"
   ],
   "metadata": {
    "collapsed": false
   }
  },
  {
   "cell_type": "markdown",
   "source": [
    "# Функция для наивной байесовской классификации"
   ],
   "metadata": {
    "collapsed": false
   }
  },
  {
   "cell_type": "code",
   "execution_count": 5,
   "outputs": [],
   "source": [
    "def naive_bayesian_train(samples):\n",
    "    classes, freq = defaultdict(lambda: 0), defaultdict(lambda: 0)\n",
    "\n",
    "    for feats, label in samples:\n",
    "        classes[label] += 1\n",
    "        for feat in feats:\n",
    "            freq[label, feat] += 1\n",
    "\n",
    "    for label, feat in freq:\n",
    "        freq[label, feat] /= classes[label]\n",
    "    for c in classes:\n",
    "        classes[c] /= len(samples)\n",
    "\n",
    "    return classes, freq\n",
    "\n",
    "\n",
    "def classify(classifier, feats):\n",
    "    classes, prob = classifier\n",
    "    return min(classes.keys(),\n",
    "               key=lambda cl: -log(classes[cl]) \\\n",
    "                              + sum(-log(prob.get((cl, feat))) if (cl, feat) in prob else 0 for feat in feats))"
   ],
   "metadata": {
    "collapsed": false
   }
  },
  {
   "cell_type": "code",
   "execution_count": 6,
   "outputs": [],
   "source": [
    "def get_features(sample: str):\n",
    "    \"\"\"\n",
    "    Функция для превращения слова в признак.\n",
    "    Признак: последняя буква.\n",
    "    \"\"\"\n",
    "    return sample[-1]  # get last letter"
   ],
   "metadata": {
    "collapsed": false
   }
  },
  {
   "cell_type": "markdown",
   "source": [
    "# Применение функции"
   ],
   "metadata": {
    "collapsed": false
   }
  },
  {
   "cell_type": "code",
   "execution_count": 7,
   "outputs": [
    {
     "data": {
      "text/plain": "array([['a', 'girl'],\n       ['a', 'girl'],\n       ['s', 'boy'],\n       ...,\n       ['a', 'girl'],\n       ['n', 'girl'],\n       ['s', 'boy']], dtype='<U4')"
     },
     "execution_count": 7,
     "metadata": {},
     "output_type": "execute_result"
    }
   ],
   "source": [
    "# обучение\n",
    "samples = [[get_features(name), lable] for name, lable in zip(data_train['name'], data_train['sex'])]\n",
    "np.array(samples) # (преобразую в np.array для нормального вывода на github)"
   ],
   "metadata": {
    "collapsed": false
   }
  },
  {
   "cell_type": "code",
   "execution_count": 8,
   "outputs": [
    {
     "data": {
      "text/plain": "(defaultdict(<function __main__.naive_bayesian_train.<locals>.<lambda>()>,\n             {'girl': 0.5002436323366556, 'boy': 0.4997563676633444}),\n defaultdict(<function __main__.naive_bayesian_train.<locals>.<lambda>()>,\n             {('girl', 'a'): 0.38399893739484636,\n              ('boy', 's'): 0.07875376706257756,\n              ('boy', 'e'): 0.138439549725226,\n              ('girl', 'n'): 0.08002745063313557,\n              ('boy', 'l'): 0.08334071973054423,\n              ('boy', 'n'): 0.21367000531820599,\n              ('girl', 'e'): 0.30212299654653324,\n              ('boy', 'a'): 0.015744105655025705,\n              ('boy', 'd'): 0.07288158127991491,\n              ('boy', 'x'): 0.0045093954972522604,\n              ('girl', 'o'): 0.004958824050296644,\n              ('girl', 'y'): 0.07828964845479501,\n              ('boy', 'y'): 0.11064084382201737,\n              ('girl', 'i'): 0.02776055963871425,\n              ('boy', 'r'): 0.061225846481120366,\n              ('boy', 'h'): 0.026845860663003013,\n              ('boy', 'k'): 0.02269101223187378,\n              ('boy', 'i'): 0.005307126396029073,\n              ('boy', 'c'): 0.009096348165218933,\n              ('girl', 's'): 0.02254715310369255,\n              ('girl', 't'): 0.010902771628442397,\n              ('boy', 't'): 0.05255052295692253,\n              ('boy', 'm'): 0.015888140400638184,\n              ('girl', 'l'): 0.03549765341361905,\n              ('boy', 'o'): 0.06296534302428647,\n              ('boy', 'f'): 0.0035011522779649,\n              ('girl', 'h'): 0.024661294607278846,\n              ('boy', 'g'): 0.006049459315724162,\n              ('girl', 'c'): 0.00028778889577614453,\n              ('boy', 'v'): 0.00047642262010281865,\n              ('boy', 'p'): 0.003323878744903386,\n              ('girl', 'r'): 0.011766138315770832,\n              ('girl', 'm'): 0.0030881962277517047,\n              ('boy', 'b'): 0.004021893281333097,\n              ('boy', 'w'): 0.004742067009395497,\n              ('girl', 'u'): 0.0018595590188612416,\n              ('girl', 'd'): 0.008024882670680952,\n              ('girl', 'z'): 0.0019259718409634287,\n              ('boy', 'z'): 0.002271317142350647,\n              ('girl', 'k'): 0.0009297795094306208,\n              ('boy', 'u'): 0.0008420492820421911,\n              ('girl', 'w'): 0.0004206145399805189,\n              ('girl', 'g'): 0.0005755777915522891,\n              ('girl', 'x'): 0.0002324448773576552,\n              ('girl', 'b'): 9.961923315328079e-05,\n              ('boy', 'q'): 0.00013295514979613543,\n              ('boy', 'j'): 8.863676653075696e-05,\n              ('girl', 'v'): 2.2137607367395732e-05}))"
     },
     "execution_count": 8,
     "metadata": {},
     "output_type": "execute_result"
    }
   ],
   "source": [
    "classifier = naive_bayesian_train(samples)\n",
    "classifier"
   ],
   "metadata": {
    "collapsed": false
   }
  },
  {
   "cell_type": "code",
   "execution_count": 9,
   "outputs": [
    {
     "name": "stdout",
     "output_type": "stream",
     "text": [
      "Max is a boy\n",
      "Nikita is a girl\n",
      "Vika is a girl\n"
     ]
    }
   ],
   "source": [
    "# проверка\n",
    "names = ['Max', 'Nikita', 'Vika']\n",
    "for name in names:\n",
    "    print(f\"{name} is a {classify(classifier, get_features(name))}\")"
   ],
   "metadata": {
    "collapsed": false
   }
  },
  {
   "cell_type": "code",
   "execution_count": 10,
   "outputs": [
    {
     "data": {
      "text/plain": "           name   sex predicted_sex\n20617       Ole   boy          girl\n68470      Gail   boy           boy\n1289      Abram   boy           boy\n128774  Marcelo   boy           boy\n58287     Garry   boy           boy\n...         ...   ...           ...\n120277    Randy   boy           boy\n180063   Audrey  girl           boy\n191479     Nona  girl          girl\n207347   Cherie  girl          girl\n11876      Elam   boy           boy\n\n[77400 rows x 3 columns]",
      "text/html": "<div>\n<style scoped>\n    .dataframe tbody tr th:only-of-type {\n        vertical-align: middle;\n    }\n\n    .dataframe tbody tr th {\n        vertical-align: top;\n    }\n\n    .dataframe thead th {\n        text-align: right;\n    }\n</style>\n<table border=\"1\" class=\"dataframe\">\n  <thead>\n    <tr style=\"text-align: right;\">\n      <th></th>\n      <th>name</th>\n      <th>sex</th>\n      <th>predicted_sex</th>\n    </tr>\n  </thead>\n  <tbody>\n    <tr>\n      <th>20617</th>\n      <td>Ole</td>\n      <td>boy</td>\n      <td>girl</td>\n    </tr>\n    <tr>\n      <th>68470</th>\n      <td>Gail</td>\n      <td>boy</td>\n      <td>boy</td>\n    </tr>\n    <tr>\n      <th>1289</th>\n      <td>Abram</td>\n      <td>boy</td>\n      <td>boy</td>\n    </tr>\n    <tr>\n      <th>128774</th>\n      <td>Marcelo</td>\n      <td>boy</td>\n      <td>boy</td>\n    </tr>\n    <tr>\n      <th>58287</th>\n      <td>Garry</td>\n      <td>boy</td>\n      <td>boy</td>\n    </tr>\n    <tr>\n      <th>...</th>\n      <td>...</td>\n      <td>...</td>\n      <td>...</td>\n    </tr>\n    <tr>\n      <th>120277</th>\n      <td>Randy</td>\n      <td>boy</td>\n      <td>boy</td>\n    </tr>\n    <tr>\n      <th>180063</th>\n      <td>Audrey</td>\n      <td>girl</td>\n      <td>boy</td>\n    </tr>\n    <tr>\n      <th>191479</th>\n      <td>Nona</td>\n      <td>girl</td>\n      <td>girl</td>\n    </tr>\n    <tr>\n      <th>207347</th>\n      <td>Cherie</td>\n      <td>girl</td>\n      <td>girl</td>\n    </tr>\n    <tr>\n      <th>11876</th>\n      <td>Elam</td>\n      <td>boy</td>\n      <td>boy</td>\n    </tr>\n  </tbody>\n</table>\n<p>77400 rows × 3 columns</p>\n</div>"
     },
     "execution_count": 10,
     "metadata": {},
     "output_type": "execute_result"
    }
   ],
   "source": [
    "# посмотрим на результат\n",
    "data_test['predicted_sex'] = [classify(classifier, get_features(name)) for name in data_test['name']]\n",
    "data_test[['name', 'sex', 'predicted_sex']]"
   ],
   "metadata": {
    "collapsed": false
   }
  },
  {
   "cell_type": "markdown",
   "source": [
    "# Проверка через метрики"
   ],
   "metadata": {
    "collapsed": false
   }
  },
  {
   "cell_type": "code",
   "execution_count": 11,
   "outputs": [
    {
     "name": "stdout",
     "output_type": "stream",
     "text": [
      "accuracy_naive = 0.773811369509044\n"
     ]
    }
   ],
   "source": [
    "# точность (accuracy)\n",
    "\n",
    "accuracy_naive = accuracy_score(data_test['sex'], data_test['predicted_sex'])\n",
    "print(f\"{accuracy_naive = }\")"
   ],
   "metadata": {
    "collapsed": false
   }
  },
  {
   "cell_type": "code",
   "execution_count": 12,
   "outputs": [
    {
     "name": "stdout",
     "output_type": "stream",
     "text": [
      "recall = [0.8319997935164154, 0.7154904801324503]\n"
     ]
    }
   ],
   "source": [
    "# полнота (recall) вычисленная вручную\n",
    "\n",
    "recall = [0, 0]\n",
    "\n",
    "# насколько верно он определяет мужские имена\n",
    "sex = 'boy'\n",
    "recall[0] = data_test.loc[data_test['sex'].str.contains(sex) & data_test['predicted_sex'].str.contains(sex)].shape[0] / \\\n",
    "            data_test.loc[data_test['sex'].str.contains(sex)].shape[0]\n",
    "\n",
    "# насколько верно он определяет мужские имена\n",
    "sex = 'girl'\n",
    "recall[1] = data_test.loc[data_test['sex'].str.contains(sex) & data_test['predicted_sex'].str.contains(sex)].shape[0] / \\\n",
    "            data_test.loc[data_test['sex'].str.contains(sex)].shape[0]\n",
    "\n",
    "print(f\"{recall = }\")"
   ],
   "metadata": {
    "collapsed": false
   }
  },
  {
   "cell_type": "code",
   "execution_count": 14,
   "outputs": [
    {
     "name": "stdout",
     "output_type": "stream",
     "text": [
      "recall_score = [0.83199979 0.71549048]\n"
     ]
    }
   ],
   "source": [
    "# полнота (recall) через sklearn\n",
    "\n",
    "print(f\"recall_score = {recall_score(data_test['sex'], data_test['predicted_sex'], average=None)}\")"
   ],
   "metadata": {
    "collapsed": false
   }
  },
  {
   "cell_type": "code",
   "execution_count": 15,
   "outputs": [
    {
     "name": "stdout",
     "output_type": "stream",
     "text": [
      "precision_score = [0.74561099 0.80949454]\n"
     ]
    }
   ],
   "source": [
    "# precision\n",
    "\n",
    "print(f\"precision_score = {precision_score(data_test['sex'], data_test['predicted_sex'], average=None)}\")"
   ],
   "metadata": {
    "collapsed": false
   }
  },
  {
   "cell_type": "markdown",
   "source": [
    "# Изменим get_features"
   ],
   "metadata": {
    "collapsed": false
   }
  },
  {
   "cell_type": "code",
   "execution_count": 19,
   "outputs": [
    {
     "name": "stdout",
     "output_type": "stream",
     "text": [
      "accuracy = 0.6994186046511628\n"
     ]
    }
   ],
   "source": [
    "def get_features(sample: str):\n",
    "    \"\"\"\n",
    "    Функция для превращения слова в признак.\n",
    "    Признак: последние 2 буквы.\n",
    "    \"\"\"\n",
    "    return sample[-2:]\n",
    "\n",
    "\n",
    "samples = [[get_features(name), lable] for name, lable in zip(data_train['name'], data_train['sex'])]\n",
    "classifier = naive_bayesian_train(samples)\n",
    "data_test['predicted_sex'] = [classify(classifier, get_features(name)) for name in data_test['name']]\n",
    "accuracy = accuracy_score(data_test['sex'], data_test['predicted_sex'])\n",
    "print(f\"{accuracy = }\")"
   ],
   "metadata": {
    "collapsed": false
   }
  },
  {
   "cell_type": "code",
   "execution_count": 20,
   "outputs": [
    {
     "name": "stdout",
     "output_type": "stream",
     "text": [
      "accuracy = 0.7071447028423773\n"
     ]
    }
   ],
   "source": [
    "def get_features(sample: str):\n",
    "    \"\"\"\n",
    "    Функция для превращения слова в признак.\n",
    "    Признак: Первая + последняя буквы.\n",
    "    \"\"\"\n",
    "    return sample[1] + sample[-1]  # get last letter\n",
    "\n",
    "\n",
    "samples = [[get_features(name), lable] for name, lable in zip(data_train['name'], data_train['sex'])]\n",
    "classifier = naive_bayesian_train(samples)\n",
    "data_test['predicted_sex'] = [classify(classifier, get_features(name)) for name in data_test['name']]\n",
    "accuracy = accuracy_score(data_test['sex'], data_test['predicted_sex'])\n",
    "print(f\"{accuracy = }\")"
   ],
   "metadata": {
    "collapsed": false
   }
  },
  {
   "cell_type": "markdown",
   "source": [
    "При обоих изменениях точность упала. Вывод: признаки влияют на результат. В нашем случае самый удачный признак — последняя буква"
   ],
   "metadata": {
    "collapsed": false
   }
  },
  {
   "cell_type": "markdown",
   "source": [
    "# Изменим classify"
   ],
   "metadata": {
    "collapsed": false
   }
  },
  {
   "cell_type": "code",
   "execution_count": 23,
   "outputs": [],
   "source": [
    "def get_features(sample: str):\n",
    "    \"\"\"\n",
    "    Функция для превращения слова в признак.\n",
    "    Признак: последняя буква.\n",
    "    \"\"\"\n",
    "    return sample[-1]  # get last letter"
   ],
   "metadata": {
    "collapsed": false
   }
  },
  {
   "cell_type": "code",
   "execution_count": 24,
   "outputs": [
    {
     "name": "stdout",
     "output_type": "stream",
     "text": [
      "accuracy = 0.7767312661498708\n"
     ]
    }
   ],
   "source": [
    "def classify(classifier, feats):\n",
    "    \"\"\"\n",
    "    Функция для классификации\n",
    "    \"\"\"\n",
    "    classes, prob = classifier\n",
    "    return max(classes.keys(),\n",
    "               key=lambda cl: classes[cl] \\\n",
    "                              + sum(prob.get((cl, feat)) if (cl, feat) in prob else 0 for feat in feats))\n",
    "\n",
    "\n",
    "samples = [[get_features(name), lable] for name, lable in zip(data_train['name'], data_train['sex'])]\n",
    "classifier = naive_bayesian_train(samples)\n",
    "data_test['predicted_sex'] = [classify(classifier, get_features(name)) for name in data_test['name']]\n",
    "accuracy = accuracy_score(data_test['sex'], data_test['predicted_sex'])\n",
    "print(f\"{accuracy = }\")"
   ],
   "metadata": {
    "collapsed": false
   }
  },
  {
   "cell_type": "code",
   "execution_count": 27,
   "outputs": [
    {
     "name": "stdout",
     "output_type": "stream",
     "text": [
      "accuracy = 0.7734237726098191\n"
     ]
    }
   ],
   "source": [
    "def classify(classifier, feats):\n",
    "    \"\"\"\n",
    "    Функция для классификации\n",
    "    \"\"\"\n",
    "    classes, prob = classifier\n",
    "    return max(classes.keys(),\n",
    "               key=lambda cl: classes[cl] \\\n",
    "                              + sum(prob.get((cl, feat)) if (cl, feat) in prob else 1 for feat in feats))\n",
    "\n",
    "\n",
    "samples = [[get_features(name), lable] for name, lable in zip(data_train['name'], data_train['sex'])]\n",
    "classifier = naive_bayesian_train(samples)\n",
    "data_test['predicted_sex'] = [classify(classifier, get_features(name)) for name in data_test['name']]\n",
    "accuracy = accuracy_score(data_test['sex'], data_test['predicted_sex'])\n",
    "print(f\"{accuracy = }\")"
   ],
   "metadata": {
    "collapsed": false
   }
  },
  {
   "cell_type": "markdown",
   "source": [
    "Видно, что незначительно изменилась. Как будто бы можно считать, что не изменилась."
   ],
   "metadata": {
    "collapsed": false
   }
  },
  {
   "cell_type": "markdown",
   "source": [
    "# sklearn.naive_bayes"
   ],
   "metadata": {
    "collapsed": false
   }
  },
  {
   "cell_type": "code",
   "execution_count": 28,
   "outputs": [
    {
     "name": "stdout",
     "output_type": "stream",
     "text": [
      "Наивный: 0.773811369509044\n",
      "Гаусс: 0.7325775193798449\n",
      "Мультиномиальный: 0.498953488372093\n"
     ]
    }
   ],
   "source": [
    "from sklearn.naive_bayes import GaussianNB\n",
    "from sklearn.naive_bayes import MultinomialNB\n",
    "\n",
    "data = pd.read_csv('names.csv')\n",
    "X, y = data['name'], data['sex']\n",
    "\n",
    "# превратим имена в последнюю букву\n",
    "X_numbers = np.array([ord(x[-1]) for x in X])\n",
    "\n",
    "# разделим данные\n",
    "X_train, X_test, y_train, y_test = train_test_split(X_numbers, y, test_size=0.2)\n",
    "\n",
    "# гауссовский метод\n",
    "clf = GaussianNB()\n",
    "clf.fit(X_train.reshape(-1, 1), y_train)\n",
    "y_pred_gauss = clf.predict(X_test.reshape(-1, 1))\n",
    "\n",
    "# мультиноминальный\n",
    "clf = MultinomialNB()\n",
    "clf.fit(X_train.reshape(-1, 1), y_train)\n",
    "y_pred_multi = clf.predict(X_test.reshape(-1, 1))\n",
    "\n",
    "# точность\n",
    "accuracy_gauss = accuracy_score(y_test, y_pred_gauss)\n",
    "accuracy_multi = accuracy_score(y_test, y_pred_multi)\n",
    "print(f\"Наивный: {accuracy_naive}\")\n",
    "print(f\"Гаусс: {accuracy_gauss}\")\n",
    "print(f\"Мультиномиальный: {accuracy_multi}\")"
   ],
   "metadata": {
    "collapsed": false
   }
  },
  {
   "cell_type": "markdown",
   "source": [
    "Видно, что наиболее точный метод — наивный байесовский, который написан руками. Гауссовский показал себя похуже. У мультиномиального точность сопоставима с угадыванием."
   ],
   "metadata": {
    "collapsed": false
   }
  },
  {
   "cell_type": "code",
   "execution_count": null,
   "outputs": [],
   "source": [],
   "metadata": {
    "collapsed": false
   }
  }
 ],
 "metadata": {
  "kernelspec": {
   "display_name": "Python 3",
   "language": "python",
   "name": "python3"
  },
  "language_info": {
   "codemirror_mode": {
    "name": "ipython",
    "version": 2
   },
   "file_extension": ".py",
   "mimetype": "text/x-python",
   "name": "python",
   "nbconvert_exporter": "python",
   "pygments_lexer": "ipython2",
   "version": "2.7.6"
  }
 },
 "nbformat": 4,
 "nbformat_minor": 0
}
