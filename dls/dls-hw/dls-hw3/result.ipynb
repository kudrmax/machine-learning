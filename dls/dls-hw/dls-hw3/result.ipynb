{
 "cells": [
  {
   "cell_type": "code",
   "execution_count": 42,
   "outputs": [],
   "source": [
    "import pandas as pd\n",
    "import numpy as np\n",
    "from matplotlib import pyplot as plt"
   ],
   "metadata": {
    "collapsed": false
   }
  },
  {
   "cell_type": "markdown",
   "source": [
    "# Чтение данных"
   ],
   "metadata": {
    "collapsed": false
   }
  },
  {
   "cell_type": "code",
   "execution_count": 43,
   "outputs": [
    {
     "data": {
      "text/plain": "      ClientPeriod  MonthlySpending TotalSpent     Sex  IsSeniorCitizen  \\\n3908            71            19.45    1378.45    Male                0   \n1717            30            86.45    2538.05  Female                0   \n4430            71            64.05     4492.9  Female                0   \n1904            44            84.80    3862.55  Female                0   \n2925             1            69.60       69.6  Female                0   \n\n     HasPartner HasChild HasPhoneService HasMultiplePhoneNumbers  \\\n3908        Yes      Yes             Yes                      No   \n1717        Yes      Yes             Yes                      No   \n4430        Yes      Yes             Yes                      No   \n1904         No       No             Yes                     Yes   \n2925         No       No             Yes                      No   \n\n     HasInternetService HasOnlineSecurityService      HasOnlineBackup  \\\n3908                 No      No internet service  No internet service   \n1717        Fiber optic                       No                   No   \n4430                DSL                      Yes                  Yes   \n1904        Fiber optic                       No                  Yes   \n2925        Fiber optic                       No                   No   \n\n      HasDeviceProtection HasTechSupportAccess          HasOnlineTV  \\\n3908  No internet service  No internet service  No internet service   \n1717                  Yes                   No                   No   \n4430                  Yes                  Yes                   No   \n1904                  Yes                   No                   No   \n2925                   No                   No                   No   \n\n     HasMovieSubscription HasContractPhone IsBillingPaperless  \\\n3908  No internet service         Two year                 No   \n1717                  Yes         One year                 No   \n4430                   No         Two year                 No   \n1904                   No   Month-to-month                Yes   \n2925                   No   Month-to-month                Yes   \n\n                  PaymentMethod  Churn  \n3908               Mailed check      0  \n1717           Electronic check      0  \n4430    Credit card (automatic)      0  \n1904  Bank transfer (automatic)      1  \n2925           Electronic check      1  ",
      "text/html": "<div>\n<style scoped>\n    .dataframe tbody tr th:only-of-type {\n        vertical-align: middle;\n    }\n\n    .dataframe tbody tr th {\n        vertical-align: top;\n    }\n\n    .dataframe thead th {\n        text-align: right;\n    }\n</style>\n<table border=\"1\" class=\"dataframe\">\n  <thead>\n    <tr style=\"text-align: right;\">\n      <th></th>\n      <th>ClientPeriod</th>\n      <th>MonthlySpending</th>\n      <th>TotalSpent</th>\n      <th>Sex</th>\n      <th>IsSeniorCitizen</th>\n      <th>HasPartner</th>\n      <th>HasChild</th>\n      <th>HasPhoneService</th>\n      <th>HasMultiplePhoneNumbers</th>\n      <th>HasInternetService</th>\n      <th>HasOnlineSecurityService</th>\n      <th>HasOnlineBackup</th>\n      <th>HasDeviceProtection</th>\n      <th>HasTechSupportAccess</th>\n      <th>HasOnlineTV</th>\n      <th>HasMovieSubscription</th>\n      <th>HasContractPhone</th>\n      <th>IsBillingPaperless</th>\n      <th>PaymentMethod</th>\n      <th>Churn</th>\n    </tr>\n  </thead>\n  <tbody>\n    <tr>\n      <th>3908</th>\n      <td>71</td>\n      <td>19.45</td>\n      <td>1378.45</td>\n      <td>Male</td>\n      <td>0</td>\n      <td>Yes</td>\n      <td>Yes</td>\n      <td>Yes</td>\n      <td>No</td>\n      <td>No</td>\n      <td>No internet service</td>\n      <td>No internet service</td>\n      <td>No internet service</td>\n      <td>No internet service</td>\n      <td>No internet service</td>\n      <td>No internet service</td>\n      <td>Two year</td>\n      <td>No</td>\n      <td>Mailed check</td>\n      <td>0</td>\n    </tr>\n    <tr>\n      <th>1717</th>\n      <td>30</td>\n      <td>86.45</td>\n      <td>2538.05</td>\n      <td>Female</td>\n      <td>0</td>\n      <td>Yes</td>\n      <td>Yes</td>\n      <td>Yes</td>\n      <td>No</td>\n      <td>Fiber optic</td>\n      <td>No</td>\n      <td>No</td>\n      <td>Yes</td>\n      <td>No</td>\n      <td>No</td>\n      <td>Yes</td>\n      <td>One year</td>\n      <td>No</td>\n      <td>Electronic check</td>\n      <td>0</td>\n    </tr>\n    <tr>\n      <th>4430</th>\n      <td>71</td>\n      <td>64.05</td>\n      <td>4492.9</td>\n      <td>Female</td>\n      <td>0</td>\n      <td>Yes</td>\n      <td>Yes</td>\n      <td>Yes</td>\n      <td>No</td>\n      <td>DSL</td>\n      <td>Yes</td>\n      <td>Yes</td>\n      <td>Yes</td>\n      <td>Yes</td>\n      <td>No</td>\n      <td>No</td>\n      <td>Two year</td>\n      <td>No</td>\n      <td>Credit card (automatic)</td>\n      <td>0</td>\n    </tr>\n    <tr>\n      <th>1904</th>\n      <td>44</td>\n      <td>84.80</td>\n      <td>3862.55</td>\n      <td>Female</td>\n      <td>0</td>\n      <td>No</td>\n      <td>No</td>\n      <td>Yes</td>\n      <td>Yes</td>\n      <td>Fiber optic</td>\n      <td>No</td>\n      <td>Yes</td>\n      <td>Yes</td>\n      <td>No</td>\n      <td>No</td>\n      <td>No</td>\n      <td>Month-to-month</td>\n      <td>Yes</td>\n      <td>Bank transfer (automatic)</td>\n      <td>1</td>\n    </tr>\n    <tr>\n      <th>2925</th>\n      <td>1</td>\n      <td>69.60</td>\n      <td>69.6</td>\n      <td>Female</td>\n      <td>0</td>\n      <td>No</td>\n      <td>No</td>\n      <td>Yes</td>\n      <td>No</td>\n      <td>Fiber optic</td>\n      <td>No</td>\n      <td>No</td>\n      <td>No</td>\n      <td>No</td>\n      <td>No</td>\n      <td>No</td>\n      <td>Month-to-month</td>\n      <td>Yes</td>\n      <td>Electronic check</td>\n      <td>1</td>\n    </tr>\n  </tbody>\n</table>\n</div>"
     },
     "execution_count": 43,
     "metadata": {},
     "output_type": "execute_result"
    }
   ],
   "source": [
    "data = pd.read_csv('train.csv')\n",
    "data.sample(n=5)  # посмотрим на 5 случайных строк"
   ],
   "metadata": {
    "collapsed": false
   }
  },
  {
   "cell_type": "code",
   "execution_count": 44,
   "outputs": [],
   "source": [
    "# название колонок для числовых и категориальных признаков\n",
    "\n",
    "# числовые признаки\n",
    "numerical_columns = [\n",
    "    'ClientPeriod',\n",
    "    'MonthlySpending',\n",
    "    'TotalSpent'\n",
    "]\n",
    "\n",
    "# категориальные признаки\n",
    "catigorial_columns = [\n",
    "    'Sex',\n",
    "    'IsSeniorCitizen',\n",
    "    'HasPartner',\n",
    "    'HasChild',\n",
    "    'HasPhoneService',\n",
    "    'HasMultiplePhoneNumbers',\n",
    "    'HasInternetService',\n",
    "    'HasOnlineSecurityService',\n",
    "    'HasOnlineBackup',\n",
    "    'HasDeviceProtection',\n",
    "    'HasTechSupportAccess',\n",
    "    'HasOnlineTV',\n",
    "    'HasMovieSubscription',\n",
    "    'HasContractPhone',\n",
    "    'IsBillingPaperless',\n",
    "    'PaymentMethod'\n",
    "]\n",
    "\n",
    "# все признаки\n",
    "feature_columns = numerical_columns + catigorial_columns\n",
    "\n",
    "# целевой признак\n",
    "target_column = 'Churn'"
   ],
   "metadata": {
    "collapsed": false
   }
  },
  {
   "cell_type": "code",
   "execution_count": 45,
   "outputs": [],
   "source": [
    "data = data.replace('?', np.nan)\n",
    "data = data.replace('', np.nan)\n",
    "data = data.replace(' ', np.nan)"
   ],
   "metadata": {
    "collapsed": false
   }
  },
  {
   "cell_type": "markdown",
   "source": [
    "### Удалим все non'ы"
   ],
   "metadata": {
    "collapsed": false
   }
  },
  {
   "cell_type": "markdown",
   "source": [
    "Посмотрим есть ли незаполненные признаки (nan'ы)"
   ],
   "metadata": {
    "collapsed": false
   }
  },
  {
   "cell_type": "code",
   "execution_count": 46,
   "outputs": [
    {
     "data": {
      "text/plain": "ClientPeriod                0\nMonthlySpending             0\nTotalSpent                  9\nSex                         0\nIsSeniorCitizen             0\nHasPartner                  0\nHasChild                    0\nHasPhoneService             0\nHasMultiplePhoneNumbers     0\nHasInternetService          0\nHasOnlineSecurityService    0\nHasOnlineBackup             0\nHasDeviceProtection         0\nHasTechSupportAccess        0\nHasOnlineTV                 0\nHasMovieSubscription        0\nHasContractPhone            0\nIsBillingPaperless          0\nPaymentMethod               0\nChurn                       0\ndtype: int64"
     },
     "execution_count": 46,
     "metadata": {},
     "output_type": "execute_result"
    }
   ],
   "source": [
    "data.isna().sum()"
   ],
   "metadata": {
    "collapsed": false
   }
  },
  {
   "cell_type": "markdown",
   "source": [
    "Видео, что есть nun в колонке TotalSpent. Эти строки с nan."
   ],
   "metadata": {
    "collapsed": false
   }
  },
  {
   "cell_type": "code",
   "execution_count": 47,
   "outputs": [
    {
     "data": {
      "text/plain": "ClientPeriod                0\nMonthlySpending             0\nTotalSpent                  0\nSex                         0\nIsSeniorCitizen             0\nHasPartner                  0\nHasChild                    0\nHasPhoneService             0\nHasMultiplePhoneNumbers     0\nHasInternetService          0\nHasOnlineSecurityService    0\nHasOnlineBackup             0\nHasDeviceProtection         0\nHasTechSupportAccess        0\nHasOnlineTV                 0\nHasMovieSubscription        0\nHasContractPhone            0\nIsBillingPaperless          0\nPaymentMethod               0\nChurn                       0\ndtype: int64"
     },
     "execution_count": 47,
     "metadata": {},
     "output_type": "execute_result"
    }
   ],
   "source": [
    "data = data.dropna()\n",
    "data.isna().sum()"
   ],
   "metadata": {
    "collapsed": false
   }
  },
  {
   "cell_type": "markdown",
   "source": [
    "# Применение линейных моделей"
   ],
   "metadata": {
    "collapsed": false
   }
  },
  {
   "cell_type": "markdown",
   "source": [
    "1) Обработайте данные для того, чтобы к ним можно было применить LogisticRegression. Т.е. отнормируйте числовые признаки, а категориальные закодируйте с помощью one-hot-encoding'а.\n",
    "\n",
    "2) С помощью кроссвалидации или разделения на train/valid выборку протестируйте разные значения гиперпараметра C и выберите лучший (можно тестировать С=100, 10, 1, 0.1, 0.01, 0.001) по метрике ROC-AUC.\n",
    "\n",
    "Если вы разделяете на train/valid, то используйте LogisticRegressionCV. Он сам при вызове .fit() подберет параметр С. (не забудьте передать scroing='roc_auc', чтобы при кроссвалидации сравнивались значения этой метрики, и refit=True, чтобы при потом модель обучилась на всем датасете с лучшим параметром C).\n",
    "\n",
    "\n",
    "(более сложный вариант) Если вы будете использовать кроссвалидацию, то преобразования данных и LogisticRegression нужно соединить в один Pipeline с помощью make_pipeline, как это делалось во втором семинаре. Потом pipeline надо передать в GridSearchCV. Для one-hot-encoding'a можно испльзовать комбинацию LabelEncoder + OneHotEncoder (сначала превращаем строчки в числа, а потом числа првращаем в one-hot вектора.)"
   ],
   "metadata": {
    "collapsed": false
   }
  },
  {
   "cell_type": "code",
   "execution_count": 64,
   "outputs": [],
   "source": [
    "numeric_data = data[numerical_columns]\n",
    "categorial_data = data[catigorial_columns]"
   ],
   "metadata": {
    "collapsed": false
   }
  },
  {
   "cell_type": "code",
   "execution_count": 67,
   "outputs": [
    {
     "data": {
      "text/plain": "   ClientPeriod  MonthlySpending  TotalSpent\n0      0.919099        -1.506436   -0.557582\n1      1.612060        -1.295997   -0.184763\n2     -1.282072         0.362658   -0.976504\n3     -0.018437         0.475334    0.122800\n4      1.122911         1.666716    1.968909",
      "text/html": "<div>\n<style scoped>\n    .dataframe tbody tr th:only-of-type {\n        vertical-align: middle;\n    }\n\n    .dataframe tbody tr th {\n        vertical-align: top;\n    }\n\n    .dataframe thead th {\n        text-align: right;\n    }\n</style>\n<table border=\"1\" class=\"dataframe\">\n  <thead>\n    <tr style=\"text-align: right;\">\n      <th></th>\n      <th>ClientPeriod</th>\n      <th>MonthlySpending</th>\n      <th>TotalSpent</th>\n    </tr>\n  </thead>\n  <tbody>\n    <tr>\n      <th>0</th>\n      <td>0.919099</td>\n      <td>-1.506436</td>\n      <td>-0.557582</td>\n    </tr>\n    <tr>\n      <th>1</th>\n      <td>1.612060</td>\n      <td>-1.295997</td>\n      <td>-0.184763</td>\n    </tr>\n    <tr>\n      <th>2</th>\n      <td>-1.282072</td>\n      <td>0.362658</td>\n      <td>-0.976504</td>\n    </tr>\n    <tr>\n      <th>3</th>\n      <td>-0.018437</td>\n      <td>0.475334</td>\n      <td>0.122800</td>\n    </tr>\n    <tr>\n      <th>4</th>\n      <td>1.122911</td>\n      <td>1.666716</td>\n      <td>1.968909</td>\n    </tr>\n  </tbody>\n</table>\n</div>"
     },
     "execution_count": 67,
     "metadata": {},
     "output_type": "execute_result"
    }
   ],
   "source": [
    "# нормировка численных признаков\n",
    "\n",
    "from sklearn.preprocessing import StandardScaler\n",
    "\n",
    "scaler = StandardScaler()\n",
    "numeric_data = pd.DataFrame(scaler.fit_transform(numeric_data), columns=numerical_columns)\n",
    "numeric_data.head()"
   ],
   "metadata": {
    "collapsed": false
   }
  },
  {
   "cell_type": "code",
   "execution_count": 68,
   "outputs": [
    {
     "data": {
      "text/plain": "   IsSeniorCitizen  Sex_Female  Sex_Male  HasPartner_No  HasPartner_Yes  \\\n0                0       False      True          False            True   \n1                0       False      True          False            True   \n2                0       False      True           True           False   \n3                1        True     False          False            True   \n4                0        True     False          False            True   \n\n   HasChild_No  HasChild_Yes  HasPhoneService_No  HasPhoneService_Yes  \\\n0        False          True               False                 True   \n1         True         False               False                 True   \n2         True         False               False                 True   \n3         True         False               False                 True   \n4        False          True               False                 True   \n\n   HasMultiplePhoneNumbers_No  ...  HasMovieSubscription_Yes  \\\n0                        True  ...                     False   \n1                       False  ...                     False   \n2                        True  ...                     False   \n3                       False  ...                     False   \n4                       False  ...                      True   \n\n   HasContractPhone_Month-to-month  HasContractPhone_One year  \\\n0                            False                       True   \n1                            False                      False   \n2                             True                      False   \n3                             True                      False   \n4                            False                      False   \n\n   HasContractPhone_Two year  IsBillingPaperless_No  IsBillingPaperless_Yes  \\\n0                      False                   True                   False   \n1                       True                   True                   False   \n2                      False                  False                    True   \n3                      False                   True                   False   \n4                       True                   True                   False   \n\n   PaymentMethod_Bank transfer (automatic)  \\\n0                                    False   \n1                                    False   \n2                                    False   \n3                                    False   \n4                                    False   \n\n   PaymentMethod_Credit card (automatic)  PaymentMethod_Electronic check  \\\n0                                  False                           False   \n1                                   True                           False   \n2                                  False                            True   \n3                                  False                           False   \n4                                   True                           False   \n\n   PaymentMethod_Mailed check  \n0                        True  \n1                       False  \n2                       False  \n3                        True  \n4                       False  \n\n[5 rows x 42 columns]",
      "text/html": "<div>\n<style scoped>\n    .dataframe tbody tr th:only-of-type {\n        vertical-align: middle;\n    }\n\n    .dataframe tbody tr th {\n        vertical-align: top;\n    }\n\n    .dataframe thead th {\n        text-align: right;\n    }\n</style>\n<table border=\"1\" class=\"dataframe\">\n  <thead>\n    <tr style=\"text-align: right;\">\n      <th></th>\n      <th>IsSeniorCitizen</th>\n      <th>Sex_Female</th>\n      <th>Sex_Male</th>\n      <th>HasPartner_No</th>\n      <th>HasPartner_Yes</th>\n      <th>HasChild_No</th>\n      <th>HasChild_Yes</th>\n      <th>HasPhoneService_No</th>\n      <th>HasPhoneService_Yes</th>\n      <th>HasMultiplePhoneNumbers_No</th>\n      <th>...</th>\n      <th>HasMovieSubscription_Yes</th>\n      <th>HasContractPhone_Month-to-month</th>\n      <th>HasContractPhone_One year</th>\n      <th>HasContractPhone_Two year</th>\n      <th>IsBillingPaperless_No</th>\n      <th>IsBillingPaperless_Yes</th>\n      <th>PaymentMethod_Bank transfer (automatic)</th>\n      <th>PaymentMethod_Credit card (automatic)</th>\n      <th>PaymentMethod_Electronic check</th>\n      <th>PaymentMethod_Mailed check</th>\n    </tr>\n  </thead>\n  <tbody>\n    <tr>\n      <th>0</th>\n      <td>0</td>\n      <td>False</td>\n      <td>True</td>\n      <td>False</td>\n      <td>True</td>\n      <td>False</td>\n      <td>True</td>\n      <td>False</td>\n      <td>True</td>\n      <td>True</td>\n      <td>...</td>\n      <td>False</td>\n      <td>False</td>\n      <td>True</td>\n      <td>False</td>\n      <td>True</td>\n      <td>False</td>\n      <td>False</td>\n      <td>False</td>\n      <td>False</td>\n      <td>True</td>\n    </tr>\n    <tr>\n      <th>1</th>\n      <td>0</td>\n      <td>False</td>\n      <td>True</td>\n      <td>False</td>\n      <td>True</td>\n      <td>True</td>\n      <td>False</td>\n      <td>False</td>\n      <td>True</td>\n      <td>False</td>\n      <td>...</td>\n      <td>False</td>\n      <td>False</td>\n      <td>False</td>\n      <td>True</td>\n      <td>True</td>\n      <td>False</td>\n      <td>False</td>\n      <td>True</td>\n      <td>False</td>\n      <td>False</td>\n    </tr>\n    <tr>\n      <th>2</th>\n      <td>0</td>\n      <td>False</td>\n      <td>True</td>\n      <td>True</td>\n      <td>False</td>\n      <td>True</td>\n      <td>False</td>\n      <td>False</td>\n      <td>True</td>\n      <td>True</td>\n      <td>...</td>\n      <td>False</td>\n      <td>True</td>\n      <td>False</td>\n      <td>False</td>\n      <td>False</td>\n      <td>True</td>\n      <td>False</td>\n      <td>False</td>\n      <td>True</td>\n      <td>False</td>\n    </tr>\n    <tr>\n      <th>3</th>\n      <td>1</td>\n      <td>True</td>\n      <td>False</td>\n      <td>False</td>\n      <td>True</td>\n      <td>True</td>\n      <td>False</td>\n      <td>False</td>\n      <td>True</td>\n      <td>False</td>\n      <td>...</td>\n      <td>False</td>\n      <td>True</td>\n      <td>False</td>\n      <td>False</td>\n      <td>True</td>\n      <td>False</td>\n      <td>False</td>\n      <td>False</td>\n      <td>False</td>\n      <td>True</td>\n    </tr>\n    <tr>\n      <th>4</th>\n      <td>0</td>\n      <td>True</td>\n      <td>False</td>\n      <td>False</td>\n      <td>True</td>\n      <td>False</td>\n      <td>True</td>\n      <td>False</td>\n      <td>True</td>\n      <td>False</td>\n      <td>...</td>\n      <td>True</td>\n      <td>False</td>\n      <td>False</td>\n      <td>True</td>\n      <td>True</td>\n      <td>False</td>\n      <td>False</td>\n      <td>True</td>\n      <td>False</td>\n      <td>False</td>\n    </tr>\n  </tbody>\n</table>\n<p>5 rows × 42 columns</p>\n</div>"
     },
     "execution_count": 68,
     "metadata": {},
     "output_type": "execute_result"
    }
   ],
   "source": [
    "# one-hot-encoding для категориальных признаков\n",
    "categorial_data_dummy = pd.get_dummies(categorial_data)\n",
    "categorial_data_dummy.head()"
   ],
   "metadata": {
    "collapsed": false
   }
  },
  {
   "cell_type": "code",
   "execution_count": 69,
   "outputs": [
    {
     "data": {
      "text/plain": "   ClientPeriod  MonthlySpending  TotalSpent  IsSeniorCitizen Sex_Female  \\\n0      0.919099        -1.506436   -0.557582              0.0      False   \n1      1.612060        -1.295997   -0.184763              0.0      False   \n2     -1.282072         0.362658   -0.976504              0.0      False   \n3     -0.018437         0.475334    0.122800              1.0       True   \n4      1.122911         1.666716    1.968909              0.0       True   \n\n  Sex_Male HasPartner_No HasPartner_Yes HasChild_No HasChild_Yes  ...  \\\n0     True         False           True       False         True  ...   \n1     True         False           True        True        False  ...   \n2     True          True          False        True        False  ...   \n3    False         False           True        True        False  ...   \n4    False         False           True       False         True  ...   \n\n  HasMovieSubscription_Yes HasContractPhone_Month-to-month  \\\n0                    False                           False   \n1                    False                           False   \n2                    False                            True   \n3                    False                            True   \n4                     True                           False   \n\n  HasContractPhone_One year HasContractPhone_Two year IsBillingPaperless_No  \\\n0                      True                     False                  True   \n1                     False                      True                  True   \n2                     False                     False                 False   \n3                     False                     False                  True   \n4                     False                      True                  True   \n\n  IsBillingPaperless_Yes PaymentMethod_Bank transfer (automatic)  \\\n0                  False                                   False   \n1                  False                                   False   \n2                   True                                   False   \n3                  False                                   False   \n4                  False                                   False   \n\n  PaymentMethod_Credit card (automatic) PaymentMethod_Electronic check  \\\n0                                 False                          False   \n1                                  True                          False   \n2                                 False                           True   \n3                                 False                          False   \n4                                  True                          False   \n\n  PaymentMethod_Mailed check  \n0                       True  \n1                      False  \n2                      False  \n3                       True  \n4                      False  \n\n[5 rows x 45 columns]",
      "text/html": "<div>\n<style scoped>\n    .dataframe tbody tr th:only-of-type {\n        vertical-align: middle;\n    }\n\n    .dataframe tbody tr th {\n        vertical-align: top;\n    }\n\n    .dataframe thead th {\n        text-align: right;\n    }\n</style>\n<table border=\"1\" class=\"dataframe\">\n  <thead>\n    <tr style=\"text-align: right;\">\n      <th></th>\n      <th>ClientPeriod</th>\n      <th>MonthlySpending</th>\n      <th>TotalSpent</th>\n      <th>IsSeniorCitizen</th>\n      <th>Sex_Female</th>\n      <th>Sex_Male</th>\n      <th>HasPartner_No</th>\n      <th>HasPartner_Yes</th>\n      <th>HasChild_No</th>\n      <th>HasChild_Yes</th>\n      <th>...</th>\n      <th>HasMovieSubscription_Yes</th>\n      <th>HasContractPhone_Month-to-month</th>\n      <th>HasContractPhone_One year</th>\n      <th>HasContractPhone_Two year</th>\n      <th>IsBillingPaperless_No</th>\n      <th>IsBillingPaperless_Yes</th>\n      <th>PaymentMethod_Bank transfer (automatic)</th>\n      <th>PaymentMethod_Credit card (automatic)</th>\n      <th>PaymentMethod_Electronic check</th>\n      <th>PaymentMethod_Mailed check</th>\n    </tr>\n  </thead>\n  <tbody>\n    <tr>\n      <th>0</th>\n      <td>0.919099</td>\n      <td>-1.506436</td>\n      <td>-0.557582</td>\n      <td>0.0</td>\n      <td>False</td>\n      <td>True</td>\n      <td>False</td>\n      <td>True</td>\n      <td>False</td>\n      <td>True</td>\n      <td>...</td>\n      <td>False</td>\n      <td>False</td>\n      <td>True</td>\n      <td>False</td>\n      <td>True</td>\n      <td>False</td>\n      <td>False</td>\n      <td>False</td>\n      <td>False</td>\n      <td>True</td>\n    </tr>\n    <tr>\n      <th>1</th>\n      <td>1.612060</td>\n      <td>-1.295997</td>\n      <td>-0.184763</td>\n      <td>0.0</td>\n      <td>False</td>\n      <td>True</td>\n      <td>False</td>\n      <td>True</td>\n      <td>True</td>\n      <td>False</td>\n      <td>...</td>\n      <td>False</td>\n      <td>False</td>\n      <td>False</td>\n      <td>True</td>\n      <td>True</td>\n      <td>False</td>\n      <td>False</td>\n      <td>True</td>\n      <td>False</td>\n      <td>False</td>\n    </tr>\n    <tr>\n      <th>2</th>\n      <td>-1.282072</td>\n      <td>0.362658</td>\n      <td>-0.976504</td>\n      <td>0.0</td>\n      <td>False</td>\n      <td>True</td>\n      <td>True</td>\n      <td>False</td>\n      <td>True</td>\n      <td>False</td>\n      <td>...</td>\n      <td>False</td>\n      <td>True</td>\n      <td>False</td>\n      <td>False</td>\n      <td>False</td>\n      <td>True</td>\n      <td>False</td>\n      <td>False</td>\n      <td>True</td>\n      <td>False</td>\n    </tr>\n    <tr>\n      <th>3</th>\n      <td>-0.018437</td>\n      <td>0.475334</td>\n      <td>0.122800</td>\n      <td>1.0</td>\n      <td>True</td>\n      <td>False</td>\n      <td>False</td>\n      <td>True</td>\n      <td>True</td>\n      <td>False</td>\n      <td>...</td>\n      <td>False</td>\n      <td>True</td>\n      <td>False</td>\n      <td>False</td>\n      <td>True</td>\n      <td>False</td>\n      <td>False</td>\n      <td>False</td>\n      <td>False</td>\n      <td>True</td>\n    </tr>\n    <tr>\n      <th>4</th>\n      <td>1.122911</td>\n      <td>1.666716</td>\n      <td>1.968909</td>\n      <td>0.0</td>\n      <td>True</td>\n      <td>False</td>\n      <td>False</td>\n      <td>True</td>\n      <td>False</td>\n      <td>True</td>\n      <td>...</td>\n      <td>True</td>\n      <td>False</td>\n      <td>False</td>\n      <td>True</td>\n      <td>True</td>\n      <td>False</td>\n      <td>False</td>\n      <td>True</td>\n      <td>False</td>\n      <td>False</td>\n    </tr>\n  </tbody>\n</table>\n<p>5 rows × 45 columns</p>\n</div>"
     },
     "execution_count": 69,
     "metadata": {},
     "output_type": "execute_result"
    }
   ],
   "source": [
    "X = pd.concat([numeric_data, categorial_data_dummy], axis=1)\n",
    "X.head()"
   ],
   "metadata": {
    "collapsed": false
   }
  },
  {
   "cell_type": "code",
   "execution_count": null,
   "outputs": [],
   "source": [],
   "metadata": {
    "collapsed": false
   }
  }
 ],
 "metadata": {
  "kernelspec": {
   "display_name": "Python 3",
   "language": "python",
   "name": "python3"
  },
  "language_info": {
   "codemirror_mode": {
    "name": "ipython",
    "version": 2
   },
   "file_extension": ".py",
   "mimetype": "text/x-python",
   "name": "python",
   "nbconvert_exporter": "python",
   "pygments_lexer": "ipython2",
   "version": "2.7.6"
  }
 },
 "nbformat": 4,
 "nbformat_minor": 0
}
