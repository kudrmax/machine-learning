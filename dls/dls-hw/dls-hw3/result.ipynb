{
 "cells": [
  {
   "cell_type": "code",
   "execution_count": 29,
   "outputs": [],
   "source": [
    "import pandas as pd\n",
    "import numpy as np\n",
    "from matplotlib import pyplot as plt"
   ],
   "metadata": {
    "collapsed": false
   }
  },
  {
   "cell_type": "markdown",
   "source": [
    "# Чтение данных"
   ],
   "metadata": {
    "collapsed": false
   }
  },
  {
   "cell_type": "code",
   "execution_count": 30,
   "outputs": [
    {
     "data": {
      "text/plain": "      ClientPeriod  MonthlySpending TotalSpent     Sex  IsSeniorCitizen  \\\n1606             6            29.45     161.45  Female                0   \n2154             9           103.10     970.45    Male                0   \n865             15            96.50    1392.25    Male                1   \n262             70           108.15    7930.55  Female                0   \n1062             2            29.85       75.6    Male                0   \n\n     HasPartner HasChild HasPhoneService HasMultiplePhoneNumbers  \\\n1606         No       No              No        No phone service   \n2154        Yes      Yes             Yes                      No   \n865         Yes       No             Yes                     Yes   \n262         Yes      Yes             Yes                     Yes   \n1062         No       No              No        No phone service   \n\n     HasInternetService HasOnlineSecurityService HasOnlineBackup  \\\n1606                DSL                      Yes              No   \n2154        Fiber optic                       No              No   \n865         Fiber optic                      Yes              No   \n262         Fiber optic                      Yes             Yes   \n1062                DSL                       No              No   \n\n     HasDeviceProtection HasTechSupportAccess HasOnlineTV  \\\n1606                  No                   No          No   \n2154                 Yes                  Yes         Yes   \n865                  Yes                   No         Yes   \n262                  Yes                   No         Yes   \n1062                  No                  Yes          No   \n\n     HasMovieSubscription HasContractPhone IsBillingPaperless  \\\n1606                   No   Month-to-month                 No   \n2154                  Yes   Month-to-month                 No   \n865                    No   Month-to-month                Yes   \n262                   Yes         One year                Yes   \n1062                   No   Month-to-month                 No   \n\n                  PaymentMethod  Churn  \n1606  Bank transfer (automatic)      0  \n2154           Electronic check      0  \n865            Electronic check      0  \n262     Credit card (automatic)      0  \n1062  Bank transfer (automatic)      1  ",
      "text/html": "<div>\n<style scoped>\n    .dataframe tbody tr th:only-of-type {\n        vertical-align: middle;\n    }\n\n    .dataframe tbody tr th {\n        vertical-align: top;\n    }\n\n    .dataframe thead th {\n        text-align: right;\n    }\n</style>\n<table border=\"1\" class=\"dataframe\">\n  <thead>\n    <tr style=\"text-align: right;\">\n      <th></th>\n      <th>ClientPeriod</th>\n      <th>MonthlySpending</th>\n      <th>TotalSpent</th>\n      <th>Sex</th>\n      <th>IsSeniorCitizen</th>\n      <th>HasPartner</th>\n      <th>HasChild</th>\n      <th>HasPhoneService</th>\n      <th>HasMultiplePhoneNumbers</th>\n      <th>HasInternetService</th>\n      <th>HasOnlineSecurityService</th>\n      <th>HasOnlineBackup</th>\n      <th>HasDeviceProtection</th>\n      <th>HasTechSupportAccess</th>\n      <th>HasOnlineTV</th>\n      <th>HasMovieSubscription</th>\n      <th>HasContractPhone</th>\n      <th>IsBillingPaperless</th>\n      <th>PaymentMethod</th>\n      <th>Churn</th>\n    </tr>\n  </thead>\n  <tbody>\n    <tr>\n      <th>1606</th>\n      <td>6</td>\n      <td>29.45</td>\n      <td>161.45</td>\n      <td>Female</td>\n      <td>0</td>\n      <td>No</td>\n      <td>No</td>\n      <td>No</td>\n      <td>No phone service</td>\n      <td>DSL</td>\n      <td>Yes</td>\n      <td>No</td>\n      <td>No</td>\n      <td>No</td>\n      <td>No</td>\n      <td>No</td>\n      <td>Month-to-month</td>\n      <td>No</td>\n      <td>Bank transfer (automatic)</td>\n      <td>0</td>\n    </tr>\n    <tr>\n      <th>2154</th>\n      <td>9</td>\n      <td>103.10</td>\n      <td>970.45</td>\n      <td>Male</td>\n      <td>0</td>\n      <td>Yes</td>\n      <td>Yes</td>\n      <td>Yes</td>\n      <td>No</td>\n      <td>Fiber optic</td>\n      <td>No</td>\n      <td>No</td>\n      <td>Yes</td>\n      <td>Yes</td>\n      <td>Yes</td>\n      <td>Yes</td>\n      <td>Month-to-month</td>\n      <td>No</td>\n      <td>Electronic check</td>\n      <td>0</td>\n    </tr>\n    <tr>\n      <th>865</th>\n      <td>15</td>\n      <td>96.50</td>\n      <td>1392.25</td>\n      <td>Male</td>\n      <td>1</td>\n      <td>Yes</td>\n      <td>No</td>\n      <td>Yes</td>\n      <td>Yes</td>\n      <td>Fiber optic</td>\n      <td>Yes</td>\n      <td>No</td>\n      <td>Yes</td>\n      <td>No</td>\n      <td>Yes</td>\n      <td>No</td>\n      <td>Month-to-month</td>\n      <td>Yes</td>\n      <td>Electronic check</td>\n      <td>0</td>\n    </tr>\n    <tr>\n      <th>262</th>\n      <td>70</td>\n      <td>108.15</td>\n      <td>7930.55</td>\n      <td>Female</td>\n      <td>0</td>\n      <td>Yes</td>\n      <td>Yes</td>\n      <td>Yes</td>\n      <td>Yes</td>\n      <td>Fiber optic</td>\n      <td>Yes</td>\n      <td>Yes</td>\n      <td>Yes</td>\n      <td>No</td>\n      <td>Yes</td>\n      <td>Yes</td>\n      <td>One year</td>\n      <td>Yes</td>\n      <td>Credit card (automatic)</td>\n      <td>0</td>\n    </tr>\n    <tr>\n      <th>1062</th>\n      <td>2</td>\n      <td>29.85</td>\n      <td>75.6</td>\n      <td>Male</td>\n      <td>0</td>\n      <td>No</td>\n      <td>No</td>\n      <td>No</td>\n      <td>No phone service</td>\n      <td>DSL</td>\n      <td>No</td>\n      <td>No</td>\n      <td>No</td>\n      <td>Yes</td>\n      <td>No</td>\n      <td>No</td>\n      <td>Month-to-month</td>\n      <td>No</td>\n      <td>Bank transfer (automatic)</td>\n      <td>1</td>\n    </tr>\n  </tbody>\n</table>\n</div>"
     },
     "execution_count": 30,
     "metadata": {},
     "output_type": "execute_result"
    }
   ],
   "source": [
    "data = pd.read_csv('train.csv')\n",
    "data.sample(n=5)  # посмотрим на 5 случайных строк"
   ],
   "metadata": {
    "collapsed": false
   }
  },
  {
   "cell_type": "code",
   "execution_count": 31,
   "outputs": [],
   "source": [
    "# название колонок для числовых и категориальных признаков\n",
    "\n",
    "# числовые признаки\n",
    "numerical_columns = [\n",
    "    'ClientPeriod',\n",
    "    'MonthlySpending',\n",
    "    'TotalSpent'\n",
    "]\n",
    "\n",
    "# категориальные признаки\n",
    "catigorial_columns = [\n",
    "    'Sex',\n",
    "    'IsSeniorCitizen',\n",
    "    'HasPartner',\n",
    "    'HasChild',\n",
    "    'HasPhoneService',\n",
    "    'HasMultiplePhoneNumbers',\n",
    "    'HasInternetService',\n",
    "    'HasOnlineSecurityService',\n",
    "    'HasOnlineBackup',\n",
    "    'HasDeviceProtection',\n",
    "    'HasTechSupportAccess',\n",
    "    'HasOnlineTV',\n",
    "    'HasMovieSubscription',\n",
    "    'HasContractPhone',\n",
    "    'IsBillingPaperless',\n",
    "    'PaymentMethod'\n",
    "]\n",
    "\n",
    "# все признаки\n",
    "feature_columns = numerical_columns + catigorial_columns\n",
    "\n",
    "# целевой признак\n",
    "target_column = 'Churn'"
   ],
   "metadata": {
    "collapsed": false
   }
  },
  {
   "cell_type": "markdown",
   "source": [
    "### Удалим все non'ы"
   ],
   "metadata": {
    "collapsed": false
   }
  },
  {
   "cell_type": "markdown",
   "source": [
    "Посмотрим есть ли незаполненные признаки (nan'ы)"
   ],
   "metadata": {
    "collapsed": false
   }
  },
  {
   "cell_type": "code",
   "execution_count": 32,
   "outputs": [],
   "source": [
    "data = data.replace('?', np.nan)\n",
    "data = data.replace('', np.nan)\n",
    "data = data.replace(' ', np.nan)"
   ],
   "metadata": {
    "collapsed": false
   }
  },
  {
   "cell_type": "code",
   "execution_count": 33,
   "outputs": [
    {
     "data": {
      "text/plain": "ClientPeriod                0\nMonthlySpending             0\nTotalSpent                  9\nSex                         0\nIsSeniorCitizen             0\nHasPartner                  0\nHasChild                    0\nHasPhoneService             0\nHasMultiplePhoneNumbers     0\nHasInternetService          0\nHasOnlineSecurityService    0\nHasOnlineBackup             0\nHasDeviceProtection         0\nHasTechSupportAccess        0\nHasOnlineTV                 0\nHasMovieSubscription        0\nHasContractPhone            0\nIsBillingPaperless          0\nPaymentMethod               0\nChurn                       0\ndtype: int64"
     },
     "execution_count": 33,
     "metadata": {},
     "output_type": "execute_result"
    }
   ],
   "source": [
    "data.isna().sum()"
   ],
   "metadata": {
    "collapsed": false
   }
  },
  {
   "cell_type": "markdown",
   "source": [
    "Видно, что есть nun в колонке TotalSpent. Удалим эти строки с nan."
   ],
   "metadata": {
    "collapsed": false
   }
  },
  {
   "cell_type": "code",
   "execution_count": 34,
   "outputs": [
    {
     "data": {
      "text/plain": "ClientPeriod                0\nMonthlySpending             0\nTotalSpent                  0\nSex                         0\nIsSeniorCitizen             0\nHasPartner                  0\nHasChild                    0\nHasPhoneService             0\nHasMultiplePhoneNumbers     0\nHasInternetService          0\nHasOnlineSecurityService    0\nHasOnlineBackup             0\nHasDeviceProtection         0\nHasTechSupportAccess        0\nHasOnlineTV                 0\nHasMovieSubscription        0\nHasContractPhone            0\nIsBillingPaperless          0\nPaymentMethod               0\nChurn                       0\ndtype: int64"
     },
     "execution_count": 34,
     "metadata": {},
     "output_type": "execute_result"
    }
   ],
   "source": [
    "data = data.dropna()\n",
    "data.isna().sum()"
   ],
   "metadata": {
    "collapsed": false
   }
  },
  {
   "cell_type": "markdown",
   "source": [
    "# Применение линейных моделей"
   ],
   "metadata": {
    "collapsed": false
   }
  },
  {
   "cell_type": "markdown",
   "source": [
    "### Предобработка данных"
   ],
   "metadata": {
    "collapsed": false
   }
  },
  {
   "cell_type": "code",
   "execution_count": 196,
   "outputs": [],
   "source": [
    "numeric_data = data[numerical_columns]\n",
    "categorial_data = data[catigorial_columns]"
   ],
   "metadata": {
    "collapsed": false
   }
  },
  {
   "cell_type": "code",
   "execution_count": 197,
   "outputs": [
    {
     "data": {
      "text/plain": "   ClientPeriod  MonthlySpending  TotalSpent\n0      0.919099        -1.506436   -0.557582\n1      1.612060        -1.295997   -0.184763\n2     -1.282072         0.362658   -0.976504\n3     -0.018437         0.475334    0.122800\n4      1.122911         1.666716    1.968909",
      "text/html": "<div>\n<style scoped>\n    .dataframe tbody tr th:only-of-type {\n        vertical-align: middle;\n    }\n\n    .dataframe tbody tr th {\n        vertical-align: top;\n    }\n\n    .dataframe thead th {\n        text-align: right;\n    }\n</style>\n<table border=\"1\" class=\"dataframe\">\n  <thead>\n    <tr style=\"text-align: right;\">\n      <th></th>\n      <th>ClientPeriod</th>\n      <th>MonthlySpending</th>\n      <th>TotalSpent</th>\n    </tr>\n  </thead>\n  <tbody>\n    <tr>\n      <th>0</th>\n      <td>0.919099</td>\n      <td>-1.506436</td>\n      <td>-0.557582</td>\n    </tr>\n    <tr>\n      <th>1</th>\n      <td>1.612060</td>\n      <td>-1.295997</td>\n      <td>-0.184763</td>\n    </tr>\n    <tr>\n      <th>2</th>\n      <td>-1.282072</td>\n      <td>0.362658</td>\n      <td>-0.976504</td>\n    </tr>\n    <tr>\n      <th>3</th>\n      <td>-0.018437</td>\n      <td>0.475334</td>\n      <td>0.122800</td>\n    </tr>\n    <tr>\n      <th>4</th>\n      <td>1.122911</td>\n      <td>1.666716</td>\n      <td>1.968909</td>\n    </tr>\n  </tbody>\n</table>\n</div>"
     },
     "execution_count": 197,
     "metadata": {},
     "output_type": "execute_result"
    }
   ],
   "source": [
    "# нормировка численных признаков\n",
    "\n",
    "from sklearn.preprocessing import StandardScaler\n",
    "\n",
    "scaler = StandardScaler()\n",
    "numeric_data = pd.DataFrame(scaler.fit_transform(numeric_data), columns=numerical_columns)\n",
    "numeric_data.head()"
   ],
   "metadata": {
    "collapsed": false
   }
  },
  {
   "cell_type": "code",
   "execution_count": 198,
   "outputs": [
    {
     "data": {
      "text/plain": "   IsSeniorCitizen  Sex_Female  Sex_Male  HasPartner_No  HasPartner_Yes  \\\n0                0       False      True          False            True   \n1                0       False      True          False            True   \n2                0       False      True           True           False   \n3                1        True     False          False            True   \n4                0        True     False          False            True   \n\n   HasChild_No  HasChild_Yes  HasPhoneService_No  HasPhoneService_Yes  \\\n0        False          True               False                 True   \n1         True         False               False                 True   \n2         True         False               False                 True   \n3         True         False               False                 True   \n4        False          True               False                 True   \n\n   HasMultiplePhoneNumbers_No  ...  HasMovieSubscription_Yes  \\\n0                        True  ...                     False   \n1                       False  ...                     False   \n2                        True  ...                     False   \n3                       False  ...                     False   \n4                       False  ...                      True   \n\n   HasContractPhone_Month-to-month  HasContractPhone_One year  \\\n0                            False                       True   \n1                            False                      False   \n2                             True                      False   \n3                             True                      False   \n4                            False                      False   \n\n   HasContractPhone_Two year  IsBillingPaperless_No  IsBillingPaperless_Yes  \\\n0                      False                   True                   False   \n1                       True                   True                   False   \n2                      False                  False                    True   \n3                      False                   True                   False   \n4                       True                   True                   False   \n\n   PaymentMethod_Bank transfer (automatic)  \\\n0                                    False   \n1                                    False   \n2                                    False   \n3                                    False   \n4                                    False   \n\n   PaymentMethod_Credit card (automatic)  PaymentMethod_Electronic check  \\\n0                                  False                           False   \n1                                   True                           False   \n2                                  False                            True   \n3                                  False                           False   \n4                                   True                           False   \n\n   PaymentMethod_Mailed check  \n0                        True  \n1                       False  \n2                       False  \n3                        True  \n4                       False  \n\n[5 rows x 42 columns]",
      "text/html": "<div>\n<style scoped>\n    .dataframe tbody tr th:only-of-type {\n        vertical-align: middle;\n    }\n\n    .dataframe tbody tr th {\n        vertical-align: top;\n    }\n\n    .dataframe thead th {\n        text-align: right;\n    }\n</style>\n<table border=\"1\" class=\"dataframe\">\n  <thead>\n    <tr style=\"text-align: right;\">\n      <th></th>\n      <th>IsSeniorCitizen</th>\n      <th>Sex_Female</th>\n      <th>Sex_Male</th>\n      <th>HasPartner_No</th>\n      <th>HasPartner_Yes</th>\n      <th>HasChild_No</th>\n      <th>HasChild_Yes</th>\n      <th>HasPhoneService_No</th>\n      <th>HasPhoneService_Yes</th>\n      <th>HasMultiplePhoneNumbers_No</th>\n      <th>...</th>\n      <th>HasMovieSubscription_Yes</th>\n      <th>HasContractPhone_Month-to-month</th>\n      <th>HasContractPhone_One year</th>\n      <th>HasContractPhone_Two year</th>\n      <th>IsBillingPaperless_No</th>\n      <th>IsBillingPaperless_Yes</th>\n      <th>PaymentMethod_Bank transfer (automatic)</th>\n      <th>PaymentMethod_Credit card (automatic)</th>\n      <th>PaymentMethod_Electronic check</th>\n      <th>PaymentMethod_Mailed check</th>\n    </tr>\n  </thead>\n  <tbody>\n    <tr>\n      <th>0</th>\n      <td>0</td>\n      <td>False</td>\n      <td>True</td>\n      <td>False</td>\n      <td>True</td>\n      <td>False</td>\n      <td>True</td>\n      <td>False</td>\n      <td>True</td>\n      <td>True</td>\n      <td>...</td>\n      <td>False</td>\n      <td>False</td>\n      <td>True</td>\n      <td>False</td>\n      <td>True</td>\n      <td>False</td>\n      <td>False</td>\n      <td>False</td>\n      <td>False</td>\n      <td>True</td>\n    </tr>\n    <tr>\n      <th>1</th>\n      <td>0</td>\n      <td>False</td>\n      <td>True</td>\n      <td>False</td>\n      <td>True</td>\n      <td>True</td>\n      <td>False</td>\n      <td>False</td>\n      <td>True</td>\n      <td>False</td>\n      <td>...</td>\n      <td>False</td>\n      <td>False</td>\n      <td>False</td>\n      <td>True</td>\n      <td>True</td>\n      <td>False</td>\n      <td>False</td>\n      <td>True</td>\n      <td>False</td>\n      <td>False</td>\n    </tr>\n    <tr>\n      <th>2</th>\n      <td>0</td>\n      <td>False</td>\n      <td>True</td>\n      <td>True</td>\n      <td>False</td>\n      <td>True</td>\n      <td>False</td>\n      <td>False</td>\n      <td>True</td>\n      <td>True</td>\n      <td>...</td>\n      <td>False</td>\n      <td>True</td>\n      <td>False</td>\n      <td>False</td>\n      <td>False</td>\n      <td>True</td>\n      <td>False</td>\n      <td>False</td>\n      <td>True</td>\n      <td>False</td>\n    </tr>\n    <tr>\n      <th>3</th>\n      <td>1</td>\n      <td>True</td>\n      <td>False</td>\n      <td>False</td>\n      <td>True</td>\n      <td>True</td>\n      <td>False</td>\n      <td>False</td>\n      <td>True</td>\n      <td>False</td>\n      <td>...</td>\n      <td>False</td>\n      <td>True</td>\n      <td>False</td>\n      <td>False</td>\n      <td>True</td>\n      <td>False</td>\n      <td>False</td>\n      <td>False</td>\n      <td>False</td>\n      <td>True</td>\n    </tr>\n    <tr>\n      <th>4</th>\n      <td>0</td>\n      <td>True</td>\n      <td>False</td>\n      <td>False</td>\n      <td>True</td>\n      <td>False</td>\n      <td>True</td>\n      <td>False</td>\n      <td>True</td>\n      <td>False</td>\n      <td>...</td>\n      <td>True</td>\n      <td>False</td>\n      <td>False</td>\n      <td>True</td>\n      <td>True</td>\n      <td>False</td>\n      <td>False</td>\n      <td>True</td>\n      <td>False</td>\n      <td>False</td>\n    </tr>\n  </tbody>\n</table>\n<p>5 rows × 42 columns</p>\n</div>"
     },
     "execution_count": 198,
     "metadata": {},
     "output_type": "execute_result"
    }
   ],
   "source": [
    "# one-hot-encoding для категориальных признаков\n",
    "categorial_data_dummy = pd.get_dummies(categorial_data)\n",
    "categorial_data_dummy.head()"
   ],
   "metadata": {
    "collapsed": false
   }
  },
  {
   "cell_type": "code",
   "execution_count": 208,
   "outputs": [
    {
     "data": {
      "text/plain": "   ClientPeriod  MonthlySpending  TotalSpent  IsSeniorCitizen Sex_Female  \\\n0      0.919099        -1.506436   -0.557582              0.0      False   \n1      1.612060        -1.295997   -0.184763              0.0      False   \n2     -1.282072         0.362658   -0.976504              0.0      False   \n3     -0.018437         0.475334    0.122800              1.0       True   \n4      1.122911         1.666716    1.968909              0.0       True   \n\n  Sex_Male HasPartner_No HasPartner_Yes HasChild_No HasChild_Yes  ...  \\\n0     True         False           True       False         True  ...   \n1     True         False           True        True        False  ...   \n2     True          True          False        True        False  ...   \n3    False         False           True        True        False  ...   \n4    False         False           True       False         True  ...   \n\n  HasContractPhone_Month-to-month HasContractPhone_One year  \\\n0                           False                      True   \n1                           False                     False   \n2                            True                     False   \n3                            True                     False   \n4                           False                     False   \n\n  HasContractPhone_Two year IsBillingPaperless_No IsBillingPaperless_Yes  \\\n0                     False                  True                  False   \n1                      True                  True                  False   \n2                     False                 False                   True   \n3                     False                  True                  False   \n4                      True                  True                  False   \n\n  PaymentMethod_Bank transfer (automatic)  \\\n0                                   False   \n1                                   False   \n2                                   False   \n3                                   False   \n4                                   False   \n\n  PaymentMethod_Credit card (automatic) PaymentMethod_Electronic check  \\\n0                                 False                          False   \n1                                  True                          False   \n2                                 False                           True   \n3                                 False                          False   \n4                                  True                          False   \n\n  PaymentMethod_Mailed check Churn  \n0                       True   0.0  \n1                      False   0.0  \n2                      False   1.0  \n3                       True   0.0  \n4                      False   0.0  \n\n[5 rows x 46 columns]",
      "text/html": "<div>\n<style scoped>\n    .dataframe tbody tr th:only-of-type {\n        vertical-align: middle;\n    }\n\n    .dataframe tbody tr th {\n        vertical-align: top;\n    }\n\n    .dataframe thead th {\n        text-align: right;\n    }\n</style>\n<table border=\"1\" class=\"dataframe\">\n  <thead>\n    <tr style=\"text-align: right;\">\n      <th></th>\n      <th>ClientPeriod</th>\n      <th>MonthlySpending</th>\n      <th>TotalSpent</th>\n      <th>IsSeniorCitizen</th>\n      <th>Sex_Female</th>\n      <th>Sex_Male</th>\n      <th>HasPartner_No</th>\n      <th>HasPartner_Yes</th>\n      <th>HasChild_No</th>\n      <th>HasChild_Yes</th>\n      <th>...</th>\n      <th>HasContractPhone_Month-to-month</th>\n      <th>HasContractPhone_One year</th>\n      <th>HasContractPhone_Two year</th>\n      <th>IsBillingPaperless_No</th>\n      <th>IsBillingPaperless_Yes</th>\n      <th>PaymentMethod_Bank transfer (automatic)</th>\n      <th>PaymentMethod_Credit card (automatic)</th>\n      <th>PaymentMethod_Electronic check</th>\n      <th>PaymentMethod_Mailed check</th>\n      <th>Churn</th>\n    </tr>\n  </thead>\n  <tbody>\n    <tr>\n      <th>0</th>\n      <td>0.919099</td>\n      <td>-1.506436</td>\n      <td>-0.557582</td>\n      <td>0.0</td>\n      <td>False</td>\n      <td>True</td>\n      <td>False</td>\n      <td>True</td>\n      <td>False</td>\n      <td>True</td>\n      <td>...</td>\n      <td>False</td>\n      <td>True</td>\n      <td>False</td>\n      <td>True</td>\n      <td>False</td>\n      <td>False</td>\n      <td>False</td>\n      <td>False</td>\n      <td>True</td>\n      <td>0.0</td>\n    </tr>\n    <tr>\n      <th>1</th>\n      <td>1.612060</td>\n      <td>-1.295997</td>\n      <td>-0.184763</td>\n      <td>0.0</td>\n      <td>False</td>\n      <td>True</td>\n      <td>False</td>\n      <td>True</td>\n      <td>True</td>\n      <td>False</td>\n      <td>...</td>\n      <td>False</td>\n      <td>False</td>\n      <td>True</td>\n      <td>True</td>\n      <td>False</td>\n      <td>False</td>\n      <td>True</td>\n      <td>False</td>\n      <td>False</td>\n      <td>0.0</td>\n    </tr>\n    <tr>\n      <th>2</th>\n      <td>-1.282072</td>\n      <td>0.362658</td>\n      <td>-0.976504</td>\n      <td>0.0</td>\n      <td>False</td>\n      <td>True</td>\n      <td>True</td>\n      <td>False</td>\n      <td>True</td>\n      <td>False</td>\n      <td>...</td>\n      <td>True</td>\n      <td>False</td>\n      <td>False</td>\n      <td>False</td>\n      <td>True</td>\n      <td>False</td>\n      <td>False</td>\n      <td>True</td>\n      <td>False</td>\n      <td>1.0</td>\n    </tr>\n    <tr>\n      <th>3</th>\n      <td>-0.018437</td>\n      <td>0.475334</td>\n      <td>0.122800</td>\n      <td>1.0</td>\n      <td>True</td>\n      <td>False</td>\n      <td>False</td>\n      <td>True</td>\n      <td>True</td>\n      <td>False</td>\n      <td>...</td>\n      <td>True</td>\n      <td>False</td>\n      <td>False</td>\n      <td>True</td>\n      <td>False</td>\n      <td>False</td>\n      <td>False</td>\n      <td>False</td>\n      <td>True</td>\n      <td>0.0</td>\n    </tr>\n    <tr>\n      <th>4</th>\n      <td>1.122911</td>\n      <td>1.666716</td>\n      <td>1.968909</td>\n      <td>0.0</td>\n      <td>True</td>\n      <td>False</td>\n      <td>False</td>\n      <td>True</td>\n      <td>False</td>\n      <td>True</td>\n      <td>...</td>\n      <td>False</td>\n      <td>False</td>\n      <td>True</td>\n      <td>True</td>\n      <td>False</td>\n      <td>False</td>\n      <td>True</td>\n      <td>False</td>\n      <td>False</td>\n      <td>0.0</td>\n    </tr>\n  </tbody>\n</table>\n<p>5 rows × 46 columns</p>\n</div>"
     },
     "execution_count": 208,
     "metadata": {},
     "output_type": "execute_result"
    }
   ],
   "source": [
    "datas = [numeric_data, categorial_data_dummy, data[target_column]]\n",
    "processed_data = pd.concat(datas, axis=1).reindex(categorial_data_dummy.index)\n",
    "processed_data = processed_data.dropna()\n",
    "processed_data.head()"
   ],
   "metadata": {
    "collapsed": false
   }
  },
  {
   "cell_type": "code",
   "execution_count": 213,
   "outputs": [
    {
     "data": {
      "text/plain": "      ClientPeriod  MonthlySpending  TotalSpent  IsSeniorCitizen Sex_Female  \\\n0         0.919099        -1.506436   -0.557582              0.0      False   \n1         1.612060        -1.295997   -0.184763              0.0      False   \n2        -1.282072         0.362658   -0.976504              0.0      False   \n3        -0.018437         0.475334    0.122800              1.0       True   \n4         1.122911         1.666716    1.968909              0.0       True   \n...            ...              ...         ...              ...        ...   \n5268     -1.200547        -1.145210   -0.973749              0.0       True   \n5269      0.715287        -0.679594   -0.045372              0.0       True   \n5270     -1.282072        -0.328310   -0.985693              0.0      False   \n5271     -0.140724         0.365972   -0.033560              0.0      False   \n5272     -0.548349         0.362658   -0.403645              0.0       True   \n\n     Sex_Male HasPartner_No HasPartner_Yes HasChild_No HasChild_Yes  ...  \\\n0        True         False           True       False         True  ...   \n1        True         False           True        True        False  ...   \n2        True          True          False        True        False  ...   \n3       False         False           True        True        False  ...   \n4       False         False           True       False         True  ...   \n...       ...           ...            ...         ...          ...  ...   \n5268    False         False           True       False         True  ...   \n5269    False         False           True       False         True  ...   \n5270     True          True          False        True        False  ...   \n5271     True          True          False        True        False  ...   \n5272    False          True          False        True        False  ...   \n\n     HasMovieSubscription_Yes HasContractPhone_Month-to-month  \\\n0                       False                           False   \n1                       False                           False   \n2                       False                            True   \n3                       False                            True   \n4                        True                           False   \n...                       ...                             ...   \n5268                     True                           False   \n5269                    False                            True   \n5270                     True                            True   \n5271                     True                           False   \n5272                    False                           False   \n\n     HasContractPhone_One year HasContractPhone_Two year  \\\n0                         True                     False   \n1                        False                      True   \n2                        False                     False   \n3                        False                     False   \n4                        False                      True   \n...                        ...                       ...   \n5268                     False                      True   \n5269                     False                     False   \n5270                     False                     False   \n5271                      True                     False   \n5272                      True                     False   \n\n     IsBillingPaperless_No IsBillingPaperless_Yes  \\\n0                     True                  False   \n1                     True                  False   \n2                    False                   True   \n3                     True                  False   \n4                     True                  False   \n...                    ...                    ...   \n5268                  True                  False   \n5269                 False                   True   \n5270                 False                   True   \n5271                 False                   True   \n5272                  True                  False   \n\n     PaymentMethod_Bank transfer (automatic)  \\\n0                                      False   \n1                                      False   \n2                                      False   \n3                                      False   \n4                                      False   \n...                                      ...   \n5268                                   False   \n5269                                   False   \n5270                                   False   \n5271                                    True   \n5272                                   False   \n\n     PaymentMethod_Credit card (automatic) PaymentMethod_Electronic check  \\\n0                                    False                          False   \n1                                     True                          False   \n2                                    False                           True   \n3                                    False                          False   \n4                                     True                          False   \n...                                    ...                            ...   \n5268                                  True                          False   \n5269                                 False                          False   \n5270                                 False                           True   \n5271                                 False                          False   \n5272                                 False                          False   \n\n     PaymentMethod_Mailed check  \n0                          True  \n1                         False  \n2                         False  \n3                          True  \n4                         False  \n...                         ...  \n5268                      False  \n5269                       True  \n5270                      False  \n5271                      False  \n5272                       True  \n\n[5264 rows x 45 columns]",
      "text/html": "<div>\n<style scoped>\n    .dataframe tbody tr th:only-of-type {\n        vertical-align: middle;\n    }\n\n    .dataframe tbody tr th {\n        vertical-align: top;\n    }\n\n    .dataframe thead th {\n        text-align: right;\n    }\n</style>\n<table border=\"1\" class=\"dataframe\">\n  <thead>\n    <tr style=\"text-align: right;\">\n      <th></th>\n      <th>ClientPeriod</th>\n      <th>MonthlySpending</th>\n      <th>TotalSpent</th>\n      <th>IsSeniorCitizen</th>\n      <th>Sex_Female</th>\n      <th>Sex_Male</th>\n      <th>HasPartner_No</th>\n      <th>HasPartner_Yes</th>\n      <th>HasChild_No</th>\n      <th>HasChild_Yes</th>\n      <th>...</th>\n      <th>HasMovieSubscription_Yes</th>\n      <th>HasContractPhone_Month-to-month</th>\n      <th>HasContractPhone_One year</th>\n      <th>HasContractPhone_Two year</th>\n      <th>IsBillingPaperless_No</th>\n      <th>IsBillingPaperless_Yes</th>\n      <th>PaymentMethod_Bank transfer (automatic)</th>\n      <th>PaymentMethod_Credit card (automatic)</th>\n      <th>PaymentMethod_Electronic check</th>\n      <th>PaymentMethod_Mailed check</th>\n    </tr>\n  </thead>\n  <tbody>\n    <tr>\n      <th>0</th>\n      <td>0.919099</td>\n      <td>-1.506436</td>\n      <td>-0.557582</td>\n      <td>0.0</td>\n      <td>False</td>\n      <td>True</td>\n      <td>False</td>\n      <td>True</td>\n      <td>False</td>\n      <td>True</td>\n      <td>...</td>\n      <td>False</td>\n      <td>False</td>\n      <td>True</td>\n      <td>False</td>\n      <td>True</td>\n      <td>False</td>\n      <td>False</td>\n      <td>False</td>\n      <td>False</td>\n      <td>True</td>\n    </tr>\n    <tr>\n      <th>1</th>\n      <td>1.612060</td>\n      <td>-1.295997</td>\n      <td>-0.184763</td>\n      <td>0.0</td>\n      <td>False</td>\n      <td>True</td>\n      <td>False</td>\n      <td>True</td>\n      <td>True</td>\n      <td>False</td>\n      <td>...</td>\n      <td>False</td>\n      <td>False</td>\n      <td>False</td>\n      <td>True</td>\n      <td>True</td>\n      <td>False</td>\n      <td>False</td>\n      <td>True</td>\n      <td>False</td>\n      <td>False</td>\n    </tr>\n    <tr>\n      <th>2</th>\n      <td>-1.282072</td>\n      <td>0.362658</td>\n      <td>-0.976504</td>\n      <td>0.0</td>\n      <td>False</td>\n      <td>True</td>\n      <td>True</td>\n      <td>False</td>\n      <td>True</td>\n      <td>False</td>\n      <td>...</td>\n      <td>False</td>\n      <td>True</td>\n      <td>False</td>\n      <td>False</td>\n      <td>False</td>\n      <td>True</td>\n      <td>False</td>\n      <td>False</td>\n      <td>True</td>\n      <td>False</td>\n    </tr>\n    <tr>\n      <th>3</th>\n      <td>-0.018437</td>\n      <td>0.475334</td>\n      <td>0.122800</td>\n      <td>1.0</td>\n      <td>True</td>\n      <td>False</td>\n      <td>False</td>\n      <td>True</td>\n      <td>True</td>\n      <td>False</td>\n      <td>...</td>\n      <td>False</td>\n      <td>True</td>\n      <td>False</td>\n      <td>False</td>\n      <td>True</td>\n      <td>False</td>\n      <td>False</td>\n      <td>False</td>\n      <td>False</td>\n      <td>True</td>\n    </tr>\n    <tr>\n      <th>4</th>\n      <td>1.122911</td>\n      <td>1.666716</td>\n      <td>1.968909</td>\n      <td>0.0</td>\n      <td>True</td>\n      <td>False</td>\n      <td>False</td>\n      <td>True</td>\n      <td>False</td>\n      <td>True</td>\n      <td>...</td>\n      <td>True</td>\n      <td>False</td>\n      <td>False</td>\n      <td>True</td>\n      <td>True</td>\n      <td>False</td>\n      <td>False</td>\n      <td>True</td>\n      <td>False</td>\n      <td>False</td>\n    </tr>\n    <tr>\n      <th>...</th>\n      <td>...</td>\n      <td>...</td>\n      <td>...</td>\n      <td>...</td>\n      <td>...</td>\n      <td>...</td>\n      <td>...</td>\n      <td>...</td>\n      <td>...</td>\n      <td>...</td>\n      <td>...</td>\n      <td>...</td>\n      <td>...</td>\n      <td>...</td>\n      <td>...</td>\n      <td>...</td>\n      <td>...</td>\n      <td>...</td>\n      <td>...</td>\n      <td>...</td>\n      <td>...</td>\n    </tr>\n    <tr>\n      <th>5268</th>\n      <td>-1.200547</td>\n      <td>-1.145210</td>\n      <td>-0.973749</td>\n      <td>0.0</td>\n      <td>True</td>\n      <td>False</td>\n      <td>False</td>\n      <td>True</td>\n      <td>False</td>\n      <td>True</td>\n      <td>...</td>\n      <td>True</td>\n      <td>False</td>\n      <td>False</td>\n      <td>True</td>\n      <td>True</td>\n      <td>False</td>\n      <td>False</td>\n      <td>True</td>\n      <td>False</td>\n      <td>False</td>\n    </tr>\n    <tr>\n      <th>5269</th>\n      <td>0.715287</td>\n      <td>-0.679594</td>\n      <td>-0.045372</td>\n      <td>0.0</td>\n      <td>True</td>\n      <td>False</td>\n      <td>False</td>\n      <td>True</td>\n      <td>False</td>\n      <td>True</td>\n      <td>...</td>\n      <td>False</td>\n      <td>True</td>\n      <td>False</td>\n      <td>False</td>\n      <td>False</td>\n      <td>True</td>\n      <td>False</td>\n      <td>False</td>\n      <td>False</td>\n      <td>True</td>\n    </tr>\n    <tr>\n      <th>5270</th>\n      <td>-1.282072</td>\n      <td>-0.328310</td>\n      <td>-0.985693</td>\n      <td>0.0</td>\n      <td>False</td>\n      <td>True</td>\n      <td>True</td>\n      <td>False</td>\n      <td>True</td>\n      <td>False</td>\n      <td>...</td>\n      <td>True</td>\n      <td>True</td>\n      <td>False</td>\n      <td>False</td>\n      <td>False</td>\n      <td>True</td>\n      <td>False</td>\n      <td>False</td>\n      <td>True</td>\n      <td>False</td>\n    </tr>\n    <tr>\n      <th>5271</th>\n      <td>-0.140724</td>\n      <td>0.365972</td>\n      <td>-0.033560</td>\n      <td>0.0</td>\n      <td>False</td>\n      <td>True</td>\n      <td>True</td>\n      <td>False</td>\n      <td>True</td>\n      <td>False</td>\n      <td>...</td>\n      <td>True</td>\n      <td>False</td>\n      <td>True</td>\n      <td>False</td>\n      <td>False</td>\n      <td>True</td>\n      <td>True</td>\n      <td>False</td>\n      <td>False</td>\n      <td>False</td>\n    </tr>\n    <tr>\n      <th>5272</th>\n      <td>-0.548349</td>\n      <td>0.362658</td>\n      <td>-0.403645</td>\n      <td>0.0</td>\n      <td>True</td>\n      <td>False</td>\n      <td>True</td>\n      <td>False</td>\n      <td>True</td>\n      <td>False</td>\n      <td>...</td>\n      <td>False</td>\n      <td>False</td>\n      <td>True</td>\n      <td>False</td>\n      <td>True</td>\n      <td>False</td>\n      <td>False</td>\n      <td>False</td>\n      <td>False</td>\n      <td>True</td>\n    </tr>\n  </tbody>\n</table>\n<p>5264 rows × 45 columns</p>\n</div>"
     },
     "execution_count": 213,
     "metadata": {},
     "output_type": "execute_result"
    }
   ],
   "source": [
    "X = processed_data.drop(columns=target_column)\n",
    "X"
   ],
   "metadata": {
    "collapsed": false
   }
  },
  {
   "cell_type": "code",
   "execution_count": 214,
   "outputs": [
    {
     "data": {
      "text/plain": "0       0.0\n1       0.0\n2       1.0\n3       0.0\n4       0.0\n       ... \n5268    0.0\n5269    0.0\n5270    1.0\n5271    0.0\n5272    0.0\nName: Churn, Length: 5264, dtype: float64"
     },
     "execution_count": 214,
     "metadata": {},
     "output_type": "execute_result"
    }
   ],
   "source": [
    "y = processed_data[target_column]\n",
    "y"
   ],
   "metadata": {
    "collapsed": false
   }
  },
  {
   "cell_type": "markdown",
   "source": [
    "### Заголовок"
   ],
   "metadata": {
    "collapsed": false
   }
  },
  {
   "cell_type": "markdown",
   "source": [
    "2) С помощью кроссвалидации или разделения на train/valid выборку протестируйте разные значения гиперпараметра C и выберите лучший (можно тестировать С=100, 10, 1, 0.1, 0.01, 0.001) по метрике ROC-AUC.\n",
    "\n",
    "Если вы разделяете на train/valid, то используйте LogisticRegressionCV. Он сам при вызове .fit() подберет параметр С. (не забудьте передать scroing='roc_auc', чтобы при кроссвалидации сравнивались значения этой метрики, и refit=True, чтобы при потом модель обучилась на всем датасете с лучшим параметром C).\n",
    "\n",
    "\n",
    "(более сложный вариант) Если вы будете использовать кроссвалидацию, то преобразования данных и LogisticRegression нужно соединить в один Pipeline с помощью make_pipeline, как это делалось во втором семинаре. Потом pipeline надо передать в GridSearchCV. Для one-hot-encoding'a можно испльзовать комбинацию LabelEncoder + OneHotEncoder (сначала превращаем строчки в числа, а потом числа првращаем в one-hot вектора.)"
   ],
   "metadata": {
    "collapsed": false
   }
  },
  {
   "cell_type": "markdown",
   "source": [
    "В задании сказано \"Для one-hot-encoding'a **можно** испльзовать комбинацию LabelEncoder + OneHotEncoder\"\n",
    "\n",
    "Можно, но не обязательно. Я считаю это излишним, так что использовал только OneHotEncoder."
   ],
   "metadata": {
    "collapsed": false
   }
  },
  {
   "cell_type": "code",
   "execution_count": 24,
   "outputs": [],
   "source": [
    "X = data.drop(columns=target_column)\n",
    "y = data[target_column]"
   ],
   "metadata": {
    "collapsed": false
   }
  },
  {
   "cell_type": "code",
   "execution_count": 13,
   "outputs": [],
   "source": [
    "from sklearn.linear_model import LogisticRegression\n",
    "from sklearn.model_selection import train_test_split, GridSearchCV\n",
    "from sklearn.preprocessing import StandardScaler, RobustScaler, LabelEncoder, OneHotEncoder\n",
    "from sklearn.pipeline import make_pipeline, Pipeline\n",
    "from sklearn.preprocessing import FunctionTransformer\n",
    "from sklearn.compose import ColumnTransformer"
   ],
   "metadata": {
    "collapsed": false
   }
  },
  {
   "cell_type": "code",
   "execution_count": 26,
   "outputs": [
    {
     "name": "stdout",
     "output_type": "stream",
     "text": [
      "model score: 0.806\n"
     ]
    }
   ],
   "source": [
    "# трансформер для числовых признаков\n",
    "numeric_transformer = Pipeline(\n",
    "    steps=[(\"scaler\", StandardScaler())]\n",
    ")\n",
    "\n",
    "# трансформер для категориальных признаков\n",
    "categorical_transformer = Pipeline(\n",
    "    steps=[\n",
    "        (\"encoder\", OneHotEncoder(handle_unknown=\"ignore\"))\n",
    "    ]\n",
    ")\n",
    "\n",
    "# препроцессор, который будет обрабатывать и числовые, и категориальные признаки\n",
    "preprocessor = ColumnTransformer(\n",
    "    transformers=[\n",
    "        (\"num\", numeric_transformer, numerical_columns),\n",
    "        (\"cat\", categorical_transformer, catigorial_columns),\n",
    "    ]\n",
    ")\n",
    "\n",
    "# pipline, который будет сначала делать препроцессинг, потом обучать модель\n",
    "pipeline = Pipeline(\n",
    "    steps=[\n",
    "        (\"preprocessor\", preprocessor),\n",
    "        (\"classifier\", LogisticRegression())\n",
    "    ]\n",
    ")\n",
    "\n",
    "pipeline.fit(X, y)\n",
    "# X_train, X_test, y_train, y_test = train_test_split(X, y, test_size=0.2, random_state=0)\n",
    "print(\"model score: %.3f\" % pipeline.score(X, y))"
   ],
   "metadata": {
    "collapsed": false
   }
  },
  {
   "cell_type": "code",
   "execution_count": 28,
   "outputs": [
    {
     "ename": "AttributeError",
     "evalue": "'numpy.ndarray' object has no attribute 'isna'",
     "output_type": "error",
     "traceback": [
      "\u001B[0;31m---------------------------------------------------------------------------\u001B[0m",
      "\u001B[0;31mAttributeError\u001B[0m                            Traceback (most recent call last)",
      "Cell \u001B[0;32mIn[28], line 1\u001B[0m\n\u001B[0;32m----> 1\u001B[0m \u001B[43mpreprocessor\u001B[49m\u001B[38;5;241;43m.\u001B[39;49m\u001B[43mfit_transform\u001B[49m\u001B[43m(\u001B[49m\u001B[43mdata\u001B[49m\u001B[43m)\u001B[49m\u001B[38;5;241;43m.\u001B[39;49m\u001B[43misna\u001B[49m()\u001B[38;5;241m.\u001B[39msum()\n",
      "\u001B[0;31mAttributeError\u001B[0m: 'numpy.ndarray' object has no attribute 'isna'"
     ]
    }
   ],
   "source": [
    "preprocessor.fit_transform(data).isna().sum()"
   ],
   "metadata": {
    "collapsed": false
   }
  },
  {
   "cell_type": "code",
   "execution_count": null,
   "outputs": [],
   "source": [],
   "metadata": {
    "collapsed": false
   }
  }
 ],
 "metadata": {
  "kernelspec": {
   "display_name": "Python 3",
   "language": "python",
   "name": "python3"
  },
  "language_info": {
   "codemirror_mode": {
    "name": "ipython",
    "version": 2
   },
   "file_extension": ".py",
   "mimetype": "text/x-python",
   "name": "python",
   "nbconvert_exporter": "python",
   "pygments_lexer": "ipython2",
   "version": "2.7.6"
  }
 },
 "nbformat": 4,
 "nbformat_minor": 0
}
