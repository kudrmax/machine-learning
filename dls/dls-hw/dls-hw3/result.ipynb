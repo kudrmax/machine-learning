{
 "cells": [
  {
   "cell_type": "code",
   "execution_count": 65,
   "outputs": [],
   "source": [
    "import pandas as pd\n",
    "import numpy as np\n",
    "from matplotlib import pyplot as plt"
   ],
   "metadata": {
    "collapsed": false
   }
  },
  {
   "cell_type": "markdown",
   "source": [
    "# Чтение данных"
   ],
   "metadata": {
    "collapsed": false
   }
  },
  {
   "cell_type": "code",
   "execution_count": 66,
   "outputs": [
    {
     "data": {
      "text/plain": "      ClientPeriod  MonthlySpending TotalSpent     Sex  IsSeniorCitizen  \\\n2052            19            73.85     1424.5    Male                0   \n4280             2            93.85     196.75    Male                1   \n1850            21            75.30     1570.7    Male                0   \n728             72            90.45    6565.85    Male                0   \n2358            17            20.75     418.25  Female                0   \n\n     HasPartner HasChild HasPhoneService HasMultiplePhoneNumbers  \\\n2052         No       No             Yes                      No   \n4280         No       No             Yes                     Yes   \n1850         No       No             Yes                     Yes   \n728         Yes      Yes             Yes                     Yes   \n2358        Yes      Yes             Yes                      No   \n\n     HasInternetService HasOnlineSecurityService      HasOnlineBackup  \\\n2052        Fiber optic                       No                  Yes   \n4280        Fiber optic                       No                   No   \n1850        Fiber optic                       No                   No   \n728         Fiber optic                       No                  Yes   \n2358                 No      No internet service  No internet service   \n\n      HasDeviceProtection HasTechSupportAccess          HasOnlineTV  \\\n2052                   No                   No                   No   \n4280                   No                   No                  Yes   \n1850                   No                   No                   No   \n728                   Yes                  Yes                   No   \n2358  No internet service  No internet service  No internet service   \n\n     HasMovieSubscription HasContractPhone IsBillingPaperless  \\\n2052                   No   Month-to-month                Yes   \n4280                  Yes   Month-to-month                Yes   \n1850                   No   Month-to-month                 No   \n728                    No         Two year                 No   \n2358  No internet service         One year                 No   \n\n                  PaymentMethod  Churn  \n2052    Credit card (automatic)      1  \n4280           Electronic check      1  \n1850               Mailed check      0  \n728   Bank transfer (automatic)      0  \n2358               Mailed check      0  ",
      "text/html": "<div>\n<style scoped>\n    .dataframe tbody tr th:only-of-type {\n        vertical-align: middle;\n    }\n\n    .dataframe tbody tr th {\n        vertical-align: top;\n    }\n\n    .dataframe thead th {\n        text-align: right;\n    }\n</style>\n<table border=\"1\" class=\"dataframe\">\n  <thead>\n    <tr style=\"text-align: right;\">\n      <th></th>\n      <th>ClientPeriod</th>\n      <th>MonthlySpending</th>\n      <th>TotalSpent</th>\n      <th>Sex</th>\n      <th>IsSeniorCitizen</th>\n      <th>HasPartner</th>\n      <th>HasChild</th>\n      <th>HasPhoneService</th>\n      <th>HasMultiplePhoneNumbers</th>\n      <th>HasInternetService</th>\n      <th>HasOnlineSecurityService</th>\n      <th>HasOnlineBackup</th>\n      <th>HasDeviceProtection</th>\n      <th>HasTechSupportAccess</th>\n      <th>HasOnlineTV</th>\n      <th>HasMovieSubscription</th>\n      <th>HasContractPhone</th>\n      <th>IsBillingPaperless</th>\n      <th>PaymentMethod</th>\n      <th>Churn</th>\n    </tr>\n  </thead>\n  <tbody>\n    <tr>\n      <th>2052</th>\n      <td>19</td>\n      <td>73.85</td>\n      <td>1424.5</td>\n      <td>Male</td>\n      <td>0</td>\n      <td>No</td>\n      <td>No</td>\n      <td>Yes</td>\n      <td>No</td>\n      <td>Fiber optic</td>\n      <td>No</td>\n      <td>Yes</td>\n      <td>No</td>\n      <td>No</td>\n      <td>No</td>\n      <td>No</td>\n      <td>Month-to-month</td>\n      <td>Yes</td>\n      <td>Credit card (automatic)</td>\n      <td>1</td>\n    </tr>\n    <tr>\n      <th>4280</th>\n      <td>2</td>\n      <td>93.85</td>\n      <td>196.75</td>\n      <td>Male</td>\n      <td>1</td>\n      <td>No</td>\n      <td>No</td>\n      <td>Yes</td>\n      <td>Yes</td>\n      <td>Fiber optic</td>\n      <td>No</td>\n      <td>No</td>\n      <td>No</td>\n      <td>No</td>\n      <td>Yes</td>\n      <td>Yes</td>\n      <td>Month-to-month</td>\n      <td>Yes</td>\n      <td>Electronic check</td>\n      <td>1</td>\n    </tr>\n    <tr>\n      <th>1850</th>\n      <td>21</td>\n      <td>75.30</td>\n      <td>1570.7</td>\n      <td>Male</td>\n      <td>0</td>\n      <td>No</td>\n      <td>No</td>\n      <td>Yes</td>\n      <td>Yes</td>\n      <td>Fiber optic</td>\n      <td>No</td>\n      <td>No</td>\n      <td>No</td>\n      <td>No</td>\n      <td>No</td>\n      <td>No</td>\n      <td>Month-to-month</td>\n      <td>No</td>\n      <td>Mailed check</td>\n      <td>0</td>\n    </tr>\n    <tr>\n      <th>728</th>\n      <td>72</td>\n      <td>90.45</td>\n      <td>6565.85</td>\n      <td>Male</td>\n      <td>0</td>\n      <td>Yes</td>\n      <td>Yes</td>\n      <td>Yes</td>\n      <td>Yes</td>\n      <td>Fiber optic</td>\n      <td>No</td>\n      <td>Yes</td>\n      <td>Yes</td>\n      <td>Yes</td>\n      <td>No</td>\n      <td>No</td>\n      <td>Two year</td>\n      <td>No</td>\n      <td>Bank transfer (automatic)</td>\n      <td>0</td>\n    </tr>\n    <tr>\n      <th>2358</th>\n      <td>17</td>\n      <td>20.75</td>\n      <td>418.25</td>\n      <td>Female</td>\n      <td>0</td>\n      <td>Yes</td>\n      <td>Yes</td>\n      <td>Yes</td>\n      <td>No</td>\n      <td>No</td>\n      <td>No internet service</td>\n      <td>No internet service</td>\n      <td>No internet service</td>\n      <td>No internet service</td>\n      <td>No internet service</td>\n      <td>No internet service</td>\n      <td>One year</td>\n      <td>No</td>\n      <td>Mailed check</td>\n      <td>0</td>\n    </tr>\n  </tbody>\n</table>\n</div>"
     },
     "execution_count": 66,
     "metadata": {},
     "output_type": "execute_result"
    }
   ],
   "source": [
    "data = pd.read_csv('train.csv')\n",
    "data.sample(n=5)  # посмотрим на 5 случайных строк"
   ],
   "metadata": {
    "collapsed": false
   }
  },
  {
   "cell_type": "code",
   "execution_count": 67,
   "outputs": [],
   "source": [
    "# название колонок для числовых и категориальных признаков\n",
    "\n",
    "# числовые признаки\n",
    "numerical_columns = [\n",
    "    'ClientPeriod',\n",
    "    'MonthlySpending',\n",
    "    'TotalSpent'\n",
    "]\n",
    "\n",
    "# категориальные признаки\n",
    "catigorial_columns = [\n",
    "    'Sex',\n",
    "    'IsSeniorCitizen',\n",
    "    'HasPartner',\n",
    "    'HasChild',\n",
    "    'HasPhoneService',\n",
    "    'HasMultiplePhoneNumbers',\n",
    "    'HasInternetService',\n",
    "    'HasOnlineSecurityService',\n",
    "    'HasOnlineBackup',\n",
    "    'HasDeviceProtection',\n",
    "    'HasTechSupportAccess',\n",
    "    'HasOnlineTV',\n",
    "    'HasMovieSubscription',\n",
    "    'HasContractPhone',\n",
    "    'IsBillingPaperless',\n",
    "    'PaymentMethod'\n",
    "]\n",
    "\n",
    "# все признаки\n",
    "feature_columns = numerical_columns + catigorial_columns\n",
    "\n",
    "# целевой признак\n",
    "target_column = 'Churn'"
   ],
   "metadata": {
    "collapsed": false
   }
  },
  {
   "cell_type": "markdown",
   "source": [
    "### Удалим все non'ы"
   ],
   "metadata": {
    "collapsed": false
   }
  },
  {
   "cell_type": "markdown",
   "source": [
    "Посмотрим есть ли незаполненные признаки (nan'ы)"
   ],
   "metadata": {
    "collapsed": false
   }
  },
  {
   "cell_type": "code",
   "execution_count": 68,
   "outputs": [],
   "source": [
    "data = data.replace('?', np.nan)\n",
    "data = data.replace('', np.nan)\n",
    "data = data.replace(' ', np.nan)"
   ],
   "metadata": {
    "collapsed": false
   }
  },
  {
   "cell_type": "code",
   "execution_count": 69,
   "outputs": [
    {
     "data": {
      "text/plain": "ClientPeriod                0\nMonthlySpending             0\nTotalSpent                  9\nSex                         0\nIsSeniorCitizen             0\nHasPartner                  0\nHasChild                    0\nHasPhoneService             0\nHasMultiplePhoneNumbers     0\nHasInternetService          0\nHasOnlineSecurityService    0\nHasOnlineBackup             0\nHasDeviceProtection         0\nHasTechSupportAccess        0\nHasOnlineTV                 0\nHasMovieSubscription        0\nHasContractPhone            0\nIsBillingPaperless          0\nPaymentMethod               0\nChurn                       0\ndtype: int64"
     },
     "execution_count": 69,
     "metadata": {},
     "output_type": "execute_result"
    }
   ],
   "source": [
    "data.isna().sum()"
   ],
   "metadata": {
    "collapsed": false
   }
  },
  {
   "cell_type": "markdown",
   "source": [
    "Видно, что есть nun в колонке TotalSpent. Удалим эти строки с nan."
   ],
   "metadata": {
    "collapsed": false
   }
  },
  {
   "cell_type": "code",
   "execution_count": 70,
   "outputs": [
    {
     "data": {
      "text/plain": "ClientPeriod                0\nMonthlySpending             0\nTotalSpent                  0\nSex                         0\nIsSeniorCitizen             0\nHasPartner                  0\nHasChild                    0\nHasPhoneService             0\nHasMultiplePhoneNumbers     0\nHasInternetService          0\nHasOnlineSecurityService    0\nHasOnlineBackup             0\nHasDeviceProtection         0\nHasTechSupportAccess        0\nHasOnlineTV                 0\nHasMovieSubscription        0\nHasContractPhone            0\nIsBillingPaperless          0\nPaymentMethod               0\nChurn                       0\ndtype: int64"
     },
     "execution_count": 70,
     "metadata": {},
     "output_type": "execute_result"
    }
   ],
   "source": [
    "data = data.dropna()\n",
    "data.isna().sum()"
   ],
   "metadata": {
    "collapsed": false
   }
  },
  {
   "cell_type": "markdown",
   "source": [
    "# Применение линейных моделей"
   ],
   "metadata": {
    "collapsed": false
   }
  },
  {
   "cell_type": "markdown",
   "source": [
    "### Создание pipline"
   ],
   "metadata": {
    "collapsed": false
   }
  },
  {
   "cell_type": "markdown",
   "source": [
    "В задании сказано \"Для one-hot-encoding'a **можно** испльзовать комбинацию LabelEncoder + OneHotEncoder\"\n",
    "\n",
    "Можно, но не обязательно. Я считаю это излишним, так что использовал только OneHotEncoder."
   ],
   "metadata": {
    "collapsed": false
   }
  },
  {
   "cell_type": "code",
   "execution_count": 73,
   "outputs": [],
   "source": [
    "X = data.drop(columns=target_column)\n",
    "y = data[target_column]"
   ],
   "metadata": {
    "collapsed": false
   }
  },
  {
   "cell_type": "code",
   "execution_count": 74,
   "outputs": [
    {
     "data": {
      "text/plain": "0.8056135027498578"
     },
     "execution_count": 74,
     "metadata": {},
     "output_type": "execute_result"
    }
   ],
   "source": [
    "from sklearn.linear_model import LogisticRegression\n",
    "from sklearn.preprocessing import StandardScaler, OneHotEncoder\n",
    "from sklearn.pipeline import make_pipeline\n",
    "from sklearn.compose import make_column_transformer\n",
    "\n",
    "# препроцессор, который будет обрабатывать и числовые, и категориальные признаки\n",
    "preprocessor = make_column_transformer(\n",
    "    (StandardScaler(), numerical_columns),  # нормализация числовых значений\n",
    "    (OneHotEncoder(), catigorial_columns)  # OneHotEncoder для категориальных признаков\n",
    ")\n",
    "\n",
    "# основной pipline\n",
    "pipeline = make_pipeline(\n",
    "    preprocessor,\n",
    "    LogisticRegression()\n",
    ")\n",
    "\n",
    "pipeline.fit(X, y)\n",
    "pipeline.score(X, y)"
   ],
   "metadata": {
    "collapsed": false
   }
  },
  {
   "cell_type": "markdown",
   "source": [
    "### GridSearchCV"
   ],
   "metadata": {
    "collapsed": false
   }
  },
  {
   "cell_type": "markdown",
   "source": [
    "С помощью кроссвалидации или разделения на train/valid выборку протестируйте разные значения гиперпараметра C и выберите лучший (можно тестировать С=100, 10, 1, 0.1, 0.01, 0.001) по метрике ROC-AUC.\n",
    "\n",
    "Если вы разделяете на train/valid, то используйте LogisticRegressionCV. Он сам при вызове .fit() подберет параметр С. (не забудьте передать scroing='roc_auc', чтобы при кроссвалидации сравнивались значения этой метрики, и refit=True, чтобы при потом модель обучилась на всем датасете с лучшим параметром C).\n",
    "\n",
    "\n",
    "Если вы будете использовать кроссвалидацию, то преобразования данных и LogisticRegression нужно соединить в один Pipeline с помощью make_pipeline, как это делалось во втором семинаре. Потом pipeline надо передать в GridSearchCV. Для one-hot-encoding'a можно испльзовать комбинацию LabelEncoder + OneHotEncoder (сначала превращаем строчки в числа, а потом числа првращаем в one-hot вектора.)"
   ],
   "metadata": {
    "collapsed": false
   }
  },
  {
   "cell_type": "code",
   "execution_count": 78,
   "outputs": [],
   "source": [
    "from sklearn.linear_model import LogisticRegression\n",
    "from sklearn.model_selection import GridSearchCV"
   ],
   "metadata": {
    "collapsed": false
   }
  },
  {
   "cell_type": "code",
   "execution_count": 115,
   "outputs": [],
   "source": [
    "# param = {'logisticregression__C': [100000, 10, 0.0001]}\n",
    "param = {'logisticregression__C': [100, 10, 1, 0.1, 0.01, 0.001]}\n",
    "\n",
    "model = GridSearchCV(estimator=pipeline,\n",
    "                     param_grid=param,\n",
    "                     cv=10,\n",
    "                     scoring='roc_auc',\n",
    "                     n_jobs=-1)\n",
    "model.fit(X, y)\n",
    "None"
   ],
   "metadata": {
    "collapsed": false
   }
  },
  {
   "cell_type": "code",
   "execution_count": 116,
   "outputs": [
    {
     "data": {
      "text/plain": "{'logisticregression__C': 100}"
     },
     "execution_count": 116,
     "metadata": {},
     "output_type": "execute_result"
    }
   ],
   "source": [
    "model.best_params_"
   ],
   "metadata": {
    "collapsed": false
   }
  },
  {
   "cell_type": "code",
   "execution_count": 117,
   "outputs": [
    {
     "data": {
      "text/plain": "array([0.84449799, 0.84447186, 0.84435319, 0.8438876 , 0.84139825,\n       0.83749182])"
     },
     "execution_count": 117,
     "metadata": {},
     "output_type": "execute_result"
    }
   ],
   "source": [
    "model.cv_results_['mean_test_score']"
   ],
   "metadata": {
    "collapsed": false
   }
  },
  {
   "cell_type": "code",
   "execution_count": 118,
   "outputs": [
    {
     "data": {
      "text/plain": "array([0.01494142, 0.01490945, 0.01494872, 0.01498533, 0.01528765,\n       0.0156638 ])"
     },
     "execution_count": 118,
     "metadata": {},
     "output_type": "execute_result"
    }
   ],
   "source": [
    "model.cv_results_['std_test_score']"
   ],
   "metadata": {
    "collapsed": false
   }
  },
  {
   "cell_type": "code",
   "execution_count": null,
   "outputs": [],
   "source": [],
   "metadata": {
    "collapsed": false
   }
  }
 ],
 "metadata": {
  "kernelspec": {
   "display_name": "Python 3",
   "language": "python",
   "name": "python3"
  },
  "language_info": {
   "codemirror_mode": {
    "name": "ipython",
    "version": 2
   },
   "file_extension": ".py",
   "mimetype": "text/x-python",
   "name": "python",
   "nbconvert_exporter": "python",
   "pygments_lexer": "ipython2",
   "version": "2.7.6"
  }
 },
 "nbformat": 4,
 "nbformat_minor": 0
}
