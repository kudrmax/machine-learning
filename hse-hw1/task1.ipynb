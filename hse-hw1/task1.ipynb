{
 "cells": [
  {
   "cell_type": "code",
   "execution_count": 52,
   "metadata": {
    "collapsed": true
   },
   "outputs": [],
   "source": [
    "import pandas as pd\n",
    "import numpy as np\n",
    "from sklearn.model_selection import train_test_split\n",
    "from sklearn.metrics import accuracy_score\n",
    "from sklearn.metrics import recall_score\n",
    "from sklearn.metrics import precision_score\n",
    "\n",
    "from collections import defaultdict\n",
    "from math import log"
   ]
  },
  {
   "cell_type": "markdown",
   "source": [
    "# Считывание данных"
   ],
   "metadata": {
    "collapsed": false
   }
  },
  {
   "cell_type": "code",
   "execution_count": 53,
   "outputs": [
    {
     "data": {
      "text/plain": "        year      name   percent   sex\n0       1880      John  0.081541   boy\n1       1880   William  0.080511   boy\n2       1880     James  0.050057   boy\n3       1880   Charles  0.045167   boy\n4       1880    George  0.043292   boy\n...      ...       ...       ...   ...\n257995  2008  Carleigh  0.000128  girl\n257996  2008     Iyana  0.000128  girl\n257997  2008    Kenley  0.000127  girl\n257998  2008    Sloane  0.000127  girl\n257999  2008   Elianna  0.000127  girl\n\n[258000 rows x 4 columns]",
      "text/html": "<div>\n<style scoped>\n    .dataframe tbody tr th:only-of-type {\n        vertical-align: middle;\n    }\n\n    .dataframe tbody tr th {\n        vertical-align: top;\n    }\n\n    .dataframe thead th {\n        text-align: right;\n    }\n</style>\n<table border=\"1\" class=\"dataframe\">\n  <thead>\n    <tr style=\"text-align: right;\">\n      <th></th>\n      <th>year</th>\n      <th>name</th>\n      <th>percent</th>\n      <th>sex</th>\n    </tr>\n  </thead>\n  <tbody>\n    <tr>\n      <th>0</th>\n      <td>1880</td>\n      <td>John</td>\n      <td>0.081541</td>\n      <td>boy</td>\n    </tr>\n    <tr>\n      <th>1</th>\n      <td>1880</td>\n      <td>William</td>\n      <td>0.080511</td>\n      <td>boy</td>\n    </tr>\n    <tr>\n      <th>2</th>\n      <td>1880</td>\n      <td>James</td>\n      <td>0.050057</td>\n      <td>boy</td>\n    </tr>\n    <tr>\n      <th>3</th>\n      <td>1880</td>\n      <td>Charles</td>\n      <td>0.045167</td>\n      <td>boy</td>\n    </tr>\n    <tr>\n      <th>4</th>\n      <td>1880</td>\n      <td>George</td>\n      <td>0.043292</td>\n      <td>boy</td>\n    </tr>\n    <tr>\n      <th>...</th>\n      <td>...</td>\n      <td>...</td>\n      <td>...</td>\n      <td>...</td>\n    </tr>\n    <tr>\n      <th>257995</th>\n      <td>2008</td>\n      <td>Carleigh</td>\n      <td>0.000128</td>\n      <td>girl</td>\n    </tr>\n    <tr>\n      <th>257996</th>\n      <td>2008</td>\n      <td>Iyana</td>\n      <td>0.000128</td>\n      <td>girl</td>\n    </tr>\n    <tr>\n      <th>257997</th>\n      <td>2008</td>\n      <td>Kenley</td>\n      <td>0.000127</td>\n      <td>girl</td>\n    </tr>\n    <tr>\n      <th>257998</th>\n      <td>2008</td>\n      <td>Sloane</td>\n      <td>0.000127</td>\n      <td>girl</td>\n    </tr>\n    <tr>\n      <th>257999</th>\n      <td>2008</td>\n      <td>Elianna</td>\n      <td>0.000127</td>\n      <td>girl</td>\n    </tr>\n  </tbody>\n</table>\n<p>258000 rows × 4 columns</p>\n</div>"
     },
     "execution_count": 53,
     "metadata": {},
     "output_type": "execute_result"
    }
   ],
   "source": [
    "data = pd.read_csv(\"names.csv\")\n",
    "data"
   ],
   "metadata": {
    "collapsed": false
   }
  },
  {
   "cell_type": "markdown",
   "source": [
    "# Разделение на тестовую и обучающую выборку"
   ],
   "metadata": {
    "collapsed": false
   }
  },
  {
   "cell_type": "code",
   "execution_count": 54,
   "outputs": [],
   "source": [
    "data_train, data_test = train_test_split(data, test_size=0.3)"
   ],
   "metadata": {
    "collapsed": false
   }
  },
  {
   "cell_type": "code",
   "execution_count": 55,
   "outputs": [
    {
     "data": {
      "text/plain": "        year     name   percent   sex\n29023   1909    Louis  0.006961   boy\n126206  2006     Drew  0.000850   boy\n24532   1904  Randall  0.000130   boy\n157246  1908   Winnie  0.000556  girl\n103451  1983       Ty  0.000181   boy\n...      ...      ...       ...   ...\n144116  1895      Ora  0.001683  girl\n147429  1898    Lovie  0.000190  girl\n136863  1887   Almira  0.000051  girl\n117714  1997     Fred  0.000111   boy\n186702  1937     Veda  0.000086  girl\n\n[77400 rows x 4 columns]",
      "text/html": "<div>\n<style scoped>\n    .dataframe tbody tr th:only-of-type {\n        vertical-align: middle;\n    }\n\n    .dataframe tbody tr th {\n        vertical-align: top;\n    }\n\n    .dataframe thead th {\n        text-align: right;\n    }\n</style>\n<table border=\"1\" class=\"dataframe\">\n  <thead>\n    <tr style=\"text-align: right;\">\n      <th></th>\n      <th>year</th>\n      <th>name</th>\n      <th>percent</th>\n      <th>sex</th>\n    </tr>\n  </thead>\n  <tbody>\n    <tr>\n      <th>29023</th>\n      <td>1909</td>\n      <td>Louis</td>\n      <td>0.006961</td>\n      <td>boy</td>\n    </tr>\n    <tr>\n      <th>126206</th>\n      <td>2006</td>\n      <td>Drew</td>\n      <td>0.000850</td>\n      <td>boy</td>\n    </tr>\n    <tr>\n      <th>24532</th>\n      <td>1904</td>\n      <td>Randall</td>\n      <td>0.000130</td>\n      <td>boy</td>\n    </tr>\n    <tr>\n      <th>157246</th>\n      <td>1908</td>\n      <td>Winnie</td>\n      <td>0.000556</td>\n      <td>girl</td>\n    </tr>\n    <tr>\n      <th>103451</th>\n      <td>1983</td>\n      <td>Ty</td>\n      <td>0.000181</td>\n      <td>boy</td>\n    </tr>\n    <tr>\n      <th>...</th>\n      <td>...</td>\n      <td>...</td>\n      <td>...</td>\n      <td>...</td>\n    </tr>\n    <tr>\n      <th>144116</th>\n      <td>1895</td>\n      <td>Ora</td>\n      <td>0.001683</td>\n      <td>girl</td>\n    </tr>\n    <tr>\n      <th>147429</th>\n      <td>1898</td>\n      <td>Lovie</td>\n      <td>0.000190</td>\n      <td>girl</td>\n    </tr>\n    <tr>\n      <th>136863</th>\n      <td>1887</td>\n      <td>Almira</td>\n      <td>0.000051</td>\n      <td>girl</td>\n    </tr>\n    <tr>\n      <th>117714</th>\n      <td>1997</td>\n      <td>Fred</td>\n      <td>0.000111</td>\n      <td>boy</td>\n    </tr>\n    <tr>\n      <th>186702</th>\n      <td>1937</td>\n      <td>Veda</td>\n      <td>0.000086</td>\n      <td>girl</td>\n    </tr>\n  </tbody>\n</table>\n<p>77400 rows × 4 columns</p>\n</div>"
     },
     "execution_count": 55,
     "metadata": {},
     "output_type": "execute_result"
    }
   ],
   "source": [
    "data_test"
   ],
   "metadata": {
    "collapsed": false
   }
  },
  {
   "cell_type": "code",
   "execution_count": 56,
   "outputs": [
    {
     "data": {
      "text/plain": "        year       name   percent   sex\n207691  1958         Lu  0.000099  girl\n3475    1883        Rex  0.000133   boy\n169573  1920     Lavina  0.000126  girl\n177910  1928  Maryellen  0.000055  girl\n248771  1999      Kacey  0.000147  girl\n...      ...        ...       ...   ...\n230747  1981    Brandon  0.000123  girl\n116181  1996     Darius  0.000883   boy\n193489  1944     Bennie  0.000158  girl\n210220  1961     Dianna  0.000733  girl\n69731   1949      Lorin  0.000049   boy\n\n[180600 rows x 4 columns]",
      "text/html": "<div>\n<style scoped>\n    .dataframe tbody tr th:only-of-type {\n        vertical-align: middle;\n    }\n\n    .dataframe tbody tr th {\n        vertical-align: top;\n    }\n\n    .dataframe thead th {\n        text-align: right;\n    }\n</style>\n<table border=\"1\" class=\"dataframe\">\n  <thead>\n    <tr style=\"text-align: right;\">\n      <th></th>\n      <th>year</th>\n      <th>name</th>\n      <th>percent</th>\n      <th>sex</th>\n    </tr>\n  </thead>\n  <tbody>\n    <tr>\n      <th>207691</th>\n      <td>1958</td>\n      <td>Lu</td>\n      <td>0.000099</td>\n      <td>girl</td>\n    </tr>\n    <tr>\n      <th>3475</th>\n      <td>1883</td>\n      <td>Rex</td>\n      <td>0.000133</td>\n      <td>boy</td>\n    </tr>\n    <tr>\n      <th>169573</th>\n      <td>1920</td>\n      <td>Lavina</td>\n      <td>0.000126</td>\n      <td>girl</td>\n    </tr>\n    <tr>\n      <th>177910</th>\n      <td>1928</td>\n      <td>Maryellen</td>\n      <td>0.000055</td>\n      <td>girl</td>\n    </tr>\n    <tr>\n      <th>248771</th>\n      <td>1999</td>\n      <td>Kacey</td>\n      <td>0.000147</td>\n      <td>girl</td>\n    </tr>\n    <tr>\n      <th>...</th>\n      <td>...</td>\n      <td>...</td>\n      <td>...</td>\n      <td>...</td>\n    </tr>\n    <tr>\n      <th>230747</th>\n      <td>1981</td>\n      <td>Brandon</td>\n      <td>0.000123</td>\n      <td>girl</td>\n    </tr>\n    <tr>\n      <th>116181</th>\n      <td>1996</td>\n      <td>Darius</td>\n      <td>0.000883</td>\n      <td>boy</td>\n    </tr>\n    <tr>\n      <th>193489</th>\n      <td>1944</td>\n      <td>Bennie</td>\n      <td>0.000158</td>\n      <td>girl</td>\n    </tr>\n    <tr>\n      <th>210220</th>\n      <td>1961</td>\n      <td>Dianna</td>\n      <td>0.000733</td>\n      <td>girl</td>\n    </tr>\n    <tr>\n      <th>69731</th>\n      <td>1949</td>\n      <td>Lorin</td>\n      <td>0.000049</td>\n      <td>boy</td>\n    </tr>\n  </tbody>\n</table>\n<p>180600 rows × 4 columns</p>\n</div>"
     },
     "execution_count": 56,
     "metadata": {},
     "output_type": "execute_result"
    }
   ],
   "source": [
    "data_train"
   ],
   "metadata": {
    "collapsed": false
   }
  },
  {
   "cell_type": "markdown",
   "source": [
    "# Функция для наивной байесовской классификации"
   ],
   "metadata": {
    "collapsed": false
   }
  },
  {
   "cell_type": "code",
   "execution_count": 75,
   "outputs": [],
   "source": [
    "def naive_bayesian_train(samples):\n",
    "    classes, freq = defaultdict(lambda: 0), defaultdict(lambda: 0)\n",
    "\n",
    "    for feats, label in samples:\n",
    "        classes[label] += 1\n",
    "        for feat in feats:\n",
    "            freq[label, feat] += 1\n",
    "\n",
    "    for label, feat in freq:\n",
    "        freq[label, feat] /= classes[label]\n",
    "    for c in classes:\n",
    "        classes[c] /= len(samples)\n",
    "\n",
    "    return classes, freq\n",
    "\n",
    "\n",
    "def classify(classifier, feats):\n",
    "    classes, prob = classifier\n",
    "    return min(classes.keys(),\n",
    "               key=lambda cl: -log(classes[cl]) \\\n",
    "                              + sum(-log(prob.get((cl, feat))) if (cl, feat) in prob else 0 for feat in feats))"
   ],
   "metadata": {
    "collapsed": false
   }
  },
  {
   "cell_type": "code",
   "execution_count": 58,
   "outputs": [],
   "source": [
    "def get_features(sample: str):\n",
    "    \"\"\"\n",
    "    Функция для превращения слова в признак.\n",
    "    Признак: последняя буква.\n",
    "    \"\"\"\n",
    "    return sample[-1]  # get last letter"
   ],
   "metadata": {
    "collapsed": false
   }
  },
  {
   "cell_type": "markdown",
   "source": [
    "# Применение функции"
   ],
   "metadata": {
    "collapsed": false
   }
  },
  {
   "cell_type": "code",
   "execution_count": 59,
   "outputs": [
    {
     "data": {
      "text/plain": "[['u', 'girl'],\n ['x', 'boy'],\n ['a', 'girl'],\n ['n', 'girl'],\n ['y', 'girl'],\n ['i', 'girl'],\n ['n', 'boy'],\n ['t', 'boy'],\n ['e', 'girl'],\n ['n', 'boy'],\n ['e', 'boy'],\n ['a', 'girl'],\n ['s', 'girl'],\n ['a', 'girl'],\n ['n', 'girl'],\n ['e', 'girl'],\n ['l', 'girl'],\n ['e', 'boy'],\n ['a', 'girl'],\n ['e', 'girl'],\n ['d', 'boy'],\n ['a', 'girl'],\n ['k', 'boy'],\n ['s', 'boy'],\n ['a', 'girl'],\n ['n', 'boy'],\n ['h', 'girl'],\n ['e', 'boy'],\n ['y', 'boy'],\n ['a', 'girl'],\n ['a', 'girl'],\n ['n', 'girl'],\n ['a', 'girl'],\n ['a', 'girl'],\n ['d', 'boy'],\n ['s', 'boy'],\n ['y', 'boy'],\n ['n', 'girl'],\n ['n', 'boy'],\n ['e', 'girl'],\n ['s', 'girl'],\n ['e', 'girl'],\n ['a', 'girl'],\n ['e', 'girl'],\n ['l', 'boy'],\n ['n', 'girl'],\n ['h', 'girl'],\n ['a', 'girl'],\n ['l', 'boy'],\n ['k', 'boy'],\n ['n', 'girl'],\n ['o', 'boy'],\n ['n', 'boy'],\n ['e', 'girl'],\n ['e', 'boy'],\n ['y', 'girl'],\n ['y', 'boy'],\n ['o', 'boy'],\n ['a', 'girl'],\n ['a', 'boy'],\n ['y', 'girl'],\n ['r', 'boy'],\n ['o', 'boy'],\n ['n', 'boy'],\n ['n', 'boy'],\n ['e', 'girl'],\n ['n', 'boy'],\n ['t', 'girl'],\n ['y', 'girl'],\n ['e', 'girl'],\n ['z', 'girl'],\n ['l', 'girl'],\n ['h', 'girl'],\n ['e', 'girl'],\n ['a', 'girl'],\n ['a', 'boy'],\n ['y', 'girl'],\n ['n', 'girl'],\n ['e', 'boy'],\n ['l', 'boy'],\n ['a', 'girl'],\n ['n', 'girl'],\n ['a', 'girl'],\n ['d', 'boy'],\n ['e', 'boy'],\n ['e', 'girl'],\n ['e', 'girl'],\n ['t', 'girl'],\n ['e', 'girl'],\n ['t', 'boy'],\n ['y', 'girl'],\n ['y', 'girl'],\n ['e', 'girl'],\n ['e', 'girl'],\n ['a', 'boy'],\n ['y', 'girl'],\n ['y', 'boy'],\n ['e', 'girl'],\n ['e', 'girl'],\n ['y', 'boy'],\n ['e', 'boy'],\n ['e', 'girl'],\n ['a', 'girl'],\n ['a', 'girl'],\n ['r', 'boy'],\n ['e', 'girl'],\n ['e', 'girl'],\n ['e', 'girl'],\n ['e', 'girl'],\n ['e', 'girl'],\n ['y', 'boy'],\n ['e', 'girl'],\n ['n', 'boy'],\n ['y', 'girl'],\n ['o', 'boy'],\n ['l', 'girl'],\n ['e', 'boy'],\n ['s', 'girl'],\n ['y', 'boy'],\n ['d', 'boy'],\n ['d', 'boy'],\n ['o', 'boy'],\n ['e', 'girl'],\n ['o', 'boy'],\n ['y', 'boy'],\n ['d', 'boy'],\n ['a', 'girl'],\n ['e', 'girl'],\n ['n', 'boy'],\n ['t', 'boy'],\n ['e', 'girl'],\n ['y', 'boy'],\n ['y', 'girl'],\n ['y', 'boy'],\n ['n', 'boy'],\n ['n', 'boy'],\n ['e', 'boy'],\n ['a', 'girl'],\n ['y', 'boy'],\n ['m', 'boy'],\n ['n', 'boy'],\n ['e', 'girl'],\n ['a', 'girl'],\n ['e', 'girl'],\n ['a', 'girl'],\n ['o', 'boy'],\n ['e', 'girl'],\n ['n', 'boy'],\n ['r', 'boy'],\n ['a', 'girl'],\n ['e', 'girl'],\n ['o', 'boy'],\n ['a', 'girl'],\n ['e', 'girl'],\n ['a', 'girl'],\n ['k', 'boy'],\n ['n', 'boy'],\n ['e', 'boy'],\n ['r', 'boy'],\n ['e', 'girl'],\n ['n', 'boy'],\n ['r', 'boy'],\n ['n', 'boy'],\n ['e', 'girl'],\n ['b', 'boy'],\n ['t', 'boy'],\n ['l', 'boy'],\n ['e', 'girl'],\n ['a', 'girl'],\n ['r', 'girl'],\n ['n', 'boy'],\n ['h', 'girl'],\n ['y', 'girl'],\n ['d', 'boy'],\n ['n', 'boy'],\n ['e', 'girl'],\n ['y', 'boy'],\n ['e', 'girl'],\n ['o', 'boy'],\n ['y', 'girl'],\n ['y', 'boy'],\n ['s', 'boy'],\n ['t', 'boy'],\n ['y', 'girl'],\n ['e', 'girl'],\n ['e', 'girl'],\n ['n', 'girl'],\n ['a', 'girl'],\n ['e', 'girl'],\n ['n', 'boy'],\n ['t', 'boy'],\n ['n', 'boy'],\n ['n', 'boy'],\n ['e', 'girl'],\n ['l', 'girl'],\n ['n', 'boy'],\n ['d', 'boy'],\n ['m', 'boy'],\n ['e', 'girl'],\n ['n', 'boy'],\n ['l', 'boy'],\n ['e', 'boy'],\n ['e', 'boy'],\n ['s', 'boy'],\n ['r', 'boy'],\n ['y', 'girl'],\n ['a', 'girl'],\n ['a', 'girl'],\n ['e', 'girl'],\n ['a', 'girl'],\n ['y', 'boy'],\n ['y', 'girl'],\n ['a', 'girl'],\n ['e', 'girl'],\n ['e', 'girl'],\n ['a', 'girl'],\n ['n', 'boy'],\n ['a', 'girl'],\n ['t', 'boy'],\n ['e', 'girl'],\n ['n', 'boy'],\n ['a', 'girl'],\n ['n', 'boy'],\n ['n', 'girl'],\n ['a', 'girl'],\n ['a', 'girl'],\n ['a', 'girl'],\n ['a', 'girl'],\n ['l', 'boy'],\n ['a', 'girl'],\n ['e', 'girl'],\n ['e', 'boy'],\n ['s', 'boy'],\n ['y', 'girl'],\n ['p', 'boy'],\n ['s', 'boy'],\n ['a', 'girl'],\n ['n', 'girl'],\n ['e', 'girl'],\n ['n', 'boy'],\n ['d', 'girl'],\n ['y', 'boy'],\n ['d', 'boy'],\n ['n', 'boy'],\n ['s', 'boy'],\n ['a', 'girl'],\n ['e', 'girl'],\n ['y', 'boy'],\n ['l', 'boy'],\n ['o', 'boy'],\n ['y', 'boy'],\n ['y', 'boy'],\n ['l', 'boy'],\n ['e', 'girl'],\n ['i', 'girl'],\n ['e', 'girl'],\n ['n', 'boy'],\n ['a', 'girl'],\n ['e', 'girl'],\n ['e', 'boy'],\n ['b', 'boy'],\n ['n', 'boy'],\n ['e', 'girl'],\n ['m', 'boy'],\n ['e', 'boy'],\n ['d', 'boy'],\n ['a', 'girl'],\n ['e', 'girl'],\n ['l', 'boy'],\n ['a', 'girl'],\n ['a', 'girl'],\n ['a', 'girl'],\n ['n', 'boy'],\n ['d', 'boy'],\n ['a', 'girl'],\n ['a', 'boy'],\n ['e', 'girl'],\n ['s', 'boy'],\n ['l', 'girl'],\n ['y', 'boy'],\n ['y', 'girl'],\n ['y', 'boy'],\n ['e', 'girl'],\n ['h', 'girl'],\n ['d', 'boy'],\n ['e', 'boy'],\n ['e', 'girl'],\n ['g', 'boy'],\n ['e', 'girl'],\n ['a', 'girl'],\n ['e', 'girl'],\n ['n', 'girl'],\n ['s', 'boy'],\n ['e', 'girl'],\n ['e', 'girl'],\n ['a', 'girl'],\n ['n', 'boy'],\n ['n', 'boy'],\n ['a', 'girl'],\n ['n', 'girl'],\n ['o', 'boy'],\n ['e', 'girl'],\n ['l', 'boy'],\n ['a', 'girl'],\n ['e', 'girl'],\n ['n', 'boy'],\n ['h', 'boy'],\n ['y', 'boy'],\n ['t', 'boy'],\n ['a', 'girl'],\n ['d', 'boy'],\n ['a', 'girl'],\n ['l', 'boy'],\n ['n', 'boy'],\n ['y', 'girl'],\n ['n', 'girl'],\n ['s', 'boy'],\n ['n', 'boy'],\n ['e', 'girl'],\n ['k', 'boy'],\n ['r', 'boy'],\n ['y', 'boy'],\n ['a', 'girl'],\n ['y', 'boy'],\n ['y', 'girl'],\n ['t', 'boy'],\n ['e', 'girl'],\n ['n', 'girl'],\n ['l', 'girl'],\n ['a', 'girl'],\n ['y', 'girl'],\n ['e', 'girl'],\n ['n', 'boy'],\n ['d', 'boy'],\n ['l', 'boy'],\n ['h', 'boy'],\n ['y', 'boy'],\n ['e', 'boy'],\n ['e', 'girl'],\n ['e', 'girl'],\n ['y', 'girl'],\n ['n', 'boy'],\n ['e', 'girl'],\n ['s', 'boy'],\n ['e', 'boy'],\n ['y', 'boy'],\n ['y', 'boy'],\n ['y', 'girl'],\n ['e', 'girl'],\n ['e', 'boy'],\n ['e', 'girl'],\n ['i', 'girl'],\n ['e', 'boy'],\n ['a', 'girl'],\n ['y', 'girl'],\n ['a', 'girl'],\n ['m', 'boy'],\n ['d', 'boy'],\n ['a', 'girl'],\n ['e', 'girl'],\n ['a', 'girl'],\n ['h', 'boy'],\n ['n', 'boy'],\n ['o', 'boy'],\n ['w', 'boy'],\n ['n', 'boy'],\n ['o', 'boy'],\n ['c', 'boy'],\n ['e', 'boy'],\n ['a', 'girl'],\n ['i', 'girl'],\n ['e', 'girl'],\n ['a', 'boy'],\n ['e', 'girl'],\n ['t', 'girl'],\n ['a', 'girl'],\n ['y', 'boy'],\n ['i', 'girl'],\n ['a', 'girl'],\n ['t', 'boy'],\n ['a', 'girl'],\n ['s', 'girl'],\n ['e', 'girl'],\n ['a', 'boy'],\n ['a', 'girl'],\n ['e', 'girl'],\n ['a', 'girl'],\n ['a', 'girl'],\n ['n', 'boy'],\n ['n', 'boy'],\n ['e', 'girl'],\n ['e', 'girl'],\n ['t', 'boy'],\n ['i', 'girl'],\n ['d', 'boy'],\n ['y', 'boy'],\n ['d', 'boy'],\n ['n', 'boy'],\n ['i', 'girl'],\n ['r', 'boy'],\n ['a', 'girl'],\n ['k', 'boy'],\n ['e', 'girl'],\n ['r', 'boy'],\n ['a', 'girl'],\n ['a', 'girl'],\n ['a', 'girl'],\n ['e', 'boy'],\n ['w', 'boy'],\n ['d', 'boy'],\n ['y', 'boy'],\n ['n', 'girl'],\n ['h', 'boy'],\n ['y', 'boy'],\n ['a', 'boy'],\n ['l', 'boy'],\n ['e', 'boy'],\n ['s', 'boy'],\n ['k', 'boy'],\n ['d', 'boy'],\n ['r', 'boy'],\n ['n', 'boy'],\n ['e', 'girl'],\n ['e', 'girl'],\n ['n', 'girl'],\n ['l', 'boy'],\n ['o', 'boy'],\n ['d', 'boy'],\n ['n', 'boy'],\n ['n', 'boy'],\n ['s', 'boy'],\n ['n', 'boy'],\n ['e', 'girl'],\n ['l', 'boy'],\n ['n', 'girl'],\n ['a', 'girl'],\n ['l', 'girl'],\n ['s', 'boy'],\n ['i', 'girl'],\n ['a', 'girl'],\n ['r', 'boy'],\n ['i', 'boy'],\n ['e', 'girl'],\n ['d', 'boy'],\n ['n', 'girl'],\n ['a', 'girl'],\n ['k', 'boy'],\n ['s', 'girl'],\n ['n', 'boy'],\n ['l', 'boy'],\n ['y', 'girl'],\n ['n', 'girl'],\n ['s', 'boy'],\n ['e', 'boy'],\n ['e', 'girl'],\n ['e', 'boy'],\n ['e', 'girl'],\n ['e', 'girl'],\n ['r', 'boy'],\n ['h', 'boy'],\n ['t', 'girl'],\n ['e', 'boy'],\n ['n', 'girl'],\n ['a', 'boy'],\n ['y', 'boy'],\n ['s', 'boy'],\n ['n', 'boy'],\n ['n', 'girl'],\n ['e', 'girl'],\n ['e', 'girl'],\n ['a', 'girl'],\n ['y', 'girl'],\n ['a', 'girl'],\n ['e', 'girl'],\n ['r', 'boy'],\n ['t', 'boy'],\n ['n', 'boy'],\n ['r', 'girl'],\n ['e', 'girl'],\n ['a', 'girl'],\n ['w', 'boy'],\n ['e', 'boy'],\n ['k', 'boy'],\n ['a', 'girl'],\n ['a', 'girl'],\n ['a', 'boy'],\n ['s', 'boy'],\n ['a', 'girl'],\n ['e', 'girl'],\n ['n', 'boy'],\n ['n', 'girl'],\n ['r', 'boy'],\n ['y', 'boy'],\n ['a', 'girl'],\n ['y', 'boy'],\n ['t', 'boy'],\n ['t', 'boy'],\n ['s', 'girl'],\n ['n', 'girl'],\n ['l', 'boy'],\n ['n', 'girl'],\n ['n', 'boy'],\n ['e', 'girl'],\n ['s', 'boy'],\n ['a', 'girl'],\n ['a', 'girl'],\n ['a', 'girl'],\n ['o', 'boy'],\n ['e', 'girl'],\n ['e', 'girl'],\n ['n', 'boy'],\n ['a', 'girl'],\n ['d', 'boy'],\n ['e', 'boy'],\n ['a', 'girl'],\n ['e', 'boy'],\n ['n', 'boy'],\n ['s', 'boy'],\n ['e', 'girl'],\n ['l', 'boy'],\n ['e', 'boy'],\n ['s', 'girl'],\n ['l', 'girl'],\n ['l', 'boy'],\n ['e', 'girl'],\n ['e', 'boy'],\n ['e', 'girl'],\n ['a', 'girl'],\n ['e', 'girl'],\n ['e', 'boy'],\n ['n', 'boy'],\n ['e', 'boy'],\n ['e', 'girl'],\n ['l', 'girl'],\n ['r', 'boy'],\n ['x', 'boy'],\n ['s', 'boy'],\n ['n', 'girl'],\n ['o', 'boy'],\n ['y', 'girl'],\n ['r', 'boy'],\n ['a', 'girl'],\n ['l', 'boy'],\n ['o', 'boy'],\n ['t', 'boy'],\n ['d', 'boy'],\n ['t', 'girl'],\n ['a', 'girl'],\n ['a', 'girl'],\n ['a', 'girl'],\n ['y', 'girl'],\n ['t', 'boy'],\n ['y', 'boy'],\n ['e', 'boy'],\n ['e', 'girl'],\n ['a', 'girl'],\n ['d', 'boy'],\n ['y', 'girl'],\n ['e', 'boy'],\n ['e', 'girl'],\n ['d', 'girl'],\n ['y', 'boy'],\n ['a', 'girl'],\n ['a', 'girl'],\n ['e', 'girl'],\n ['n', 'girl'],\n ['e', 'girl'],\n ['l', 'boy'],\n ['n', 'boy'],\n ['l', 'boy'],\n ['a', 'girl'],\n ['l', 'boy'],\n ['r', 'boy'],\n ['a', 'girl'],\n ['i', 'girl'],\n ['e', 'girl'],\n ['n', 'boy'],\n ['a', 'girl'],\n ['r', 'boy'],\n ['k', 'boy'],\n ['i', 'girl'],\n ['a', 'girl'],\n ['a', 'girl'],\n ['a', 'girl'],\n ['y', 'boy'],\n ['l', 'boy'],\n ['a', 'girl'],\n ['r', 'boy'],\n ['r', 'girl'],\n ['l', 'girl'],\n ['s', 'boy'],\n ['e', 'girl'],\n ['e', 'girl'],\n ['e', 'boy'],\n ['a', 'girl'],\n ['e', 'boy'],\n ['d', 'boy'],\n ['d', 'boy'],\n ['e', 'boy'],\n ['o', 'boy'],\n ['o', 'girl'],\n ['n', 'boy'],\n ['i', 'girl'],\n ['a', 'girl'],\n ['a', 'girl'],\n ['t', 'boy'],\n ['d', 'boy'],\n ['e', 'girl'],\n ['y', 'boy'],\n ['n', 'boy'],\n ['l', 'boy'],\n ['a', 'girl'],\n ['l', 'boy'],\n ['a', 'girl'],\n ['a', 'girl'],\n ['e', 'girl'],\n ['a', 'girl'],\n ['r', 'boy'],\n ['l', 'boy'],\n ['l', 'boy'],\n ['r', 'boy'],\n ['a', 'girl'],\n ['l', 'boy'],\n ['e', 'girl'],\n ['e', 'girl'],\n ['r', 'boy'],\n ['n', 'boy'],\n ['y', 'girl'],\n ['r', 'boy'],\n ['n', 'girl'],\n ['e', 'boy'],\n ['l', 'boy'],\n ['e', 'boy'],\n ['y', 'boy'],\n ['l', 'boy'],\n ['e', 'girl'],\n ['l', 'girl'],\n ['o', 'boy'],\n ['a', 'girl'],\n ['a', 'girl'],\n ['a', 'girl'],\n ['a', 'girl'],\n ['e', 'girl'],\n ['h', 'girl'],\n ['n', 'boy'],\n ['s', 'boy'],\n ['a', 'girl'],\n ['a', 'girl'],\n ['i', 'girl'],\n ['n', 'boy'],\n ['a', 'girl'],\n ['e', 'girl'],\n ['k', 'boy'],\n ['l', 'girl'],\n ['n', 'boy'],\n ['e', 'girl'],\n ['a', 'girl'],\n ['n', 'boy'],\n ['n', 'boy'],\n ['a', 'girl'],\n ['e', 'girl'],\n ['d', 'boy'],\n ['n', 'girl'],\n ['i', 'girl'],\n ['e', 'girl'],\n ['e', 'girl'],\n ['z', 'boy'],\n ['e', 'boy'],\n ['l', 'boy'],\n ['a', 'girl'],\n ['y', 'boy'],\n ['n', 'girl'],\n ['l', 'girl'],\n ['e', 'boy'],\n ['y', 'boy'],\n ['a', 'girl'],\n ['n', 'boy'],\n ['h', 'girl'],\n ['n', 'boy'],\n ['e', 'girl'],\n ['n', 'boy'],\n ['n', 'boy'],\n ['r', 'boy'],\n ['a', 'girl'],\n ['e', 'boy'],\n ['n', 'boy'],\n ['a', 'girl'],\n ['s', 'boy'],\n ['n', 'boy'],\n ['y', 'boy'],\n ['s', 'girl'],\n ['n', 'girl'],\n ['e', 'girl'],\n ['r', 'boy'],\n ['s', 'boy'],\n ['o', 'boy'],\n ['n', 'girl'],\n ['y', 'boy'],\n ['n', 'girl'],\n ['h', 'girl'],\n ['d', 'boy'],\n ['e', 'girl'],\n ['s', 'boy'],\n ['a', 'girl'],\n ['i', 'girl'],\n ['x', 'boy'],\n ['e', 'girl'],\n ['a', 'girl'],\n ['a', 'girl'],\n ['a', 'girl'],\n ['a', 'girl'],\n ['s', 'boy'],\n ['l', 'girl'],\n ['a', 'girl'],\n ['l', 'boy'],\n ['s', 'boy'],\n ['n', 'boy'],\n ['y', 'boy'],\n ['l', 'girl'],\n ['t', 'boy'],\n ['n', 'girl'],\n ['y', 'boy'],\n ['e', 'girl'],\n ['h', 'boy'],\n ['n', 'girl'],\n ['o', 'boy'],\n ['s', 'boy'],\n ['e', 'boy'],\n ['n', 'boy'],\n ['n', 'boy'],\n ['n', 'boy'],\n ['h', 'girl'],\n ['o', 'boy'],\n ['e', 'girl'],\n ['m', 'girl'],\n ['a', 'girl'],\n ['r', 'boy'],\n ['n', 'boy'],\n ['t', 'boy'],\n ['a', 'girl'],\n ['e', 'girl'],\n ['e', 'girl'],\n ['n', 'boy'],\n ['s', 'girl'],\n ['i', 'girl'],\n ['a', 'boy'],\n ['s', 'girl'],\n ['y', 'boy'],\n ['a', 'girl'],\n ['e', 'boy'],\n ['o', 'boy'],\n ['n', 'boy'],\n ['e', 'girl'],\n ['s', 'boy'],\n ['y', 'girl'],\n ['n', 'girl'],\n ['d', 'boy'],\n ['y', 'boy'],\n ['n', 'boy'],\n ['l', 'boy'],\n ['t', 'boy'],\n ['a', 'girl'],\n ['a', 'girl'],\n ['d', 'boy'],\n ['r', 'girl'],\n ['e', 'girl'],\n ['n', 'boy'],\n ['e', 'girl'],\n ['e', 'girl'],\n ['e', 'girl'],\n ['e', 'girl'],\n ['y', 'girl'],\n ['l', 'boy'],\n ['l', 'boy'],\n ['e', 'girl'],\n ['a', 'girl'],\n ['w', 'boy'],\n ['y', 'boy'],\n ['d', 'boy'],\n ['n', 'boy'],\n ['e', 'girl'],\n ['y', 'boy'],\n ['h', 'girl'],\n ['e', 'girl'],\n ['a', 'girl'],\n ['l', 'boy'],\n ['y', 'girl'],\n ['y', 'boy'],\n ['l', 'boy'],\n ['t', 'boy'],\n ['a', 'girl'],\n ['l', 'girl'],\n ['n', 'boy'],\n ['m', 'boy'],\n ['h', 'boy'],\n ['d', 'boy'],\n ['a', 'girl'],\n ['a', 'girl'],\n ['n', 'girl'],\n ['y', 'girl'],\n ['e', 'boy'],\n ['e', 'girl'],\n ['y', 'boy'],\n ['n', 'boy'],\n ['m', 'boy'],\n ['n', 'girl'],\n ['a', 'girl'],\n ['y', 'boy'],\n ['o', 'boy'],\n ['d', 'boy'],\n ['y', 'boy'],\n ['a', 'girl'],\n ['n', 'boy'],\n ['s', 'boy'],\n ['l', 'boy'],\n ['e', 'boy'],\n ['n', 'girl'],\n ['y', 'boy'],\n ['a', 'girl'],\n ['y', 'girl'],\n ['y', 'boy'],\n ['e', 'boy'],\n ['a', 'girl'],\n ['n', 'boy'],\n ['a', 'girl'],\n ['a', 'girl'],\n ['l', 'boy'],\n ['l', 'girl'],\n ['a', 'girl'],\n ['f', 'boy'],\n ['t', 'boy'],\n ['e', 'girl'],\n ['y', 'boy'],\n ['w', 'boy'],\n ['e', 'boy'],\n ['n', 'girl'],\n ['a', 'girl'],\n ['n', 'boy'],\n ['a', 'boy'],\n ['n', 'boy'],\n ['l', 'boy'],\n ['e', 'girl'],\n ['t', 'boy'],\n ['l', 'boy'],\n ['s', 'girl'],\n ['h', 'boy'],\n ['a', 'girl'],\n ['e', 'girl'],\n ['n', 'boy'],\n ['h', 'girl'],\n ['n', 'boy'],\n ['n', 'boy'],\n ['e', 'girl'],\n ['t', 'boy'],\n ['l', 'girl'],\n ['n', 'boy'],\n ['d', 'boy'],\n ['d', 'boy'],\n ['n', 'girl'],\n ['e', 'girl'],\n ['y', 'boy'],\n ['a', 'girl'],\n ['n', 'boy'],\n ['o', 'boy'],\n ['e', 'girl'],\n ['y', 'boy'],\n ['n', 'boy'],\n ['e', 'boy'],\n ['a', 'girl'],\n ['e', 'girl'],\n ['d', 'boy'],\n ['h', 'girl'],\n ['s', 'boy'],\n ['n', 'girl'],\n ['d', 'boy'],\n ['e', 'girl'],\n ['e', 'boy'],\n ['a', 'girl'],\n ['e', 'girl'],\n ['a', 'girl'],\n ['y', 'boy'],\n ['e', 'boy'],\n ['t', 'boy'],\n ['h', 'girl'],\n ['y', 'girl'],\n ['a', 'girl'],\n ['e', 'boy'],\n ['h', 'girl'],\n ['r', 'boy'],\n ['l', 'boy'],\n ['e', 'girl'],\n ['l', 'boy'],\n ['i', 'girl'],\n ['m', 'boy'],\n ['g', 'boy'],\n ['n', 'boy'],\n ['t', 'boy'],\n ['d', 'boy'],\n ['e', 'girl'],\n ['a', 'girl'],\n ['r', 'boy'],\n ['y', 'boy'],\n ['n', 'boy'],\n ['l', 'boy'],\n ['n', 'boy'],\n ['s', 'boy'],\n ['a', 'girl'],\n ['t', 'boy'],\n ['l', 'girl'],\n ['i', 'girl'],\n ['r', 'girl'],\n ['n', 'boy'],\n ['n', 'girl'],\n ['n', 'boy'],\n ['y', 'boy'],\n ['r', 'boy'],\n ['r', 'girl'],\n ['e', 'boy'],\n ['t', 'girl'],\n ['n', 'boy'],\n ['a', 'girl'],\n ['a', 'girl'],\n ['y', 'boy'],\n ['t', 'boy'],\n ['e', 'girl'],\n ['n', 'girl'],\n ['a', 'girl'],\n ['e', 'girl'],\n ['a', 'girl'],\n ['a', 'girl'],\n ['n', 'girl'],\n ['n', 'boy'],\n ['a', 'girl'],\n ['n', 'boy'],\n ['y', 'boy'],\n ['e', 'girl'],\n ['l', 'boy'],\n ['y', 'boy'],\n ['n', 'boy'],\n ['y', 'boy'],\n ['n', 'boy'],\n ['a', 'girl'],\n ['w', 'boy'],\n ['a', 'girl'],\n ['a', 'girl'],\n ['o', 'boy'],\n ['e', 'girl'],\n ['n', 'boy'],\n ['a', 'girl'],\n ['e', 'girl'],\n ['s', 'boy'],\n ['n', 'girl'],\n ['h', 'girl'],\n ['d', 'boy'],\n ['a', 'girl'],\n ['y', 'boy'],\n ['e', 'boy'],\n ['l', 'boy'],\n ['a', 'girl'],\n ['e', 'girl'],\n ['r', 'boy'],\n ['e', 'boy'],\n ['y', 'boy'],\n ['a', 'girl'],\n ['e', 'girl'],\n ['a', 'girl'],\n ['n', 'boy'],\n ['s', 'boy'],\n ['a', 'girl'],\n ['e', 'girl'],\n ['a', 'girl'],\n ['n', 'girl'],\n ['e', 'girl'],\n ['e', 'girl'],\n ['n', 'boy'],\n ['e', 'boy'],\n ['l', 'boy'],\n ['d', 'boy'],\n ['i', 'girl'],\n ['e', 'boy'],\n ['e', 'girl'],\n ['n', 'boy'],\n ['s', 'boy'],\n ['s', 'girl'],\n ['k', 'boy'],\n ['s', 'boy'],\n ['i', 'girl'],\n ['a', 'girl'],\n ['l', 'girl'],\n ['n', 'boy'],\n ['a', 'girl'],\n ['a', 'girl'],\n ['o', 'girl'],\n ['o', 'boy'],\n ['s', 'boy'],\n ['k', 'boy'],\n ['a', 'girl'],\n ['h', 'boy'],\n ['y', 'girl'],\n ['e', 'boy'],\n ...]"
     },
     "execution_count": 59,
     "metadata": {},
     "output_type": "execute_result"
    }
   ],
   "source": [
    "# обучение\n",
    "samples = [[get_features(name), lable] for name, lable in zip(data_train['name'], data_train['sex'])]\n",
    "samples"
   ],
   "metadata": {
    "collapsed": false
   }
  },
  {
   "cell_type": "code",
   "execution_count": 60,
   "outputs": [
    {
     "data": {
      "text/plain": "(defaultdict(<function __main__.naive_bayesian_train.<locals>.<lambda>()>,\n             {'girl': 0.4993466223698782, 'boy': 0.5006533776301219}),\n defaultdict(<function __main__.naive_bayesian_train.<locals>.<lambda>()>,\n             {('girl', 'u'): 0.0019626976558515005,\n              ('boy', 'x'): 0.00442389789643655,\n              ('girl', 'a'): 0.3842008383047615,\n              ('girl', 'n'): 0.08033753964205717,\n              ('girl', 'y'): 0.07799782661728505,\n              ('girl', 'i'): 0.027876959925484023,\n              ('boy', 'n'): 0.2147913026167356,\n              ('boy', 't'): 0.05265544471233604,\n              ('girl', 'e'): 0.3016344725111441,\n              ('boy', 'e'): 0.13832422747682985,\n              ('girl', 's'): 0.022421325763456124,\n              ('girl', 'l'): 0.0357721052981748,\n              ('boy', 'd'): 0.07276206065164016,\n              ('boy', 'k'): 0.02210842973744166,\n              ('boy', 's'): 0.07737397420867527,\n              ('girl', 'h'): 0.024794304850191833,\n              ('boy', 'y'): 0.11150434647968326,\n              ('boy', 'l'): 0.08308080249507842,\n              ('boy', 'o'): 0.0632064411953372,\n              ('boy', 'a'): 0.016512198898449425,\n              ('boy', 'r'): 0.060330907562653455,\n              ('girl', 't'): 0.010589696391741146,\n              ('girl', 'z'): 0.0018185447206759664,\n              ('boy', 'm'): 0.01646795991948506,\n              ('boy', 'b'): 0.0038709106593819813,\n              ('girl', 'r'): 0.01197578230689051,\n              ('boy', 'p'): 0.003096728527505585,\n              ('girl', 'd'): 0.008039298307866314,\n              ('boy', 'g'): 0.005806365989072972,\n              ('boy', 'h'): 0.02669822380499458,\n              ('boy', 'w'): 0.004921586409785662,\n              ('boy', 'c'): 0.009057930942953837,\n              ('boy', 'i'): 0.005397155433652591,\n              ('girl', 'o'): 0.005145150917034442,\n              ('boy', 'z'): 0.0022893671614059147,\n              ('girl', 'm'): 0.0031048324499345767,\n              ('boy', 'f'): 0.0038156119356765245,\n              ('girl', 'k'): 0.0008649176110532036,\n              ('boy', 'u'): 0.0007299431529120308,\n              ('boy', 'v'): 0.0005198080028312946,\n              ('girl', 'g'): 0.000532256991417356,\n              ('girl', 'x'): 0.00016633030981792375,\n              ('boy', 'q'): 0.0001437766816341879,\n              ('girl', 'w'): 0.0003770153689206272,\n              ('girl', 'c'): 0.00024395112106628816,\n              ('boy', 'j'): 0.00011059744741091375,\n              ('girl', 'b'): 0.00012197556053314408,\n              ('girl', 'v'): 2.2177374642389832e-05}))"
     },
     "execution_count": 60,
     "metadata": {},
     "output_type": "execute_result"
    }
   ],
   "source": [
    "classifier = naive_bayesian_train(samples)\n",
    "classifier"
   ],
   "metadata": {
    "collapsed": false
   }
  },
  {
   "cell_type": "code",
   "execution_count": 61,
   "outputs": [
    {
     "name": "stdout",
     "output_type": "stream",
     "text": [
      "Max is a boy\n",
      "Nikita is a girl\n",
      "Vika is a girl\n"
     ]
    }
   ],
   "source": [
    "# проверка\n",
    "names = ['Max', 'Nikita', 'Vika']\n",
    "for name in names:\n",
    "    print(f\"{name} is a {classify(classifier, get_features(name))}\")"
   ],
   "metadata": {
    "collapsed": false
   }
  },
  {
   "cell_type": "code",
   "execution_count": 62,
   "outputs": [
    {
     "data": {
      "text/plain": "           name   sex predicted_sex\n29023     Louis   boy           boy\n126206     Drew   boy           boy\n24532   Randall   boy           boy\n157246   Winnie  girl          girl\n103451       Ty   boy           boy\n...         ...   ...           ...\n144116      Ora  girl          girl\n147429    Lovie  girl          girl\n136863   Almira  girl          girl\n117714     Fred   boy           boy\n186702     Veda  girl          girl\n\n[77400 rows x 3 columns]",
      "text/html": "<div>\n<style scoped>\n    .dataframe tbody tr th:only-of-type {\n        vertical-align: middle;\n    }\n\n    .dataframe tbody tr th {\n        vertical-align: top;\n    }\n\n    .dataframe thead th {\n        text-align: right;\n    }\n</style>\n<table border=\"1\" class=\"dataframe\">\n  <thead>\n    <tr style=\"text-align: right;\">\n      <th></th>\n      <th>name</th>\n      <th>sex</th>\n      <th>predicted_sex</th>\n    </tr>\n  </thead>\n  <tbody>\n    <tr>\n      <th>29023</th>\n      <td>Louis</td>\n      <td>boy</td>\n      <td>boy</td>\n    </tr>\n    <tr>\n      <th>126206</th>\n      <td>Drew</td>\n      <td>boy</td>\n      <td>boy</td>\n    </tr>\n    <tr>\n      <th>24532</th>\n      <td>Randall</td>\n      <td>boy</td>\n      <td>boy</td>\n    </tr>\n    <tr>\n      <th>157246</th>\n      <td>Winnie</td>\n      <td>girl</td>\n      <td>girl</td>\n    </tr>\n    <tr>\n      <th>103451</th>\n      <td>Ty</td>\n      <td>boy</td>\n      <td>boy</td>\n    </tr>\n    <tr>\n      <th>...</th>\n      <td>...</td>\n      <td>...</td>\n      <td>...</td>\n    </tr>\n    <tr>\n      <th>144116</th>\n      <td>Ora</td>\n      <td>girl</td>\n      <td>girl</td>\n    </tr>\n    <tr>\n      <th>147429</th>\n      <td>Lovie</td>\n      <td>girl</td>\n      <td>girl</td>\n    </tr>\n    <tr>\n      <th>136863</th>\n      <td>Almira</td>\n      <td>girl</td>\n      <td>girl</td>\n    </tr>\n    <tr>\n      <th>117714</th>\n      <td>Fred</td>\n      <td>boy</td>\n      <td>boy</td>\n    </tr>\n    <tr>\n      <th>186702</th>\n      <td>Veda</td>\n      <td>girl</td>\n      <td>girl</td>\n    </tr>\n  </tbody>\n</table>\n<p>77400 rows × 3 columns</p>\n</div>"
     },
     "execution_count": 62,
     "metadata": {},
     "output_type": "execute_result"
    }
   ],
   "source": [
    "data_test['predicted_sex'] = [classify(classifier, get_features(name)) for name in data_test['name']]\n",
    "data_test[['name', 'sex', 'predicted_sex']]"
   ],
   "metadata": {
    "collapsed": false
   }
  },
  {
   "cell_type": "markdown",
   "source": [
    "# Проверка через метрики"
   ],
   "metadata": {
    "collapsed": false
   }
  },
  {
   "cell_type": "code",
   "execution_count": 63,
   "outputs": [
    {
     "data": {
      "text/plain": "0.7745219638242894"
     },
     "execution_count": 63,
     "metadata": {},
     "output_type": "execute_result"
    }
   ],
   "source": [
    "# точность (accuracy)\n",
    "\n",
    "accuracy_naive = accuracy_score(data_test['sex'], data_test['predicted_sex'])\n",
    "accuracy_naive"
   ],
   "metadata": {
    "collapsed": false
   }
  },
  {
   "cell_type": "code",
   "execution_count": 64,
   "outputs": [
    {
     "data": {
      "text/plain": "[0.833756674096729, 0.7156473800814055]"
     },
     "execution_count": 64,
     "metadata": {},
     "output_type": "execute_result"
    }
   ],
   "source": [
    "# полнота (recall) вычисленная вручную\n",
    "\n",
    "recall = [0, 0]\n",
    "\n",
    "# насколько верно он определяет мужские имена\n",
    "sex = 'boy'\n",
    "recall[0] = data_test.loc[data_test['sex'].str.contains(sex) & data_test['predicted_sex'].str.contains(sex)].shape[0] / \\\n",
    "            data_test.loc[data_test['sex'].str.contains(sex)].shape[0]\n",
    "\n",
    "# насколько верно он определяет мужские имена\n",
    "sex = 'girl'\n",
    "recall[1] = data_test.loc[data_test['sex'].str.contains(sex) & data_test['predicted_sex'].str.contains(sex)].shape[0] / \\\n",
    "            data_test.loc[data_test['sex'].str.contains(sex)].shape[0]\n",
    "\n",
    "recall"
   ],
   "metadata": {
    "collapsed": false
   }
  },
  {
   "cell_type": "code",
   "execution_count": 65,
   "outputs": [
    {
     "data": {
      "text/plain": "[0.833756674096729, 0.7156473800814055]"
     },
     "execution_count": 65,
     "metadata": {},
     "output_type": "execute_result"
    }
   ],
   "source": [
    "# полнота (recall) через sklearn\n",
    "\n",
    "list(recall_score(data_test['sex'], data_test['predicted_sex'], average=None))"
   ],
   "metadata": {
    "collapsed": false
   }
  },
  {
   "cell_type": "code",
   "execution_count": 66,
   "outputs": [
    {
     "data": {
      "text/plain": "[0.7445262232097394, 0.8124232321459905]"
     },
     "execution_count": 66,
     "metadata": {},
     "output_type": "execute_result"
    }
   ],
   "source": [
    "# precision\n",
    "\n",
    "list(precision_score(data_test['sex'], data_test['predicted_sex'], average=None))"
   ],
   "metadata": {
    "collapsed": false
   }
  },
  {
   "cell_type": "markdown",
   "source": [
    "# Изменим get_features"
   ],
   "metadata": {
    "collapsed": false
   }
  },
  {
   "cell_type": "code",
   "execution_count": 67,
   "outputs": [
    {
     "data": {
      "text/plain": "0.7009173126614987"
     },
     "execution_count": 67,
     "metadata": {},
     "output_type": "execute_result"
    }
   ],
   "source": [
    "def get_features(sample: str):\n",
    "    \"\"\"\n",
    "    Функция для превращения слова в признак.\n",
    "    Признак: последние 2 буквы.\n",
    "    \"\"\"\n",
    "    return sample[-2:]\n",
    "\n",
    "\n",
    "samples = [[get_features(name), lable] for name, lable in zip(data_train['name'], data_train['sex'])]\n",
    "classifier = naive_bayesian_train(samples)\n",
    "data_test['predicted_sex'] = [classify(classifier, get_features(name)) for name in data_test['name']]\n",
    "accuracy = accuracy_score(data_test['sex'], data_test['predicted_sex'])\n",
    "accuracy"
   ],
   "metadata": {
    "collapsed": false
   }
  },
  {
   "cell_type": "code",
   "execution_count": 73,
   "outputs": [
    {
     "data": {
      "text/plain": "0.6761111111111111"
     },
     "execution_count": 73,
     "metadata": {},
     "output_type": "execute_result"
    }
   ],
   "source": [
    "def get_features(sample: str):\n",
    "    \"\"\"\n",
    "    Функция для превращения слова в признак.\n",
    "    Признак: Первая + последняя буквы.\n",
    "    \"\"\"\n",
    "    return sample[1] + sample[-1]  # get last letter\n",
    "\n",
    "\n",
    "samples = [[get_features(name), lable] for name, lable in zip(data_train['name'], data_train['sex'])]\n",
    "classifier = naive_bayesian_train(samples)\n",
    "data_test['predicted_sex'] = [classify(classifier, get_features(name)) for name in data_test['name']]\n",
    "accuracy = accuracy_score(data_test['sex'], data_test['predicted_sex'])\n",
    "accuracy"
   ],
   "metadata": {
    "collapsed": false
   }
  },
  {
   "cell_type": "markdown",
   "source": [
    "При обоих изменениях точность упала"
   ],
   "metadata": {
    "collapsed": false
   }
  },
  {
   "cell_type": "markdown",
   "source": [
    "# Изменим classify"
   ],
   "metadata": {
    "collapsed": false
   }
  },
  {
   "cell_type": "code",
   "execution_count": 76,
   "outputs": [],
   "source": [
    "def get_features(sample: str):\n",
    "    \"\"\"\n",
    "    Функция для превращения слова в признак.\n",
    "    Признак: последняя буква.\n",
    "    \"\"\"\n",
    "    return sample[-1]  # get last letter"
   ],
   "metadata": {
    "collapsed": false
   }
  },
  {
   "cell_type": "code",
   "execution_count": 81,
   "outputs": [
    {
     "data": {
      "text/plain": "0.7775193798449612"
     },
     "execution_count": 81,
     "metadata": {},
     "output_type": "execute_result"
    }
   ],
   "source": [
    "def classify(classifier, feats):\n",
    "    \"\"\"\n",
    "    Функция для классификации\n",
    "    \"\"\"\n",
    "    classes, prob = classifier\n",
    "    return max(classes.keys(),\n",
    "               key=lambda cl: classes[cl] \\\n",
    "                              + sum(prob.get((cl, feat)) if (cl, feat) in prob else 0 for feat in feats))\n",
    "\n",
    "\n",
    "samples = [[get_features(name), lable] for name, lable in zip(data_train['name'], data_train['sex'])]\n",
    "classifier = naive_bayesian_train(samples)\n",
    "data_test['predicted_sex'] = [classify(classifier, get_features(name)) for name in data_test['name']]\n",
    "accuracy = accuracy_score(data_test['sex'], data_test['predicted_sex'])\n",
    "accuracy"
   ],
   "metadata": {
    "collapsed": false
   }
  },
  {
   "cell_type": "markdown",
   "source": [
    "Видно, что незначительно увеличилась. Как будто бы можно считать, что не изменилась"
   ],
   "metadata": {
    "collapsed": false
   }
  },
  {
   "cell_type": "markdown",
   "source": [
    "# sklearn.naive_bayes"
   ],
   "metadata": {
    "collapsed": false
   }
  },
  {
   "cell_type": "code",
   "execution_count": 82,
   "outputs": [
    {
     "name": "stdout",
     "output_type": "stream",
     "text": [
      "Наивный: 0.7745219638242894\n",
      "Гаусс: 0.7315116279069768\n",
      "Мультиномиальный: 0.7315116279069768\n"
     ]
    }
   ],
   "source": [
    "from sklearn.naive_bayes import GaussianNB\n",
    "from sklearn.naive_bayes import MultinomialNB\n",
    "\n",
    "data = pd.read_csv('names.csv')\n",
    "X, y = data['name'], data['sex']\n",
    "\n",
    "# превратим имена в последнюю букву\n",
    "X_numbers = np.array([ord(x[-1]) for x in X])\n",
    "\n",
    "# разделим данные\n",
    "X_train, X_test, y_train, y_test = train_test_split(X_numbers, y, test_size=0.2)\n",
    "\n",
    "# гауссовский метод\n",
    "gnb = GaussianNB()\n",
    "gnb.fit(X_train.reshape(-1, 1), y_train)\n",
    "y_pred_gauss = gnb.predict(X_test.reshape(-1, 1))\n",
    "\n",
    "# мультиноминальный\n",
    "mnb = MultinomialNB()\n",
    "mnb.fit(X_train.reshape(-1, 1), y_train)\n",
    "y_pred_multi = gnb.predict(X_test.reshape(-1, 1))\n",
    "\n",
    "# точность\n",
    "accuracy_gauss = accuracy_score(y_test, y_pred_gauss)\n",
    "accuracy_multi = accuracy_score(y_test, y_pred_multi)\n",
    "print(f\"Наивный: {accuracy_naive}\")\n",
    "print(f\"Гаусс: {accuracy_gauss}\")\n",
    "print(f\"Мультиномиальный: {accuracy_multi}\")"
   ],
   "metadata": {
    "collapsed": false
   }
  },
  {
   "cell_type": "markdown",
   "source": [
    "Видно, что наиболее точный метод — наивный байесовский, который написан руками"
   ],
   "metadata": {
    "collapsed": false
   }
  }
 ],
 "metadata": {
  "kernelspec": {
   "display_name": "Python 3",
   "language": "python",
   "name": "python3"
  },
  "language_info": {
   "codemirror_mode": {
    "name": "ipython",
    "version": 2
   },
   "file_extension": ".py",
   "mimetype": "text/x-python",
   "name": "python",
   "nbconvert_exporter": "python",
   "pygments_lexer": "ipython2",
   "version": "2.7.6"
  }
 },
 "nbformat": 4,
 "nbformat_minor": 0
}
