{
 "cells": [
  {
   "cell_type": "code",
   "execution_count": 122,
   "metadata": {
    "collapsed": true
   },
   "outputs": [],
   "source": [
    "import pandas as pd\n",
    "import numpy as np\n",
    "from sklearn.model_selection import train_test_split\n",
    "import sklearn"
   ]
  },
  {
   "cell_type": "markdown",
   "source": [
    "# Считывание данных"
   ],
   "metadata": {
    "collapsed": false
   }
  },
  {
   "cell_type": "code",
   "execution_count": 123,
   "outputs": [
    {
     "data": {
      "text/plain": "        year      name   percent   sex\n0       1880      John  0.081541   boy\n1       1880   William  0.080511   boy\n2       1880     James  0.050057   boy\n3       1880   Charles  0.045167   boy\n4       1880    George  0.043292   boy\n...      ...       ...       ...   ...\n257995  2008  Carleigh  0.000128  girl\n257996  2008     Iyana  0.000128  girl\n257997  2008    Kenley  0.000127  girl\n257998  2008    Sloane  0.000127  girl\n257999  2008   Elianna  0.000127  girl\n\n[258000 rows x 4 columns]",
      "text/html": "<div>\n<style scoped>\n    .dataframe tbody tr th:only-of-type {\n        vertical-align: middle;\n    }\n\n    .dataframe tbody tr th {\n        vertical-align: top;\n    }\n\n    .dataframe thead th {\n        text-align: right;\n    }\n</style>\n<table border=\"1\" class=\"dataframe\">\n  <thead>\n    <tr style=\"text-align: right;\">\n      <th></th>\n      <th>year</th>\n      <th>name</th>\n      <th>percent</th>\n      <th>sex</th>\n    </tr>\n  </thead>\n  <tbody>\n    <tr>\n      <th>0</th>\n      <td>1880</td>\n      <td>John</td>\n      <td>0.081541</td>\n      <td>boy</td>\n    </tr>\n    <tr>\n      <th>1</th>\n      <td>1880</td>\n      <td>William</td>\n      <td>0.080511</td>\n      <td>boy</td>\n    </tr>\n    <tr>\n      <th>2</th>\n      <td>1880</td>\n      <td>James</td>\n      <td>0.050057</td>\n      <td>boy</td>\n    </tr>\n    <tr>\n      <th>3</th>\n      <td>1880</td>\n      <td>Charles</td>\n      <td>0.045167</td>\n      <td>boy</td>\n    </tr>\n    <tr>\n      <th>4</th>\n      <td>1880</td>\n      <td>George</td>\n      <td>0.043292</td>\n      <td>boy</td>\n    </tr>\n    <tr>\n      <th>...</th>\n      <td>...</td>\n      <td>...</td>\n      <td>...</td>\n      <td>...</td>\n    </tr>\n    <tr>\n      <th>257995</th>\n      <td>2008</td>\n      <td>Carleigh</td>\n      <td>0.000128</td>\n      <td>girl</td>\n    </tr>\n    <tr>\n      <th>257996</th>\n      <td>2008</td>\n      <td>Iyana</td>\n      <td>0.000128</td>\n      <td>girl</td>\n    </tr>\n    <tr>\n      <th>257997</th>\n      <td>2008</td>\n      <td>Kenley</td>\n      <td>0.000127</td>\n      <td>girl</td>\n    </tr>\n    <tr>\n      <th>257998</th>\n      <td>2008</td>\n      <td>Sloane</td>\n      <td>0.000127</td>\n      <td>girl</td>\n    </tr>\n    <tr>\n      <th>257999</th>\n      <td>2008</td>\n      <td>Elianna</td>\n      <td>0.000127</td>\n      <td>girl</td>\n    </tr>\n  </tbody>\n</table>\n<p>258000 rows × 4 columns</p>\n</div>"
     },
     "execution_count": 123,
     "metadata": {},
     "output_type": "execute_result"
    }
   ],
   "source": [
    "data = pd.read_csv(\"names.csv\")\n",
    "data"
   ],
   "metadata": {
    "collapsed": false
   }
  },
  {
   "cell_type": "markdown",
   "source": [
    "# Разделение на тестовую и обучающую выборку"
   ],
   "metadata": {
    "collapsed": false
   }
  },
  {
   "cell_type": "code",
   "execution_count": 124,
   "outputs": [],
   "source": [
    "data_train, data_test = train_test_split(data, test_size=0.3)"
   ],
   "metadata": {
    "collapsed": false
   }
  },
  {
   "cell_type": "code",
   "execution_count": 125,
   "outputs": [
    {
     "data": {
      "text/plain": "        year     name   percent   sex\n89322   1969    Julio  0.000315   boy\n132088  1883   Mollie  0.002507  girl\n28844   1908    Ellie  0.000066   boy\n52027   1932     Carl  0.006245   boy\n149312  1900   Linnie  0.000355  girl\n...      ...      ...       ...   ...\n150925  1901   Daphne  0.000051  girl\n76898   1956     Rich  0.000032   boy\n74374   1954  Dominic  0.000172   boy\n68797   1948   Bonnie  0.000040   boy\n95212   1975    Isaac  0.000624   boy\n\n[77400 rows x 4 columns]",
      "text/html": "<div>\n<style scoped>\n    .dataframe tbody tr th:only-of-type {\n        vertical-align: middle;\n    }\n\n    .dataframe tbody tr th {\n        vertical-align: top;\n    }\n\n    .dataframe thead th {\n        text-align: right;\n    }\n</style>\n<table border=\"1\" class=\"dataframe\">\n  <thead>\n    <tr style=\"text-align: right;\">\n      <th></th>\n      <th>year</th>\n      <th>name</th>\n      <th>percent</th>\n      <th>sex</th>\n    </tr>\n  </thead>\n  <tbody>\n    <tr>\n      <th>89322</th>\n      <td>1969</td>\n      <td>Julio</td>\n      <td>0.000315</td>\n      <td>boy</td>\n    </tr>\n    <tr>\n      <th>132088</th>\n      <td>1883</td>\n      <td>Mollie</td>\n      <td>0.002507</td>\n      <td>girl</td>\n    </tr>\n    <tr>\n      <th>28844</th>\n      <td>1908</td>\n      <td>Ellie</td>\n      <td>0.000066</td>\n      <td>boy</td>\n    </tr>\n    <tr>\n      <th>52027</th>\n      <td>1932</td>\n      <td>Carl</td>\n      <td>0.006245</td>\n      <td>boy</td>\n    </tr>\n    <tr>\n      <th>149312</th>\n      <td>1900</td>\n      <td>Linnie</td>\n      <td>0.000355</td>\n      <td>girl</td>\n    </tr>\n    <tr>\n      <th>...</th>\n      <td>...</td>\n      <td>...</td>\n      <td>...</td>\n      <td>...</td>\n    </tr>\n    <tr>\n      <th>150925</th>\n      <td>1901</td>\n      <td>Daphne</td>\n      <td>0.000051</td>\n      <td>girl</td>\n    </tr>\n    <tr>\n      <th>76898</th>\n      <td>1956</td>\n      <td>Rich</td>\n      <td>0.000032</td>\n      <td>boy</td>\n    </tr>\n    <tr>\n      <th>74374</th>\n      <td>1954</td>\n      <td>Dominic</td>\n      <td>0.000172</td>\n      <td>boy</td>\n    </tr>\n    <tr>\n      <th>68797</th>\n      <td>1948</td>\n      <td>Bonnie</td>\n      <td>0.000040</td>\n      <td>boy</td>\n    </tr>\n    <tr>\n      <th>95212</th>\n      <td>1975</td>\n      <td>Isaac</td>\n      <td>0.000624</td>\n      <td>boy</td>\n    </tr>\n  </tbody>\n</table>\n<p>77400 rows × 4 columns</p>\n</div>"
     },
     "execution_count": 125,
     "metadata": {},
     "output_type": "execute_result"
    }
   ],
   "source": [
    "data_test"
   ],
   "metadata": {
    "collapsed": false
   }
  },
  {
   "cell_type": "code",
   "execution_count": 126,
   "outputs": [
    {
     "data": {
      "text/plain": "        year      name   percent   sex\n171539  1922  Theodora  0.000138  girl\n234864  1985     Janel  0.000100  girl\n24756   1904    Vernie  0.000079   boy\n97962   1977   Domenic  0.000046   boy\n84775   1964    Merlin  0.000047   boy\n...      ...       ...       ...   ...\n12315   1892    Porter  0.000266   boy\n52846   1932    Edison  0.000053   boy\n145989  1896    Pollie  0.000048  girl\n83431   1963    Willis  0.000165   boy\n80151   1960  Nicholas  0.001063   boy\n\n[180600 rows x 4 columns]",
      "text/html": "<div>\n<style scoped>\n    .dataframe tbody tr th:only-of-type {\n        vertical-align: middle;\n    }\n\n    .dataframe tbody tr th {\n        vertical-align: top;\n    }\n\n    .dataframe thead th {\n        text-align: right;\n    }\n</style>\n<table border=\"1\" class=\"dataframe\">\n  <thead>\n    <tr style=\"text-align: right;\">\n      <th></th>\n      <th>year</th>\n      <th>name</th>\n      <th>percent</th>\n      <th>sex</th>\n    </tr>\n  </thead>\n  <tbody>\n    <tr>\n      <th>171539</th>\n      <td>1922</td>\n      <td>Theodora</td>\n      <td>0.000138</td>\n      <td>girl</td>\n    </tr>\n    <tr>\n      <th>234864</th>\n      <td>1985</td>\n      <td>Janel</td>\n      <td>0.000100</td>\n      <td>girl</td>\n    </tr>\n    <tr>\n      <th>24756</th>\n      <td>1904</td>\n      <td>Vernie</td>\n      <td>0.000079</td>\n      <td>boy</td>\n    </tr>\n    <tr>\n      <th>97962</th>\n      <td>1977</td>\n      <td>Domenic</td>\n      <td>0.000046</td>\n      <td>boy</td>\n    </tr>\n    <tr>\n      <th>84775</th>\n      <td>1964</td>\n      <td>Merlin</td>\n      <td>0.000047</td>\n      <td>boy</td>\n    </tr>\n    <tr>\n      <th>...</th>\n      <td>...</td>\n      <td>...</td>\n      <td>...</td>\n      <td>...</td>\n    </tr>\n    <tr>\n      <th>12315</th>\n      <td>1892</td>\n      <td>Porter</td>\n      <td>0.000266</td>\n      <td>boy</td>\n    </tr>\n    <tr>\n      <th>52846</th>\n      <td>1932</td>\n      <td>Edison</td>\n      <td>0.000053</td>\n      <td>boy</td>\n    </tr>\n    <tr>\n      <th>145989</th>\n      <td>1896</td>\n      <td>Pollie</td>\n      <td>0.000048</td>\n      <td>girl</td>\n    </tr>\n    <tr>\n      <th>83431</th>\n      <td>1963</td>\n      <td>Willis</td>\n      <td>0.000165</td>\n      <td>boy</td>\n    </tr>\n    <tr>\n      <th>80151</th>\n      <td>1960</td>\n      <td>Nicholas</td>\n      <td>0.001063</td>\n      <td>boy</td>\n    </tr>\n  </tbody>\n</table>\n<p>180600 rows × 4 columns</p>\n</div>"
     },
     "execution_count": 126,
     "metadata": {},
     "output_type": "execute_result"
    }
   ],
   "source": [
    "data_train"
   ],
   "metadata": {
    "collapsed": false
   }
  },
  {
   "cell_type": "markdown",
   "source": [
    "# Функция для наивной байесовской классификации"
   ],
   "metadata": {
    "collapsed": false
   }
  },
  {
   "cell_type": "code",
   "execution_count": 127,
   "outputs": [],
   "source": [
    "from collections import defaultdict\n",
    "from math import log\n",
    "\n",
    "\n",
    "def train(samples):\n",
    "    \"\"\"\n",
    "    Функция для обучения модели\n",
    "    \"\"\"\n",
    "    classes, freq = defaultdict(lambda: 0), defaultdict(lambda: 0) # классы и частоты\n",
    "\n",
    "    # заполняем словари из классов и частот\n",
    "    for feats, label in samples: # идем по признакам (feats) и полам (label)\n",
    "        classes[label] += 1  # count classes frequencies\n",
    "        for feat in feats:\n",
    "            freq[label, feat] += 1  # count features frequencies\n",
    "\n",
    "    # превращаем count в количество\n",
    "    for label, feat in freq:  # normalize features frequencies\n",
    "        freq[label, feat] /= classes[label]\n",
    "    for c in classes:  # normalize classes frequencies\n",
    "        classes[c] /= len(samples)\n",
    "\n",
    "    return classes, freq  # return P(C) and P(O|C)\n",
    "\n",
    "\n",
    "def classify(classifier, feats):\n",
    "    \"\"\"\n",
    "    Функция для классификации\n",
    "    \"\"\"\n",
    "    classes, prob = classifier\n",
    "    return min(classes.keys(),  # calculate argmin(-log(P(C|O))) -> argmax(P(C|O))\n",
    "           key=lambda cl: -log(classes[cl]) \\\n",
    "                          + sum(-log(prob.get((cl, feat))) if (cl, feat) in prob else 0 for feat in feats))\n",
    "\n",
    "def get_features(sample: str):\n",
    "    \"\"\"\n",
    "    Функция для превращения слова в признак.\n",
    "    Признак: последняя буква.\n",
    "    \"\"\"\n",
    "    return sample[-1]  # get last letter"
   ],
   "metadata": {
    "collapsed": false
   }
  },
  {
   "cell_type": "markdown",
   "source": [
    "# Применение функции"
   ],
   "metadata": {
    "collapsed": false
   }
  },
  {
   "cell_type": "code",
   "execution_count": 128,
   "outputs": [
    {
     "data": {
      "text/plain": "[['a', 'girl'],\n ['l', 'girl'],\n ['e', 'boy'],\n ['c', 'boy'],\n ['n', 'boy'],\n ['n', 'boy'],\n ['d', 'boy'],\n ['n', 'boy'],\n ['l', 'girl'],\n ['r', 'girl'],\n ['a', 'girl'],\n ['a', 'boy'],\n ['d', 'boy'],\n ['a', 'girl'],\n ['x', 'boy'],\n ['l', 'girl'],\n ['n', 'boy'],\n ['e', 'girl'],\n ['e', 'girl'],\n ['a', 'girl'],\n ['e', 'girl'],\n ['a', 'girl'],\n ['l', 'boy'],\n ['y', 'boy'],\n ['a', 'girl'],\n ['a', 'girl'],\n ['a', 'girl'],\n ['h', 'boy'],\n ['m', 'boy'],\n ['l', 'boy'],\n ['n', 'girl'],\n ['e', 'girl'],\n ['o', 'boy'],\n ['h', 'girl'],\n ['n', 'girl'],\n ['e', 'girl'],\n ['a', 'girl'],\n ['y', 'boy'],\n ['e', 'girl'],\n ['h', 'girl'],\n ['t', 'boy'],\n ['l', 'boy'],\n ['o', 'boy'],\n ['e', 'boy'],\n ['r', 'boy'],\n ['a', 'girl'],\n ['e', 'girl'],\n ['a', 'girl'],\n ['h', 'girl'],\n ['t', 'boy'],\n ['a', 'girl'],\n ['i', 'boy'],\n ['y', 'boy'],\n ['n', 'boy'],\n ['a', 'girl'],\n ['k', 'boy'],\n ['a', 'girl'],\n ['a', 'girl'],\n ['y', 'girl'],\n ['n', 'boy'],\n ['e', 'boy'],\n ['s', 'boy'],\n ['i', 'girl'],\n ['d', 'boy'],\n ['h', 'boy'],\n ['n', 'girl'],\n ['e', 'girl'],\n ['e', 'girl'],\n ['a', 'girl'],\n ['l', 'girl'],\n ['r', 'boy'],\n ['s', 'boy'],\n ['a', 'girl'],\n ['n', 'boy'],\n ['n', 'boy'],\n ['e', 'girl'],\n ['a', 'girl'],\n ['s', 'boy'],\n ['n', 'boy'],\n ['a', 'girl'],\n ['s', 'boy'],\n ['a', 'girl'],\n ['a', 'girl'],\n ['o', 'boy'],\n ['n', 'boy'],\n ['e', 'girl'],\n ['d', 'boy'],\n ['e', 'boy'],\n ['a', 'girl'],\n ['i', 'girl'],\n ['a', 'girl'],\n ['d', 'boy'],\n ['r', 'boy'],\n ['t', 'girl'],\n ['a', 'girl'],\n ['h', 'girl'],\n ['e', 'boy'],\n ['e', 'girl'],\n ['d', 'boy'],\n ['e', 'girl'],\n ['n', 'boy'],\n ['i', 'girl'],\n ['e', 'girl'],\n ['n', 'boy'],\n ['n', 'boy'],\n ['n', 'boy'],\n ['e', 'girl'],\n ['e', 'boy'],\n ['o', 'boy'],\n ['o', 'boy'],\n ['e', 'girl'],\n ['y', 'girl'],\n ['e', 'girl'],\n ['e', 'girl'],\n ['s', 'boy'],\n ['m', 'boy'],\n ['a', 'girl'],\n ['m', 'boy'],\n ['a', 'girl'],\n ['a', 'girl'],\n ['n', 'girl'],\n ['a', 'girl'],\n ['l', 'girl'],\n ['a', 'girl'],\n ['a', 'girl'],\n ['e', 'girl'],\n ['e', 'girl'],\n ['e', 'girl'],\n ['e', 'girl'],\n ['a', 'girl'],\n ['n', 'boy'],\n ['e', 'girl'],\n ['e', 'girl'],\n ['e', 'boy'],\n ['a', 'girl'],\n ['y', 'boy'],\n ['y', 'boy'],\n ['m', 'boy'],\n ['a', 'girl'],\n ['a', 'girl'],\n ['d', 'boy'],\n ['e', 'girl'],\n ['g', 'boy'],\n ['r', 'boy'],\n ['n', 'boy'],\n ['n', 'girl'],\n ['s', 'girl'],\n ['a', 'girl'],\n ['t', 'boy'],\n ['k', 'boy'],\n ['s', 'boy'],\n ['a', 'girl'],\n ['r', 'boy'],\n ['s', 'boy'],\n ['a', 'girl'],\n ['a', 'girl'],\n ['r', 'boy'],\n ['e', 'girl'],\n ['y', 'boy'],\n ['s', 'boy'],\n ['a', 'girl'],\n ['n', 'boy'],\n ['n', 'girl'],\n ['s', 'boy'],\n ['e', 'boy'],\n ['e', 'girl'],\n ['e', 'girl'],\n ['s', 'boy'],\n ['e', 'boy'],\n ['l', 'boy'],\n ['s', 'boy'],\n ['n', 'boy'],\n ['r', 'boy'],\n ['n', 'boy'],\n ['e', 'girl'],\n ['y', 'girl'],\n ['e', 'girl'],\n ['e', 'girl'],\n ['r', 'boy'],\n ['r', 'boy'],\n ['e', 'girl'],\n ['y', 'boy'],\n ['n', 'boy'],\n ['a', 'girl'],\n ['e', 'girl'],\n ['i', 'girl'],\n ['r', 'boy'],\n ['k', 'boy'],\n ['n', 'boy'],\n ['n', 'boy'],\n ['e', 'girl'],\n ['a', 'girl'],\n ['e', 'girl'],\n ['l', 'boy'],\n ['l', 'girl'],\n ['y', 'boy'],\n ['y', 'girl'],\n ['e', 'boy'],\n ['c', 'boy'],\n ['a', 'boy'],\n ['e', 'boy'],\n ['e', 'girl'],\n ['a', 'boy'],\n ['a', 'girl'],\n ['l', 'boy'],\n ['n', 'boy'],\n ['e', 'boy'],\n ['e', 'girl'],\n ['n', 'boy'],\n ['d', 'boy'],\n ['e', 'girl'],\n ['s', 'boy'],\n ['n', 'boy'],\n ['e', 'boy'],\n ['l', 'girl'],\n ['n', 'boy'],\n ['e', 'boy'],\n ['l', 'boy'],\n ['l', 'boy'],\n ['n', 'boy'],\n ['y', 'girl'],\n ['a', 'girl'],\n ['t', 'boy'],\n ['o', 'boy'],\n ['m', 'boy'],\n ['n', 'boy'],\n ['a', 'girl'],\n ['e', 'girl'],\n ['a', 'boy'],\n ['a', 'girl'],\n ['o', 'boy'],\n ['a', 'girl'],\n ['r', 'boy'],\n ['a', 'girl'],\n ['e', 'girl'],\n ['s', 'boy'],\n ['y', 'boy'],\n ['e', 'boy'],\n ['o', 'boy'],\n ['n', 'boy'],\n ['e', 'girl'],\n ['e', 'boy'],\n ['n', 'boy'],\n ['s', 'boy'],\n ['r', 'girl'],\n ['n', 'boy'],\n ['h', 'girl'],\n ['l', 'girl'],\n ['n', 'boy'],\n ['d', 'boy'],\n ['a', 'girl'],\n ['r', 'boy'],\n ['n', 'boy'],\n ['k', 'boy'],\n ['a', 'girl'],\n ['e', 'girl'],\n ['e', 'girl'],\n ['y', 'girl'],\n ['s', 'girl'],\n ['e', 'girl'],\n ['e', 'girl'],\n ['e', 'girl'],\n ['l', 'girl'],\n ['a', 'girl'],\n ['a', 'girl'],\n ['e', 'girl'],\n ['y', 'boy'],\n ['e', 'boy'],\n ['o', 'boy'],\n ['e', 'girl'],\n ['e', 'girl'],\n ['e', 'boy'],\n ['s', 'boy'],\n ['y', 'boy'],\n ['a', 'girl'],\n ['e', 'girl'],\n ['e', 'boy'],\n ['s', 'girl'],\n ['e', 'girl'],\n ['t', 'boy'],\n ['h', 'boy'],\n ['a', 'girl'],\n ['g', 'boy'],\n ['y', 'boy'],\n ['o', 'boy'],\n ['y', 'boy'],\n ['r', 'boy'],\n ['y', 'boy'],\n ['y', 'boy'],\n ['w', 'boy'],\n ['a', 'girl'],\n ['e', 'girl'],\n ['a', 'girl'],\n ['y', 'girl'],\n ['e', 'girl'],\n ['n', 'boy'],\n ['y', 'girl'],\n ['e', 'girl'],\n ['n', 'boy'],\n ['e', 'girl'],\n ['y', 'boy'],\n ['a', 'girl'],\n ['s', 'girl'],\n ['e', 'girl'],\n ['s', 'boy'],\n ['d', 'girl'],\n ['e', 'girl'],\n ['e', 'girl'],\n ['l', 'girl'],\n ['n', 'girl'],\n ['e', 'boy'],\n ['t', 'boy'],\n ['h', 'boy'],\n ['a', 'girl'],\n ['e', 'girl'],\n ['u', 'girl'],\n ['n', 'boy'],\n ['y', 'boy'],\n ['y', 'boy'],\n ['n', 'boy'],\n ['y', 'boy'],\n ['e', 'girl'],\n ['e', 'girl'],\n ['y', 'girl'],\n ['t', 'boy'],\n ['e', 'boy'],\n ['n', 'boy'],\n ['s', 'boy'],\n ['m', 'boy'],\n ['a', 'girl'],\n ['k', 'boy'],\n ['e', 'girl'],\n ['a', 'girl'],\n ['y', 'girl'],\n ['y', 'boy'],\n ['e', 'girl'],\n ['a', 'girl'],\n ['r', 'boy'],\n ['b', 'boy'],\n ['n', 'boy'],\n ['e', 'boy'],\n ['a', 'boy'],\n ['e', 'girl'],\n ['k', 'boy'],\n ['y', 'boy'],\n ['n', 'boy'],\n ['k', 'boy'],\n ['e', 'boy'],\n ['n', 'boy'],\n ['e', 'boy'],\n ['e', 'boy'],\n ['a', 'girl'],\n ['e', 'girl'],\n ['o', 'boy'],\n ['t', 'boy'],\n ['a', 'girl'],\n ['a', 'girl'],\n ['d', 'boy'],\n ['d', 'boy'],\n ['a', 'girl'],\n ['e', 'girl'],\n ['n', 'boy'],\n ['d', 'boy'],\n ['a', 'girl'],\n ['t', 'boy'],\n ['e', 'girl'],\n ['n', 'boy'],\n ['l', 'boy'],\n ['e', 'girl'],\n ['y', 'boy'],\n ['o', 'boy'],\n ['a', 'girl'],\n ['r', 'girl'],\n ['y', 'boy'],\n ['a', 'girl'],\n ['a', 'girl'],\n ['e', 'girl'],\n ['h', 'boy'],\n ['y', 'boy'],\n ['a', 'girl'],\n ['u', 'girl'],\n ['n', 'girl'],\n ['d', 'boy'],\n ['d', 'boy'],\n ['a', 'girl'],\n ['y', 'girl'],\n ['k', 'boy'],\n ['y', 'boy'],\n ['e', 'boy'],\n ['n', 'boy'],\n ['s', 'boy'],\n ['e', 'girl'],\n ['i', 'girl'],\n ['n', 'boy'],\n ['t', 'boy'],\n ['n', 'girl'],\n ['a', 'girl'],\n ['y', 'boy'],\n ['e', 'girl'],\n ['l', 'boy'],\n ['r', 'boy'],\n ['a', 'girl'],\n ['y', 'boy'],\n ['n', 'boy'],\n ['n', 'boy'],\n ['a', 'girl'],\n ['e', 'girl'],\n ['n', 'boy'],\n ['t', 'boy'],\n ['t', 'boy'],\n ['y', 'boy'],\n ['a', 'girl'],\n ['x', 'boy'],\n ['n', 'boy'],\n ['n', 'boy'],\n ['n', 'boy'],\n ['n', 'girl'],\n ['n', 'boy'],\n ['y', 'girl'],\n ['a', 'girl'],\n ['i', 'girl'],\n ['d', 'boy'],\n ['h', 'boy'],\n ['r', 'boy'],\n ['e', 'girl'],\n ['n', 'boy'],\n ['a', 'girl'],\n ['a', 'girl'],\n ['e', 'girl'],\n ['l', 'boy'],\n ['a', 'girl'],\n ['e', 'girl'],\n ['y', 'boy'],\n ['y', 'girl'],\n ['m', 'girl'],\n ['t', 'boy'],\n ['e', 'girl'],\n ['y', 'boy'],\n ['o', 'girl'],\n ['d', 'boy'],\n ['e', 'girl'],\n ['a', 'girl'],\n ['e', 'boy'],\n ['y', 'girl'],\n ['e', 'girl'],\n ['r', 'boy'],\n ['s', 'boy'],\n ['c', 'boy'],\n ['a', 'girl'],\n ['w', 'boy'],\n ['t', 'boy'],\n ['a', 'girl'],\n ['y', 'boy'],\n ['e', 'girl'],\n ['n', 'boy'],\n ['a', 'girl'],\n ['l', 'boy'],\n ['e', 'boy'],\n ['s', 'boy'],\n ['y', 'boy'],\n ['t', 'girl'],\n ['y', 'boy'],\n ['l', 'boy'],\n ['n', 'boy'],\n ['a', 'girl'],\n ['d', 'boy'],\n ['s', 'girl'],\n ['e', 'girl'],\n ['a', 'girl'],\n ['t', 'girl'],\n ['e', 'boy'],\n ['n', 'girl'],\n ['e', 'boy'],\n ['u', 'girl'],\n ['h', 'boy'],\n ['n', 'boy'],\n ['y', 'boy'],\n ['n', 'boy'],\n ['e', 'girl'],\n ['k', 'boy'],\n ['o', 'boy'],\n ['m', 'boy'],\n ['e', 'boy'],\n ['s', 'boy'],\n ['n', 'boy'],\n ['y', 'girl'],\n ['o', 'boy'],\n ['n', 'boy'],\n ['a', 'girl'],\n ['a', 'girl'],\n ['s', 'boy'],\n ['e', 'girl'],\n ['a', 'girl'],\n ['s', 'girl'],\n ['c', 'boy'],\n ['e', 'girl'],\n ['r', 'boy'],\n ['y', 'boy'],\n ['e', 'boy'],\n ['o', 'boy'],\n ['l', 'girl'],\n ['k', 'boy'],\n ['a', 'girl'],\n ['y', 'boy'],\n ['s', 'girl'],\n ['n', 'girl'],\n ['o', 'girl'],\n ['a', 'girl'],\n ['r', 'boy'],\n ['e', 'girl'],\n ['a', 'boy'],\n ['o', 'boy'],\n ['s', 'boy'],\n ['n', 'boy'],\n ['e', 'girl'],\n ['a', 'girl'],\n ['s', 'boy'],\n ['e', 'boy'],\n ['e', 'boy'],\n ['n', 'boy'],\n ['r', 'boy'],\n ['t', 'boy'],\n ['y', 'girl'],\n ['o', 'boy'],\n ['s', 'boy'],\n ['e', 'boy'],\n ['s', 'boy'],\n ['a', 'girl'],\n ['e', 'boy'],\n ['o', 'boy'],\n ['e', 'girl'],\n ['n', 'boy'],\n ['n', 'girl'],\n ['e', 'girl'],\n ['d', 'boy'],\n ['e', 'girl'],\n ['n', 'girl'],\n ['d', 'girl'],\n ['l', 'boy'],\n ['r', 'girl'],\n ['e', 'girl'],\n ['y', 'boy'],\n ['e', 'girl'],\n ['e', 'girl'],\n ['a', 'girl'],\n ['e', 'boy'],\n ['e', 'boy'],\n ['e', 'girl'],\n ['e', 'boy'],\n ['n', 'boy'],\n ['n', 'boy'],\n ['a', 'girl'],\n ['a', 'girl'],\n ['e', 'girl'],\n ['a', 'girl'],\n ['o', 'boy'],\n ['a', 'girl'],\n ['e', 'girl'],\n ['l', 'girl'],\n ['n', 'boy'],\n ['l', 'boy'],\n ['y', 'boy'],\n ['a', 'girl'],\n ['r', 'boy'],\n ['t', 'boy'],\n ['e', 'girl'],\n ['e', 'girl'],\n ['y', 'girl'],\n ['d', 'boy'],\n ['s', 'boy'],\n ['o', 'boy'],\n ['e', 'girl'],\n ['s', 'girl'],\n ['e', 'girl'],\n ['e', 'boy'],\n ['e', 'boy'],\n ['m', 'boy'],\n ['a', 'girl'],\n ['k', 'boy'],\n ['s', 'boy'],\n ['y', 'boy'],\n ['e', 'boy'],\n ['n', 'boy'],\n ['a', 'girl'],\n ['n', 'boy'],\n ['a', 'girl'],\n ['u', 'girl'],\n ['e', 'girl'],\n ['n', 'girl'],\n ['s', 'boy'],\n ['n', 'boy'],\n ['e', 'girl'],\n ['n', 'girl'],\n ['e', 'girl'],\n ['e', 'girl'],\n ['e', 'girl'],\n ['n', 'boy'],\n ['a', 'girl'],\n ['t', 'girl'],\n ['e', 'boy'],\n ['i', 'girl'],\n ['e', 'girl'],\n ['e', 'boy'],\n ['o', 'boy'],\n ['e', 'girl'],\n ['e', 'boy'],\n ['o', 'girl'],\n ['d', 'boy'],\n ['y', 'boy'],\n ['a', 'girl'],\n ['y', 'boy'],\n ['y', 'girl'],\n ['e', 'girl'],\n ['y', 'boy'],\n ['y', 'boy'],\n ['a', 'girl'],\n ['e', 'boy'],\n ['e', 'girl'],\n ['y', 'girl'],\n ['n', 'boy'],\n ['n', 'boy'],\n ['e', 'boy'],\n ['t', 'boy'],\n ['l', 'boy'],\n ['e', 'boy'],\n ['a', 'girl'],\n ['o', 'boy'],\n ['y', 'girl'],\n ['t', 'boy'],\n ['y', 'girl'],\n ['l', 'boy'],\n ['r', 'boy'],\n ['a', 'girl'],\n ['a', 'girl'],\n ['a', 'girl'],\n ['e', 'boy'],\n ['e', 'girl'],\n ['n', 'boy'],\n ['r', 'boy'],\n ['a', 'girl'],\n ['n', 'boy'],\n ['e', 'girl'],\n ['n', 'girl'],\n ['y', 'girl'],\n ['k', 'boy'],\n ['n', 'girl'],\n ['e', 'girl'],\n ['t', 'boy'],\n ['y', 'boy'],\n ['l', 'boy'],\n ['y', 'girl'],\n ['l', 'boy'],\n ['l', 'boy'],\n ['n', 'boy'],\n ['y', 'boy'],\n ['d', 'boy'],\n ['a', 'girl'],\n ['y', 'boy'],\n ['a', 'girl'],\n ['e', 'boy'],\n ['a', 'girl'],\n ['a', 'girl'],\n ['e', 'boy'],\n ['y', 'girl'],\n ['y', 'girl'],\n ['e', 'girl'],\n ['n', 'girl'],\n ['y', 'girl'],\n ['d', 'boy'],\n ['d', 'boy'],\n ['a', 'girl'],\n ['n', 'girl'],\n ['o', 'boy'],\n ['y', 'girl'],\n ['e', 'girl'],\n ['a', 'girl'],\n ['l', 'girl'],\n ['e', 'girl'],\n ['h', 'boy'],\n ['a', 'girl'],\n ['a', 'girl'],\n ['r', 'boy'],\n ['e', 'girl'],\n ['l', 'boy'],\n ['y', 'boy'],\n ['e', 'girl'],\n ['d', 'boy'],\n ['y', 'boy'],\n ['e', 'boy'],\n ['a', 'girl'],\n ['h', 'boy'],\n ['r', 'boy'],\n ['n', 'girl'],\n ['n', 'boy'],\n ['t', 'boy'],\n ['a', 'girl'],\n ['a', 'girl'],\n ['s', 'boy'],\n ['l', 'boy'],\n ['l', 'boy'],\n ['y', 'boy'],\n ['e', 'girl'],\n ['e', 'girl'],\n ['e', 'girl'],\n ['b', 'boy'],\n ['y', 'girl'],\n ['l', 'boy'],\n ['a', 'girl'],\n ['r', 'boy'],\n ['t', 'boy'],\n ['e', 'boy'],\n ['n', 'girl'],\n ['y', 'girl'],\n ['t', 'boy'],\n ['l', 'girl'],\n ['e', 'girl'],\n ['h', 'girl'],\n ['l', 'boy'],\n ['e', 'girl'],\n ['e', 'girl'],\n ['l', 'boy'],\n ['i', 'girl'],\n ['z', 'girl'],\n ['h', 'girl'],\n ['y', 'girl'],\n ['o', 'boy'],\n ['h', 'boy'],\n ['o', 'boy'],\n ['n', 'boy'],\n ['e', 'girl'],\n ['s', 'boy'],\n ['a', 'girl'],\n ['a', 'girl'],\n ['e', 'girl'],\n ['n', 'boy'],\n ['r', 'girl'],\n ['a', 'girl'],\n ['n', 'boy'],\n ['y', 'boy'],\n ['a', 'girl'],\n ['e', 'boy'],\n ['a', 'girl'],\n ['e', 'girl'],\n ['s', 'girl'],\n ['s', 'boy'],\n ['t', 'boy'],\n ['k', 'boy'],\n ['a', 'girl'],\n ['s', 'girl'],\n ['e', 'girl'],\n ['a', 'girl'],\n ['k', 'boy'],\n ['d', 'boy'],\n ['a', 'girl'],\n ['s', 'boy'],\n ['e', 'girl'],\n ['e', 'girl'],\n ['l', 'boy'],\n ['y', 'girl'],\n ['r', 'boy'],\n ['n', 'boy'],\n ['y', 'boy'],\n ['n', 'boy'],\n ['n', 'girl'],\n ['n', 'boy'],\n ['r', 'boy'],\n ['l', 'boy'],\n ['s', 'boy'],\n ['a', 'girl'],\n ['r', 'boy'],\n ['y', 'girl'],\n ['r', 'boy'],\n ['h', 'boy'],\n ['e', 'girl'],\n ['c', 'boy'],\n ['m', 'boy'],\n ['l', 'boy'],\n ['c', 'boy'],\n ['h', 'boy'],\n ['n', 'boy'],\n ['l', 'boy'],\n ['e', 'girl'],\n ['a', 'girl'],\n ['a', 'girl'],\n ['e', 'girl'],\n ['e', 'girl'],\n ['e', 'girl'],\n ['a', 'girl'],\n ['a', 'girl'],\n ['a', 'girl'],\n ['e', 'boy'],\n ['w', 'boy'],\n ['e', 'girl'],\n ['e', 'boy'],\n ['n', 'boy'],\n ['n', 'boy'],\n ['n', 'boy'],\n ['e', 'boy'],\n ['y', 'boy'],\n ['a', 'girl'],\n ['a', 'girl'],\n ['e', 'girl'],\n ['e', 'girl'],\n ['o', 'boy'],\n ['n', 'boy'],\n ['l', 'boy'],\n ['a', 'girl'],\n ['e', 'girl'],\n ['a', 'girl'],\n ['e', 'girl'],\n ['r', 'boy'],\n ['e', 'girl'],\n ['a', 'girl'],\n ['s', 'boy'],\n ['n', 'boy'],\n ['k', 'boy'],\n ['y', 'girl'],\n ['o', 'boy'],\n ['y', 'boy'],\n ['e', 'girl'],\n ['n', 'boy'],\n ['e', 'girl'],\n ['a', 'girl'],\n ['y', 'boy'],\n ['k', 'boy'],\n ['e', 'girl'],\n ['a', 'girl'],\n ['h', 'girl'],\n ['d', 'boy'],\n ['b', 'boy'],\n ['o', 'girl'],\n ['e', 'girl'],\n ['l', 'girl'],\n ['n', 'boy'],\n ['a', 'girl'],\n ['n', 'boy'],\n ['r', 'boy'],\n ['e', 'girl'],\n ['e', 'girl'],\n ['e', 'girl'],\n ['l', 'boy'],\n ['n', 'boy'],\n ['y', 'boy'],\n ['n', 'girl'],\n ['n', 'boy'],\n ['a', 'girl'],\n ['a', 'girl'],\n ['r', 'boy'],\n ['a', 'girl'],\n ['d', 'girl'],\n ['a', 'girl'],\n ['y', 'boy'],\n ['r', 'boy'],\n ['a', 'girl'],\n ['y', 'girl'],\n ['n', 'boy'],\n ['a', 'girl'],\n ['i', 'girl'],\n ['s', 'girl'],\n ['e', 'girl'],\n ['e', 'girl'],\n ['l', 'boy'],\n ['i', 'boy'],\n ['p', 'boy'],\n ['e', 'girl'],\n ['n', 'boy'],\n ['e', 'girl'],\n ['a', 'girl'],\n ['a', 'girl'],\n ['s', 'boy'],\n ['a', 'girl'],\n ['z', 'boy'],\n ['f', 'boy'],\n ['l', 'boy'],\n ['n', 'boy'],\n ['h', 'boy'],\n ['n', 'boy'],\n ['l', 'girl'],\n ['e', 'girl'],\n ['e', 'girl'],\n ['s', 'boy'],\n ['e', 'girl'],\n ['s', 'girl'],\n ['e', 'girl'],\n ['a', 'girl'],\n ['e', 'girl'],\n ['i', 'girl'],\n ['a', 'girl'],\n ['m', 'boy'],\n ['n', 'boy'],\n ['e', 'girl'],\n ['n', 'boy'],\n ['s', 'boy'],\n ['a', 'girl'],\n ['a', 'girl'],\n ['h', 'boy'],\n ['y', 'girl'],\n ['n', 'girl'],\n ['y', 'boy'],\n ['a', 'girl'],\n ['e', 'boy'],\n ['o', 'boy'],\n ['r', 'girl'],\n ['a', 'girl'],\n ['a', 'girl'],\n ['y', 'girl'],\n ['a', 'girl'],\n ['e', 'girl'],\n ['n', 'boy'],\n ['l', 'boy'],\n ['n', 'boy'],\n ['y', 'boy'],\n ['e', 'girl'],\n ['e', 'girl'],\n ['a', 'girl'],\n ['s', 'girl'],\n ['h', 'boy'],\n ['d', 'boy'],\n ['a', 'girl'],\n ['a', 'girl'],\n ['y', 'boy'],\n ['l', 'boy'],\n ['a', 'girl'],\n ['e', 'boy'],\n ['l', 'boy'],\n ['h', 'boy'],\n ['y', 'girl'],\n ['n', 'girl'],\n ['a', 'girl'],\n ['r', 'boy'],\n ['e', 'boy'],\n ['s', 'girl'],\n ['s', 'boy'],\n ['h', 'girl'],\n ['e', 'girl'],\n ['n', 'boy'],\n ['a', 'girl'],\n ['a', 'girl'],\n ['a', 'girl'],\n ['s', 'boy'],\n ['y', 'girl'],\n ['r', 'boy'],\n ['w', 'boy'],\n ['l', 'boy'],\n ['r', 'boy'],\n ['l', 'girl'],\n ['a', 'girl'],\n ['e', 'boy'],\n ['r', 'boy'],\n ['l', 'boy'],\n ['n', 'boy'],\n ['a', 'girl'],\n ['e', 'girl'],\n ['e', 'boy'],\n ['e', 'girl'],\n ['n', 'boy'],\n ['a', 'girl'],\n ['t', 'girl'],\n ['a', 'girl'],\n ['e', 'girl'],\n ['a', 'girl'],\n ['s', 'boy'],\n ['n', 'boy'],\n ['a', 'girl'],\n ['n', 'boy'],\n ['h', 'boy'],\n ['a', 'boy'],\n ['a', 'girl'],\n ['a', 'girl'],\n ['m', 'boy'],\n ['a', 'girl'],\n ['e', 'girl'],\n ['e', 'girl'],\n ['y', 'boy'],\n ['a', 'girl'],\n ['s', 'boy'],\n ['y', 'boy'],\n ['n', 'girl'],\n ['e', 'boy'],\n ['t', 'boy'],\n ['y', 'girl'],\n ['e', 'boy'],\n ['e', 'boy'],\n ['a', 'girl'],\n ['h', 'girl'],\n ['y', 'boy'],\n ['t', 'boy'],\n ['t', 'boy'],\n ['s', 'boy'],\n ['r', 'boy'],\n ['r', 'boy'],\n ['y', 'boy'],\n ['l', 'girl'],\n ['y', 'boy'],\n ['a', 'girl'],\n ['a', 'girl'],\n ['a', 'girl'],\n ['y', 'boy'],\n ['t', 'boy'],\n ['n', 'girl'],\n ...]"
     },
     "execution_count": 128,
     "metadata": {},
     "output_type": "execute_result"
    }
   ],
   "source": [
    "# обучение\n",
    "samples = [[get_features(name), lable] for name, lable in zip(data_train['name'], data_train['sex'])]\n",
    "samples"
   ],
   "metadata": {
    "collapsed": false
   }
  },
  {
   "cell_type": "code",
   "execution_count": 129,
   "outputs": [
    {
     "data": {
      "text/plain": "(defaultdict(<function __main__.train.<locals>.<lambda>()>,\n             {'girl': 0.49962901439645624, 'boy': 0.5003709856035438}),\n defaultdict(<function __main__.train.<locals>.<lambda>()>,\n             {('girl', 'a'): 0.3849146099542296,\n              ('girl', 'l'): 0.03525317788392273,\n              ('boy', 'e'): 0.13735102415704847,\n              ('boy', 'c'): 0.009339692586895659,\n              ('boy', 'n'): 0.21506744718757953,\n              ('boy', 'd'): 0.0727145971427623,\n              ('girl', 'r'): 0.011813859674398502,\n              ('boy', 'a'): 0.015824360662631272,\n              ('boy', 'x'): 0.004293602753217436,\n              ('girl', 'e'): 0.3027717132313012,\n              ('boy', 'l'): 0.08320515232330386,\n              ('boy', 'y'): 0.11029468721989222,\n              ('boy', 'h'): 0.026281717883740747,\n              ('boy', 'm'): 0.016123142297520113,\n              ('girl', 'n'): 0.07941662141345184,\n              ('boy', 'o'): 0.06316465081279671,\n              ('girl', 'h'): 0.024935444903749184,\n              ('boy', 't'): 0.052640897672823046,\n              ('boy', 'r'): 0.06097358549027853,\n              ('boy', 'i'): 0.005577257184591721,\n              ('boy', 'k'): 0.022685272278597277,\n              ('girl', 'y'): 0.07777642325978301,\n              ('boy', 's'): 0.07881195569179014,\n              ('girl', 'i'): 0.027129764055279112,\n              ('girl', 't'): 0.010860771558077421,\n              ('boy', 'g'): 0.006152688481414675,\n              ('girl', 's'): 0.022286746533973157,\n              ('boy', 'w'): 0.004880100036517755,\n              ('girl', 'd'): 0.007779858809969745,\n              ('girl', 'u'): 0.001961588332428269,\n              ('boy', 'b'): 0.003862029280600219,\n              ('girl', 'm'): 0.003236066627508783,\n              ('girl', 'o'): 0.005197654959937052,\n              ('girl', 'z'): 0.002017000432214378,\n              ('boy', 'p'): 0.003164872132526254,\n              ('boy', 'z'): 0.0023349231467239147,\n              ('boy', 'f'): 0.003629643564575564,\n              ('girl', 'k'): 0.0009863353761927454,\n              ('girl', 'b'): 0.00014407145944388418,\n              ('girl', 'w'): 0.0004432967982888744,\n              ('boy', 'j'): 8.85278918189162e-05,\n              ('girl', 'g'): 0.0005208737379894274,\n              ('boy', 'v'): 0.0005532993238682262,\n              ('boy', 'u'): 0.0008520809587570684,\n              ('girl', 'x'): 0.00021056597918721532,\n              ('girl', 'c'): 0.00031030775880221205,\n              ('boy', 'q'): 0.0001327918377283743,\n              ('girl', 'v'): 3.324725987166558e-05}))"
     },
     "execution_count": 129,
     "metadata": {},
     "output_type": "execute_result"
    }
   ],
   "source": [
    "classifier = train(samples)\n",
    "classifier"
   ],
   "metadata": {
    "collapsed": false
   }
  },
  {
   "cell_type": "code",
   "execution_count": 130,
   "outputs": [
    {
     "name": "stdout",
     "output_type": "stream",
     "text": [
      "Max is a boy\n",
      "Nikita is a girl\n",
      "Vika is a girl\n"
     ]
    }
   ],
   "source": [
    "# проверка\n",
    "names = ['Max', 'Nikita', 'Vika']\n",
    "for name in names:\n",
    "    print(f\"{name} is a {classify(classifier, get_features(name))}\")"
   ],
   "metadata": {
    "collapsed": false
   }
  },
  {
   "cell_type": "code",
   "execution_count": 131,
   "outputs": [
    {
     "data": {
      "text/plain": "           name   sex class\n89322     Julio   boy   boy\n132088   Mollie  girl  girl\n28844     Ellie   boy  girl\n52027      Carl   boy   boy\n149312   Linnie  girl  girl\n...         ...   ...   ...\n150925   Daphne  girl  girl\n76898      Rich   boy   boy\n74374   Dominic   boy   boy\n68797    Bonnie   boy  girl\n95212     Isaac   boy   boy\n\n[77400 rows x 3 columns]",
      "text/html": "<div>\n<style scoped>\n    .dataframe tbody tr th:only-of-type {\n        vertical-align: middle;\n    }\n\n    .dataframe tbody tr th {\n        vertical-align: top;\n    }\n\n    .dataframe thead th {\n        text-align: right;\n    }\n</style>\n<table border=\"1\" class=\"dataframe\">\n  <thead>\n    <tr style=\"text-align: right;\">\n      <th></th>\n      <th>name</th>\n      <th>sex</th>\n      <th>class</th>\n    </tr>\n  </thead>\n  <tbody>\n    <tr>\n      <th>89322</th>\n      <td>Julio</td>\n      <td>boy</td>\n      <td>boy</td>\n    </tr>\n    <tr>\n      <th>132088</th>\n      <td>Mollie</td>\n      <td>girl</td>\n      <td>girl</td>\n    </tr>\n    <tr>\n      <th>28844</th>\n      <td>Ellie</td>\n      <td>boy</td>\n      <td>girl</td>\n    </tr>\n    <tr>\n      <th>52027</th>\n      <td>Carl</td>\n      <td>boy</td>\n      <td>boy</td>\n    </tr>\n    <tr>\n      <th>149312</th>\n      <td>Linnie</td>\n      <td>girl</td>\n      <td>girl</td>\n    </tr>\n    <tr>\n      <th>...</th>\n      <td>...</td>\n      <td>...</td>\n      <td>...</td>\n    </tr>\n    <tr>\n      <th>150925</th>\n      <td>Daphne</td>\n      <td>girl</td>\n      <td>girl</td>\n    </tr>\n    <tr>\n      <th>76898</th>\n      <td>Rich</td>\n      <td>boy</td>\n      <td>boy</td>\n    </tr>\n    <tr>\n      <th>74374</th>\n      <td>Dominic</td>\n      <td>boy</td>\n      <td>boy</td>\n    </tr>\n    <tr>\n      <th>68797</th>\n      <td>Bonnie</td>\n      <td>boy</td>\n      <td>girl</td>\n    </tr>\n    <tr>\n      <th>95212</th>\n      <td>Isaac</td>\n      <td>boy</td>\n      <td>boy</td>\n    </tr>\n  </tbody>\n</table>\n<p>77400 rows × 3 columns</p>\n</div>"
     },
     "execution_count": 131,
     "metadata": {},
     "output_type": "execute_result"
    }
   ],
   "source": [
    "data_test['class'] = [classify(classifier, get_features(name)) for name in data_test['name']]\n",
    "data_test[['name', 'sex', 'class']]"
   ],
   "metadata": {
    "collapsed": false
   }
  },
  {
   "cell_type": "markdown",
   "source": [
    "# Точность"
   ],
   "metadata": {
    "collapsed": false
   }
  },
  {
   "cell_type": "markdown",
   "source": [
    "## Через частоту"
   ],
   "metadata": {
    "collapsed": false
   }
  },
  {
   "cell_type": "code",
   "execution_count": 132,
   "outputs": [
    {
     "data": {
      "text/plain": "0.7715503875968992"
     },
     "execution_count": 132,
     "metadata": {},
     "output_type": "execute_result"
    }
   ],
   "source": [
    "# вручную\n",
    "accuracy = sum([sex == cl for sex, cl in zip(data_test['sex'], data_test['class'])]) / data_test.shape[0]\n",
    "accuracy"
   ],
   "metadata": {
    "collapsed": false
   }
  },
  {
   "cell_type": "code",
   "execution_count": 133,
   "outputs": [
    {
     "data": {
      "text/plain": "0.7715503875968992"
     },
     "execution_count": 133,
     "metadata": {},
     "output_type": "execute_result"
    }
   ],
   "source": [
    "accuracy = sklearn.metrics.accuracy_score(data_test['sex'], data_test['class'])\n",
    "accuracy_naive = sklearn.metrics.accuracy_score(data_test['sex'], data_test['class'])\n",
    "accuracy"
   ],
   "metadata": {
    "collapsed": false
   }
  },
  {
   "cell_type": "markdown",
   "source": [
    "## Через полноту"
   ],
   "metadata": {
    "collapsed": false
   }
  },
  {
   "cell_type": "code",
   "execution_count": 134,
   "outputs": [
    {
     "data": {
      "text/plain": "[0.8302228664613155, 0.7130807129775324]"
     },
     "execution_count": 134,
     "metadata": {},
     "output_type": "execute_result"
    }
   ],
   "source": [
    "# вручную\n",
    "\n",
    "recall = [0, 0]\n",
    "\n",
    "# насколько верно он определяет мужские имена\n",
    "sex = 'boy'\n",
    "recall[0] = data_test.loc[data_test['sex'].str.contains(sex) & data_test['class'].str.contains(sex)].shape[0] / data_test.loc[data_test['sex'].str.contains(sex)].shape[0]\n",
    "\n",
    "# насколько верно он определяет мужские имена\n",
    "sex = 'girl'\n",
    "recall[1] = data_test.loc[data_test['sex'].str.contains(sex) & data_test['class'].str.contains(sex)].shape[0] / data_test.loc[data_test['sex'].str.contains(sex)].shape[0]\n",
    "\n",
    "recall"
   ],
   "metadata": {
    "collapsed": false
   }
  },
  {
   "cell_type": "code",
   "execution_count": 135,
   "outputs": [
    {
     "data": {
      "text/plain": "(array([0.83022287, 0.71308071]),)"
     },
     "execution_count": 135,
     "metadata": {},
     "output_type": "execute_result"
    }
   ],
   "source": [
    "# автоматически\n",
    "\n",
    "sklearn.metrics.recall_score(data_test['sex'], data_test['class'], average=None),"
   ],
   "metadata": {
    "collapsed": false
   }
  },
  {
   "cell_type": "markdown",
   "source": [
    "# Изменим get_features"
   ],
   "metadata": {
    "collapsed": false
   }
  },
  {
   "cell_type": "code",
   "execution_count": 136,
   "outputs": [
    {
     "data": {
      "text/plain": "0.6977131782945737"
     },
     "execution_count": 136,
     "metadata": {},
     "output_type": "execute_result"
    }
   ],
   "source": [
    "def get_features(sample: str):\n",
    "    \"\"\"\n",
    "    Функция для превращения слова в признак.\n",
    "    Признак: последние 2 буквы.\n",
    "    \"\"\"\n",
    "    return sample[-2:]  # get last letter\n",
    "\n",
    "samples = [[get_features(name), lable] for name, lable in zip(data_train['name'], data_train['sex'])]\n",
    "classifier = train(samples)\n",
    "data_test['class'] = [classify(classifier, get_features(name)) for name in data_test['name']]\n",
    "accuracy = sklearn.metrics.accuracy_score(data_test['sex'], data_test['class'])\n",
    "accuracy"
   ],
   "metadata": {
    "collapsed": false
   }
  },
  {
   "cell_type": "code",
   "execution_count": 137,
   "outputs": [
    {
     "data": {
      "text/plain": "0.7053617571059432"
     },
     "execution_count": 137,
     "metadata": {},
     "output_type": "execute_result"
    }
   ],
   "source": [
    "def get_features(sample: str):\n",
    "    \"\"\"\n",
    "    Функция для превращения слова в признак.\n",
    "    Признак: Первая + последняя буквы.\n",
    "    \"\"\"\n",
    "    return sample[1] + sample[-1]  # get last letter\n",
    "\n",
    "samples = [[get_features(name), lable] for name, lable in zip(data_train['name'], data_train['sex'])]\n",
    "classifier = train(samples)\n",
    "data_test['class'] = [classify(classifier, get_features(name)) for name in data_test['name']]\n",
    "accuracy = sklearn.metrics.accuracy_score(data_test['sex'], data_test['class'])\n",
    "accuracy"
   ],
   "metadata": {
    "collapsed": false
   }
  },
  {
   "cell_type": "markdown",
   "source": [
    "# Изменим classify"
   ],
   "metadata": {
    "collapsed": false
   }
  },
  {
   "cell_type": "code",
   "execution_count": 138,
   "outputs": [
    {
     "data": {
      "text/plain": "0.6738372093023256"
     },
     "execution_count": 138,
     "metadata": {},
     "output_type": "execute_result"
    }
   ],
   "source": [
    "def classify(classifier, feats):\n",
    "    \"\"\"\n",
    "    Функция для классификации\n",
    "    \"\"\"\n",
    "    classes, prob = classifier\n",
    "    return max(classes.keys(),\n",
    "           key=lambda cl: log(classes[cl]) \\\n",
    "                          + sum(prob.get((cl, feat)) if (cl, feat) in prob else 0 for feat in feats))\n",
    "\n",
    "samples = [[get_features(name), lable] for name, lable in zip(data_train['name'], data_train['sex'])]\n",
    "classifier = train(samples)\n",
    "data_test['class'] = [classify(classifier, get_features(name)) for name in data_test['name']]\n",
    "accuracy = sklearn.metrics.accuracy_score(data_test['sex'], data_test['class'])\n",
    "accuracy"
   ],
   "metadata": {
    "collapsed": false
   }
  },
  {
   "cell_type": "markdown",
   "source": [
    "Видно, что точность упала"
   ],
   "metadata": {
    "collapsed": false
   }
  },
  {
   "cell_type": "markdown",
   "source": [
    "# sklearn.naive_bayes"
   ],
   "metadata": {
    "collapsed": false
   }
  },
  {
   "cell_type": "code",
   "execution_count": 139,
   "outputs": [
    {
     "name": "stdout",
     "output_type": "stream",
     "text": [
      "Наивный: 0.7715503875968992\n",
      "Гаусс: 0.7329263565891473\n",
      "Мультиномиальный: 0.7329263565891473\n"
     ]
    }
   ],
   "source": [
    "from sklearn.naive_bayes import GaussianNB\n",
    "from sklearn.naive_bayes import MultinomialNB\n",
    "\n",
    "data = pd.read_csv('names.csv')\n",
    "X, y = data['name'], data['sex']\n",
    "\n",
    "# превратим имена в последнюю букву\n",
    "X_numbers = np.array([ord(x[-1]) for x in X])\n",
    "\n",
    "# разделим данные\n",
    "X_train, X_test, y_train, y_test = train_test_split(X_numbers, y, test_size=0.2)\n",
    "\n",
    "# гауссовский метод\n",
    "gnb = GaussianNB()\n",
    "gnb.fit(X_train.reshape(-1, 1), y_train)\n",
    "y_pred_gauss = gnb.predict(X_test.reshape(-1, 1))\n",
    "\n",
    "# мультиноминальный\n",
    "mnb = MultinomialNB()\n",
    "mnb.fit(X_train.reshape(-1, 1), y_train)\n",
    "y_pred_multi = gnb.predict(X_test.reshape(-1, 1))\n",
    "\n",
    "# точность\n",
    "accuracy_gauss = sklearn.metrics.accuracy_score(y_test, y_pred_gauss)\n",
    "accuracy_multi = sklearn.metrics.accuracy_score(y_test, y_pred_multi)\n",
    "print(f\"Наивный: {accuracy_naive}\")\n",
    "print(f\"Гаусс: {accuracy_gauss}\")\n",
    "print(f\"Мультиномиальный: {accuracy_multi}\")"
   ],
   "metadata": {
    "collapsed": false
   }
  }
 ],
 "metadata": {
  "kernelspec": {
   "display_name": "Python 3",
   "language": "python",
   "name": "python3"
  },
  "language_info": {
   "codemirror_mode": {
    "name": "ipython",
    "version": 2
   },
   "file_extension": ".py",
   "mimetype": "text/x-python",
   "name": "python",
   "nbconvert_exporter": "python",
   "pygments_lexer": "ipython2",
   "version": "2.7.6"
  }
 },
 "nbformat": 4,
 "nbformat_minor": 0
}
