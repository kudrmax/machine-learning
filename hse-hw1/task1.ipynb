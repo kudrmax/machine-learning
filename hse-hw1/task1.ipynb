{
 "cells": [
  {
   "cell_type": "code",
   "execution_count": 88,
   "metadata": {
    "collapsed": true
   },
   "outputs": [],
   "source": [
    "import pandas as pd\n",
    "import numpy as np\n",
    "from sklearn.model_selection import train_test_split\n",
    "from sklearn.metrics import accuracy_score\n",
    "from sklearn.metrics import recall_score\n",
    "from sklearn.metrics import precision_score\n",
    "\n",
    "from collections import defaultdict\n",
    "from math import log"
   ]
  },
  {
   "cell_type": "markdown",
   "source": [
    "# Считывание данных"
   ],
   "metadata": {
    "collapsed": false
   }
  },
  {
   "cell_type": "code",
   "execution_count": 89,
   "outputs": [
    {
     "data": {
      "text/plain": "        year      name   percent   sex\n0       1880      John  0.081541   boy\n1       1880   William  0.080511   boy\n2       1880     James  0.050057   boy\n3       1880   Charles  0.045167   boy\n4       1880    George  0.043292   boy\n...      ...       ...       ...   ...\n257995  2008  Carleigh  0.000128  girl\n257996  2008     Iyana  0.000128  girl\n257997  2008    Kenley  0.000127  girl\n257998  2008    Sloane  0.000127  girl\n257999  2008   Elianna  0.000127  girl\n\n[258000 rows x 4 columns]",
      "text/html": "<div>\n<style scoped>\n    .dataframe tbody tr th:only-of-type {\n        vertical-align: middle;\n    }\n\n    .dataframe tbody tr th {\n        vertical-align: top;\n    }\n\n    .dataframe thead th {\n        text-align: right;\n    }\n</style>\n<table border=\"1\" class=\"dataframe\">\n  <thead>\n    <tr style=\"text-align: right;\">\n      <th></th>\n      <th>year</th>\n      <th>name</th>\n      <th>percent</th>\n      <th>sex</th>\n    </tr>\n  </thead>\n  <tbody>\n    <tr>\n      <th>0</th>\n      <td>1880</td>\n      <td>John</td>\n      <td>0.081541</td>\n      <td>boy</td>\n    </tr>\n    <tr>\n      <th>1</th>\n      <td>1880</td>\n      <td>William</td>\n      <td>0.080511</td>\n      <td>boy</td>\n    </tr>\n    <tr>\n      <th>2</th>\n      <td>1880</td>\n      <td>James</td>\n      <td>0.050057</td>\n      <td>boy</td>\n    </tr>\n    <tr>\n      <th>3</th>\n      <td>1880</td>\n      <td>Charles</td>\n      <td>0.045167</td>\n      <td>boy</td>\n    </tr>\n    <tr>\n      <th>4</th>\n      <td>1880</td>\n      <td>George</td>\n      <td>0.043292</td>\n      <td>boy</td>\n    </tr>\n    <tr>\n      <th>...</th>\n      <td>...</td>\n      <td>...</td>\n      <td>...</td>\n      <td>...</td>\n    </tr>\n    <tr>\n      <th>257995</th>\n      <td>2008</td>\n      <td>Carleigh</td>\n      <td>0.000128</td>\n      <td>girl</td>\n    </tr>\n    <tr>\n      <th>257996</th>\n      <td>2008</td>\n      <td>Iyana</td>\n      <td>0.000128</td>\n      <td>girl</td>\n    </tr>\n    <tr>\n      <th>257997</th>\n      <td>2008</td>\n      <td>Kenley</td>\n      <td>0.000127</td>\n      <td>girl</td>\n    </tr>\n    <tr>\n      <th>257998</th>\n      <td>2008</td>\n      <td>Sloane</td>\n      <td>0.000127</td>\n      <td>girl</td>\n    </tr>\n    <tr>\n      <th>257999</th>\n      <td>2008</td>\n      <td>Elianna</td>\n      <td>0.000127</td>\n      <td>girl</td>\n    </tr>\n  </tbody>\n</table>\n<p>258000 rows × 4 columns</p>\n</div>"
     },
     "execution_count": 89,
     "metadata": {},
     "output_type": "execute_result"
    }
   ],
   "source": [
    "data = pd.read_csv(\"names.csv\")\n",
    "data"
   ],
   "metadata": {
    "collapsed": false
   }
  },
  {
   "cell_type": "markdown",
   "source": [
    "# Разделение на тестовую и обучающую выборку"
   ],
   "metadata": {
    "collapsed": false
   }
  },
  {
   "cell_type": "code",
   "execution_count": 90,
   "outputs": [],
   "source": [
    "data_train, data_test = train_test_split(data, test_size=0.3)"
   ],
   "metadata": {
    "collapsed": false
   }
  },
  {
   "cell_type": "code",
   "execution_count": 91,
   "outputs": [
    {
     "data": {
      "text/plain": "        year     name   percent   sex\n129389  1880  Antonia  0.000184  girl\n144396  1895    Eddie  0.000202  girl\n63818   1943      Ian  0.000045   boy\n200861  1951   Phoebe  0.000059  girl\n61723   1941   Arther  0.000058   boy\n...      ...      ...       ...   ...\n177529  1928  Isabell  0.000145  girl\n122941  2002   Darrin  0.000082   boy\n158518  1909   Ramona  0.000144  girl\n159336  1910    Joyce  0.000322  girl\n239876  1990  Corrine  0.000108  girl\n\n[77400 rows x 4 columns]",
      "text/html": "<div>\n<style scoped>\n    .dataframe tbody tr th:only-of-type {\n        vertical-align: middle;\n    }\n\n    .dataframe tbody tr th {\n        vertical-align: top;\n    }\n\n    .dataframe thead th {\n        text-align: right;\n    }\n</style>\n<table border=\"1\" class=\"dataframe\">\n  <thead>\n    <tr style=\"text-align: right;\">\n      <th></th>\n      <th>year</th>\n      <th>name</th>\n      <th>percent</th>\n      <th>sex</th>\n    </tr>\n  </thead>\n  <tbody>\n    <tr>\n      <th>129389</th>\n      <td>1880</td>\n      <td>Antonia</td>\n      <td>0.000184</td>\n      <td>girl</td>\n    </tr>\n    <tr>\n      <th>144396</th>\n      <td>1895</td>\n      <td>Eddie</td>\n      <td>0.000202</td>\n      <td>girl</td>\n    </tr>\n    <tr>\n      <th>63818</th>\n      <td>1943</td>\n      <td>Ian</td>\n      <td>0.000045</td>\n      <td>boy</td>\n    </tr>\n    <tr>\n      <th>200861</th>\n      <td>1951</td>\n      <td>Phoebe</td>\n      <td>0.000059</td>\n      <td>girl</td>\n    </tr>\n    <tr>\n      <th>61723</th>\n      <td>1941</td>\n      <td>Arther</td>\n      <td>0.000058</td>\n      <td>boy</td>\n    </tr>\n    <tr>\n      <th>...</th>\n      <td>...</td>\n      <td>...</td>\n      <td>...</td>\n      <td>...</td>\n    </tr>\n    <tr>\n      <th>177529</th>\n      <td>1928</td>\n      <td>Isabell</td>\n      <td>0.000145</td>\n      <td>girl</td>\n    </tr>\n    <tr>\n      <th>122941</th>\n      <td>2002</td>\n      <td>Darrin</td>\n      <td>0.000082</td>\n      <td>boy</td>\n    </tr>\n    <tr>\n      <th>158518</th>\n      <td>1909</td>\n      <td>Ramona</td>\n      <td>0.000144</td>\n      <td>girl</td>\n    </tr>\n    <tr>\n      <th>159336</th>\n      <td>1910</td>\n      <td>Joyce</td>\n      <td>0.000322</td>\n      <td>girl</td>\n    </tr>\n    <tr>\n      <th>239876</th>\n      <td>1990</td>\n      <td>Corrine</td>\n      <td>0.000108</td>\n      <td>girl</td>\n    </tr>\n  </tbody>\n</table>\n<p>77400 rows × 4 columns</p>\n</div>"
     },
     "execution_count": 91,
     "metadata": {},
     "output_type": "execute_result"
    }
   ],
   "source": [
    "data_test"
   ],
   "metadata": {
    "collapsed": false
   }
  },
  {
   "cell_type": "code",
   "execution_count": 92,
   "outputs": [
    {
     "data": {
      "text/plain": "        year      name   percent   sex\n92229   1972   Clayton  0.000556   boy\n52919   1932  Porfirio  0.000047   boy\n131428  1882      Sena  0.000164  girl\n139986  1890     Nella  0.000045  girl\n133352  1884    Jimmie  0.000233  girl\n...      ...       ...       ...   ...\n232952  1983    Bailey  0.000086  girl\n21459   1901      Josh  0.000156   boy\n245573  1996    Kristi  0.000211  girl\n86433   1966    Blaine  0.000170   boy\n194672  1945       Ana  0.000090  girl\n\n[180600 rows x 4 columns]",
      "text/html": "<div>\n<style scoped>\n    .dataframe tbody tr th:only-of-type {\n        vertical-align: middle;\n    }\n\n    .dataframe tbody tr th {\n        vertical-align: top;\n    }\n\n    .dataframe thead th {\n        text-align: right;\n    }\n</style>\n<table border=\"1\" class=\"dataframe\">\n  <thead>\n    <tr style=\"text-align: right;\">\n      <th></th>\n      <th>year</th>\n      <th>name</th>\n      <th>percent</th>\n      <th>sex</th>\n    </tr>\n  </thead>\n  <tbody>\n    <tr>\n      <th>92229</th>\n      <td>1972</td>\n      <td>Clayton</td>\n      <td>0.000556</td>\n      <td>boy</td>\n    </tr>\n    <tr>\n      <th>52919</th>\n      <td>1932</td>\n      <td>Porfirio</td>\n      <td>0.000047</td>\n      <td>boy</td>\n    </tr>\n    <tr>\n      <th>131428</th>\n      <td>1882</td>\n      <td>Sena</td>\n      <td>0.000164</td>\n      <td>girl</td>\n    </tr>\n    <tr>\n      <th>139986</th>\n      <td>1890</td>\n      <td>Nella</td>\n      <td>0.000045</td>\n      <td>girl</td>\n    </tr>\n    <tr>\n      <th>133352</th>\n      <td>1884</td>\n      <td>Jimmie</td>\n      <td>0.000233</td>\n      <td>girl</td>\n    </tr>\n    <tr>\n      <th>...</th>\n      <td>...</td>\n      <td>...</td>\n      <td>...</td>\n      <td>...</td>\n    </tr>\n    <tr>\n      <th>232952</th>\n      <td>1983</td>\n      <td>Bailey</td>\n      <td>0.000086</td>\n      <td>girl</td>\n    </tr>\n    <tr>\n      <th>21459</th>\n      <td>1901</td>\n      <td>Josh</td>\n      <td>0.000156</td>\n      <td>boy</td>\n    </tr>\n    <tr>\n      <th>245573</th>\n      <td>1996</td>\n      <td>Kristi</td>\n      <td>0.000211</td>\n      <td>girl</td>\n    </tr>\n    <tr>\n      <th>86433</th>\n      <td>1966</td>\n      <td>Blaine</td>\n      <td>0.000170</td>\n      <td>boy</td>\n    </tr>\n    <tr>\n      <th>194672</th>\n      <td>1945</td>\n      <td>Ana</td>\n      <td>0.000090</td>\n      <td>girl</td>\n    </tr>\n  </tbody>\n</table>\n<p>180600 rows × 4 columns</p>\n</div>"
     },
     "execution_count": 92,
     "metadata": {},
     "output_type": "execute_result"
    }
   ],
   "source": [
    "data_train"
   ],
   "metadata": {
    "collapsed": false
   }
  },
  {
   "cell_type": "markdown",
   "source": [
    "# Функция для наивной байесовской классификации"
   ],
   "metadata": {
    "collapsed": false
   }
  },
  {
   "cell_type": "code",
   "execution_count": 93,
   "outputs": [],
   "source": [
    "def naive_bayesian_train(samples):\n",
    "    classes, freq = defaultdict(lambda: 0), defaultdict(lambda: 0)\n",
    "\n",
    "    for feats, label in samples:\n",
    "        classes[label] += 1\n",
    "        for feat in feats:\n",
    "            freq[label, feat] += 1\n",
    "\n",
    "    for label, feat in freq:\n",
    "        freq[label, feat] /= classes[label]\n",
    "    for c in classes:\n",
    "        classes[c] /= len(samples)\n",
    "\n",
    "    return classes, freq\n",
    "\n",
    "\n",
    "def classify(classifier, feats):\n",
    "    classes, prob = classifier\n",
    "    return min(classes.keys(),\n",
    "               key=lambda cl: -log(classes[cl]) \\\n",
    "                              + sum(-log(prob.get((cl, feat))) if (cl, feat) in prob else 0 for feat in feats))"
   ],
   "metadata": {
    "collapsed": false
   }
  },
  {
   "cell_type": "code",
   "execution_count": 94,
   "outputs": [],
   "source": [
    "def get_features(sample: str):\n",
    "    \"\"\"\n",
    "    Функция для превращения слова в признак.\n",
    "    Признак: последняя буква.\n",
    "    \"\"\"\n",
    "    return sample[-1]  # get last letter"
   ],
   "metadata": {
    "collapsed": false
   }
  },
  {
   "cell_type": "markdown",
   "source": [
    "# Применение функции"
   ],
   "metadata": {
    "collapsed": false
   }
  },
  {
   "cell_type": "code",
   "execution_count": 95,
   "outputs": [
    {
     "data": {
      "text/plain": "[['n', 'boy'],\n ['o', 'boy'],\n ['a', 'girl'],\n ['a', 'girl'],\n ['e', 'girl'],\n ['t', 'boy'],\n ['a', 'girl'],\n ['a', 'girl'],\n ['a', 'girl'],\n ['i', 'boy'],\n ['a', 'girl'],\n ['h', 'girl'],\n ['n', 'girl'],\n ['a', 'girl'],\n ['e', 'boy'],\n ['a', 'girl'],\n ['a', 'girl'],\n ['a', 'girl'],\n ['h', 'boy'],\n ['y', 'girl'],\n ['y', 'boy'],\n ['e', 'girl'],\n ['n', 'boy'],\n ['t', 'boy'],\n ['r', 'girl'],\n ['e', 'boy'],\n ['t', 'boy'],\n ['n', 'boy'],\n ['e', 'girl'],\n ['d', 'boy'],\n ['e', 'girl'],\n ['e', 'girl'],\n ['h', 'boy'],\n ['e', 'girl'],\n ['e', 'girl'],\n ['n', 'girl'],\n ['e', 'girl'],\n ['m', 'boy'],\n ['y', 'girl'],\n ['d', 'boy'],\n ['n', 'boy'],\n ['h', 'girl'],\n ['a', 'girl'],\n ['e', 'girl'],\n ['n', 'boy'],\n ['l', 'girl'],\n ['a', 'girl'],\n ['l', 'boy'],\n ['i', 'girl'],\n ['a', 'girl'],\n ['n', 'boy'],\n ['e', 'girl'],\n ['n', 'boy'],\n ['o', 'boy'],\n ['a', 'boy'],\n ['l', 'girl'],\n ['o', 'boy'],\n ['e', 'boy'],\n ['a', 'girl'],\n ['e', 'boy'],\n ['a', 'girl'],\n ['e', 'boy'],\n ['a', 'girl'],\n ['o', 'girl'],\n ['n', 'boy'],\n ['y', 'boy'],\n ['m', 'boy'],\n ['a', 'girl'],\n ['d', 'boy'],\n ['s', 'boy'],\n ['n', 'boy'],\n ['a', 'girl'],\n ['a', 'girl'],\n ['a', 'girl'],\n ['a', 'girl'],\n ['l', 'boy'],\n ['r', 'boy'],\n ['n', 'girl'],\n ['y', 'boy'],\n ['e', 'girl'],\n ['a', 'girl'],\n ['a', 'girl'],\n ['a', 'girl'],\n ['a', 'girl'],\n ['a', 'girl'],\n ['n', 'boy'],\n ['a', 'girl'],\n ['e', 'girl'],\n ['y', 'girl'],\n ['e', 'girl'],\n ['o', 'boy'],\n ['h', 'girl'],\n ['a', 'girl'],\n ['y', 'girl'],\n ['e', 'girl'],\n ['e', 'boy'],\n ['e', 'girl'],\n ['y', 'boy'],\n ['o', 'boy'],\n ['l', 'boy'],\n ['r', 'boy'],\n ['o', 'boy'],\n ['n', 'boy'],\n ['a', 'girl'],\n ['l', 'girl'],\n ['y', 'boy'],\n ['a', 'girl'],\n ['o', 'girl'],\n ['a', 'girl'],\n ['a', 'girl'],\n ['a', 'girl'],\n ['e', 'girl'],\n ['y', 'girl'],\n ['a', 'girl'],\n ['h', 'boy'],\n ['n', 'boy'],\n ['r', 'boy'],\n ['n', 'boy'],\n ['e', 'girl'],\n ['n', 'boy'],\n ['n', 'boy'],\n ['s', 'boy'],\n ['s', 'girl'],\n ['e', 'boy'],\n ['a', 'girl'],\n ['a', 'girl'],\n ['l', 'boy'],\n ['n', 'boy'],\n ['e', 'girl'],\n ['n', 'girl'],\n ['a', 'girl'],\n ['i', 'girl'],\n ['y', 'boy'],\n ['o', 'boy'],\n ['n', 'boy'],\n ['e', 'girl'],\n ['y', 'boy'],\n ['a', 'girl'],\n ['e', 'girl'],\n ['y', 'girl'],\n ['a', 'girl'],\n ['n', 'boy'],\n ['s', 'boy'],\n ['r', 'boy'],\n ['n', 'boy'],\n ['n', 'boy'],\n ['a', 'girl'],\n ['s', 'boy'],\n ['e', 'boy'],\n ['f', 'boy'],\n ['a', 'girl'],\n ['s', 'boy'],\n ['e', 'girl'],\n ['a', 'girl'],\n ['a', 'girl'],\n ['i', 'girl'],\n ['e', 'girl'],\n ['e', 'girl'],\n ['l', 'boy'],\n ['r', 'girl'],\n ['c', 'boy'],\n ['e', 'girl'],\n ['e', 'girl'],\n ['r', 'boy'],\n ['e', 'girl'],\n ['t', 'boy'],\n ['o', 'boy'],\n ['e', 'girl'],\n ['t', 'boy'],\n ['a', 'girl'],\n ['e', 'girl'],\n ['n', 'girl'],\n ['a', 'girl'],\n ['f', 'boy'],\n ['y', 'girl'],\n ['n', 'boy'],\n ['e', 'boy'],\n ['e', 'girl'],\n ['e', 'girl'],\n ['n', 'boy'],\n ['e', 'boy'],\n ['a', 'girl'],\n ['n', 'girl'],\n ['l', 'boy'],\n ['n', 'boy'],\n ['e', 'girl'],\n ['e', 'boy'],\n ['y', 'girl'],\n ['a', 'boy'],\n ['d', 'boy'],\n ['a', 'girl'],\n ['m', 'boy'],\n ['e', 'girl'],\n ['l', 'boy'],\n ['l', 'boy'],\n ['t', 'boy'],\n ['o', 'boy'],\n ['a', 'girl'],\n ['e', 'girl'],\n ['e', 'boy'],\n ['n', 'boy'],\n ['y', 'boy'],\n ['n', 'boy'],\n ['r', 'boy'],\n ['e', 'boy'],\n ['l', 'girl'],\n ['e', 'girl'],\n ['m', 'boy'],\n ['e', 'girl'],\n ['e', 'boy'],\n ['n', 'girl'],\n ['a', 'girl'],\n ['t', 'boy'],\n ['e', 'girl'],\n ['e', 'boy'],\n ['a', 'girl'],\n ['y', 'girl'],\n ['a', 'girl'],\n ['n', 'boy'],\n ['a', 'girl'],\n ['n', 'boy'],\n ['y', 'boy'],\n ['e', 'girl'],\n ['e', 'boy'],\n ['i', 'girl'],\n ['n', 'boy'],\n ['e', 'boy'],\n ['e', 'girl'],\n ['m', 'boy'],\n ['e', 'girl'],\n ['l', 'boy'],\n ['y', 'girl'],\n ['k', 'boy'],\n ['l', 'girl'],\n ['e', 'girl'],\n ['u', 'girl'],\n ['n', 'boy'],\n ['o', 'boy'],\n ['i', 'girl'],\n ['e', 'girl'],\n ['a', 'girl'],\n ['l', 'girl'],\n ['a', 'girl'],\n ['l', 'girl'],\n ['r', 'girl'],\n ['n', 'boy'],\n ['n', 'boy'],\n ['n', 'boy'],\n ['d', 'boy'],\n ['e', 'boy'],\n ['e', 'girl'],\n ['a', 'girl'],\n ['a', 'girl'],\n ['n', 'boy'],\n ['y', 'boy'],\n ['a', 'girl'],\n ['n', 'boy'],\n ['s', 'girl'],\n ['e', 'boy'],\n ['r', 'boy'],\n ['o', 'boy'],\n ['a', 'girl'],\n ['r', 'girl'],\n ['n', 'boy'],\n ['a', 'girl'],\n ['d', 'boy'],\n ['e', 'girl'],\n ['e', 'girl'],\n ['k', 'boy'],\n ['o', 'boy'],\n ['o', 'boy'],\n ['a', 'girl'],\n ['h', 'boy'],\n ['e', 'boy'],\n ['a', 'girl'],\n ['e', 'girl'],\n ['a', 'girl'],\n ['l', 'boy'],\n ['d', 'boy'],\n ['y', 'boy'],\n ['l', 'boy'],\n ['a', 'girl'],\n ['y', 'boy'],\n ['l', 'boy'],\n ['e', 'girl'],\n ['e', 'girl'],\n ['a', 'girl'],\n ['e', 'girl'],\n ['t', 'boy'],\n ['s', 'boy'],\n ['e', 'girl'],\n ['a', 'girl'],\n ['e', 'girl'],\n ['o', 'boy'],\n ['a', 'girl'],\n ['n', 'girl'],\n ['a', 'girl'],\n ['i', 'girl'],\n ['a', 'girl'],\n ['d', 'boy'],\n ['e', 'girl'],\n ['t', 'boy'],\n ['e', 'girl'],\n ['a', 'girl'],\n ['e', 'boy'],\n ['n', 'boy'],\n ['n', 'boy'],\n ['i', 'girl'],\n ['a', 'girl'],\n ['r', 'boy'],\n ['a', 'girl'],\n ['o', 'boy'],\n ['t', 'boy'],\n ['n', 'boy'],\n ['n', 'boy'],\n ['d', 'girl'],\n ['y', 'boy'],\n ['f', 'boy'],\n ['n', 'girl'],\n ['a', 'girl'],\n ['l', 'boy'],\n ['a', 'girl'],\n ['y', 'boy'],\n ['r', 'boy'],\n ['w', 'boy'],\n ['l', 'boy'],\n ['e', 'girl'],\n ['n', 'boy'],\n ['l', 'boy'],\n ['d', 'girl'],\n ['l', 'girl'],\n ['e', 'girl'],\n ['a', 'girl'],\n ['e', 'boy'],\n ['e', 'girl'],\n ['a', 'girl'],\n ['y', 'girl'],\n ['e', 'girl'],\n ['y', 'girl'],\n ['i', 'girl'],\n ['a', 'girl'],\n ['a', 'girl'],\n ['e', 'boy'],\n ['a', 'girl'],\n ['s', 'girl'],\n ['d', 'boy'],\n ['s', 'boy'],\n ['e', 'girl'],\n ['k', 'boy'],\n ['a', 'boy'],\n ['n', 'girl'],\n ['x', 'boy'],\n ['e', 'girl'],\n ['a', 'girl'],\n ['y', 'boy'],\n ['e', 'girl'],\n ['r', 'boy'],\n ['e', 'boy'],\n ['s', 'boy'],\n ['a', 'girl'],\n ['l', 'girl'],\n ['n', 'boy'],\n ['y', 'girl'],\n ['y', 'boy'],\n ['o', 'girl'],\n ['e', 'boy'],\n ['s', 'boy'],\n ['a', 'girl'],\n ['a', 'girl'],\n ['e', 'girl'],\n ['d', 'boy'],\n ['y', 'boy'],\n ['y', 'girl'],\n ['a', 'girl'],\n ['a', 'girl'],\n ['a', 'girl'],\n ['a', 'girl'],\n ['y', 'girl'],\n ['a', 'girl'],\n ['a', 'girl'],\n ['d', 'boy'],\n ['l', 'boy'],\n ['e', 'girl'],\n ['e', 'boy'],\n ['n', 'boy'],\n ['l', 'boy'],\n ['s', 'boy'],\n ['n', 'boy'],\n ['e', 'girl'],\n ['y', 'boy'],\n ['e', 'boy'],\n ['l', 'boy'],\n ['a', 'girl'],\n ['e', 'girl'],\n ['s', 'boy'],\n ['n', 'boy'],\n ['t', 'boy'],\n ['r', 'girl'],\n ['e', 'girl'],\n ['a', 'girl'],\n ['s', 'boy'],\n ['e', 'girl'],\n ['n', 'boy'],\n ['l', 'boy'],\n ['n', 'boy'],\n ['y', 'girl'],\n ['y', 'boy'],\n ['e', 'girl'],\n ['a', 'girl'],\n ['m', 'boy'],\n ['a', 'girl'],\n ['e', 'girl'],\n ['e', 'girl'],\n ['e', 'girl'],\n ['e', 'girl'],\n ['r', 'boy'],\n ['e', 'boy'],\n ['s', 'boy'],\n ['n', 'boy'],\n ['a', 'girl'],\n ['y', 'boy'],\n ['n', 'boy'],\n ['d', 'boy'],\n ['e', 'girl'],\n ['e', 'girl'],\n ['a', 'girl'],\n ['e', 'girl'],\n ['y', 'boy'],\n ['s', 'girl'],\n ['l', 'boy'],\n ['s', 'boy'],\n ['h', 'boy'],\n ['a', 'boy'],\n ['s', 'girl'],\n ['d', 'boy'],\n ['o', 'boy'],\n ['s', 'girl'],\n ['e', 'boy'],\n ['a', 'girl'],\n ['c', 'boy'],\n ['s', 'boy'],\n ['e', 'girl'],\n ['e', 'girl'],\n ['a', 'girl'],\n ['e', 'girl'],\n ['l', 'girl'],\n ['n', 'boy'],\n ['a', 'girl'],\n ['s', 'girl'],\n ['a', 'girl'],\n ['s', 'boy'],\n ['y', 'boy'],\n ['e', 'girl'],\n ['r', 'boy'],\n ['n', 'boy'],\n ['s', 'girl'],\n ['a', 'girl'],\n ['a', 'boy'],\n ['e', 'girl'],\n ['n', 'boy'],\n ['r', 'boy'],\n ['m', 'boy'],\n ['r', 'boy'],\n ['l', 'boy'],\n ['e', 'girl'],\n ['a', 'boy'],\n ['m', 'boy'],\n ['a', 'boy'],\n ['y', 'boy'],\n ['n', 'boy'],\n ['l', 'boy'],\n ['n', 'boy'],\n ['d', 'boy'],\n ['a', 'girl'],\n ['y', 'girl'],\n ['a', 'girl'],\n ['e', 'girl'],\n ['y', 'girl'],\n ['a', 'girl'],\n ['d', 'boy'],\n ['n', 'boy'],\n ['e', 'boy'],\n ['n', 'boy'],\n ['h', 'boy'],\n ['e', 'girl'],\n ['e', 'girl'],\n ['o', 'boy'],\n ['a', 'girl'],\n ['e', 'girl'],\n ['y', 'boy'],\n ['a', 'girl'],\n ['o', 'girl'],\n ['e', 'girl'],\n ['e', 'girl'],\n ['n', 'boy'],\n ['o', 'boy'],\n ['l', 'girl'],\n ['f', 'boy'],\n ['a', 'girl'],\n ['e', 'boy'],\n ['y', 'girl'],\n ['y', 'boy'],\n ['r', 'boy'],\n ['e', 'girl'],\n ['o', 'boy'],\n ['e', 'girl'],\n ['n', 'girl'],\n ['t', 'girl'],\n ['t', 'boy'],\n ['e', 'girl'],\n ['r', 'boy'],\n ['a', 'girl'],\n ['t', 'boy'],\n ['l', 'boy'],\n ['m', 'boy'],\n ['l', 'boy'],\n ['n', 'boy'],\n ['a', 'girl'],\n ['n', 'girl'],\n ['e', 'girl'],\n ['n', 'boy'],\n ['x', 'boy'],\n ['l', 'boy'],\n ['a', 'girl'],\n ['n', 'boy'],\n ['a', 'girl'],\n ['d', 'boy'],\n ['n', 'boy'],\n ['e', 'girl'],\n ['o', 'boy'],\n ['n', 'girl'],\n ['a', 'girl'],\n ['e', 'girl'],\n ['y', 'girl'],\n ['y', 'girl'],\n ['e', 'girl'],\n ['t', 'boy'],\n ['t', 'boy'],\n ['e', 'girl'],\n ['n', 'boy'],\n ['a', 'girl'],\n ['s', 'boy'],\n ['a', 'boy'],\n ['n', 'boy'],\n ['a', 'girl'],\n ['r', 'boy'],\n ['e', 'girl'],\n ['a', 'girl'],\n ['e', 'girl'],\n ['e', 'boy'],\n ['s', 'boy'],\n ['a', 'girl'],\n ['y', 'boy'],\n ['o', 'boy'],\n ['y', 'boy'],\n ['n', 'girl'],\n ['a', 'girl'],\n ['e', 'girl'],\n ['a', 'girl'],\n ['l', 'boy'],\n ['i', 'girl'],\n ['a', 'girl'],\n ['y', 'girl'],\n ['a', 'girl'],\n ['s', 'boy'],\n ['s', 'boy'],\n ['a', 'girl'],\n ['l', 'boy'],\n ['n', 'boy'],\n ['e', 'girl'],\n ['a', 'girl'],\n ['s', 'boy'],\n ['n', 'boy'],\n ['e', 'girl'],\n ['e', 'girl'],\n ['o', 'boy'],\n ['m', 'girl'],\n ['s', 'girl'],\n ['n', 'boy'],\n ['d', 'boy'],\n ['y', 'girl'],\n ['s', 'boy'],\n ['a', 'girl'],\n ['e', 'boy'],\n ['m', 'boy'],\n ['e', 'girl'],\n ['i', 'girl'],\n ['t', 'girl'],\n ['e', 'boy'],\n ['a', 'girl'],\n ['y', 'boy'],\n ['a', 'girl'],\n ['n', 'boy'],\n ['e', 'girl'],\n ['e', 'boy'],\n ['a', 'girl'],\n ['n', 'girl'],\n ['o', 'boy'],\n ['r', 'boy'],\n ['l', 'boy'],\n ['n', 'boy'],\n ['a', 'girl'],\n ['a', 'girl'],\n ['a', 'girl'],\n ['a', 'girl'],\n ['a', 'girl'],\n ['n', 'girl'],\n ['l', 'boy'],\n ['a', 'girl'],\n ['e', 'boy'],\n ['n', 'boy'],\n ['l', 'boy'],\n ['e', 'girl'],\n ['e', 'girl'],\n ['e', 'girl'],\n ['i', 'boy'],\n ['y', 'girl'],\n ['r', 'boy'],\n ['y', 'boy'],\n ['l', 'girl'],\n ['r', 'boy'],\n ['n', 'boy'],\n ['o', 'boy'],\n ['e', 'girl'],\n ['a', 'girl'],\n ['s', 'boy'],\n ['e', 'girl'],\n ['y', 'girl'],\n ['e', 'girl'],\n ['a', 'girl'],\n ['n', 'boy'],\n ['a', 'girl'],\n ['k', 'boy'],\n ['y', 'girl'],\n ['r', 'boy'],\n ['a', 'girl'],\n ['n', 'boy'],\n ['e', 'boy'],\n ['e', 'boy'],\n ['t', 'boy'],\n ['y', 'girl'],\n ['a', 'girl'],\n ['e', 'girl'],\n ['e', 'girl'],\n ['e', 'girl'],\n ['r', 'boy'],\n ['e', 'girl'],\n ['o', 'boy'],\n ['y', 'boy'],\n ['a', 'girl'],\n ['h', 'boy'],\n ['n', 'boy'],\n ['n', 'boy'],\n ['n', 'girl'],\n ['e', 'girl'],\n ['m', 'girl'],\n ['t', 'boy'],\n ['y', 'girl'],\n ['s', 'boy'],\n ['n', 'boy'],\n ['a', 'girl'],\n ['e', 'girl'],\n ['n', 'boy'],\n ['a', 'girl'],\n ['t', 'girl'],\n ['r', 'boy'],\n ['y', 'girl'],\n ['n', 'girl'],\n ['t', 'boy'],\n ['o', 'boy'],\n ['t', 'boy'],\n ['e', 'boy'],\n ['a', 'girl'],\n ['l', 'girl'],\n ['s', 'boy'],\n ['e', 'boy'],\n ['n', 'girl'],\n ['n', 'girl'],\n ['e', 'girl'],\n ['s', 'boy'],\n ['k', 'boy'],\n ['d', 'boy'],\n ['a', 'boy'],\n ['s', 'boy'],\n ['n', 'girl'],\n ['a', 'girl'],\n ['a', 'girl'],\n ['e', 'girl'],\n ['a', 'girl'],\n ['a', 'girl'],\n ['n', 'boy'],\n ['o', 'boy'],\n ['y', 'boy'],\n ['a', 'girl'],\n ['r', 'boy'],\n ['e', 'boy'],\n ['e', 'boy'],\n ['e', 'boy'],\n ['i', 'girl'],\n ['a', 'girl'],\n ['l', 'girl'],\n ['n', 'girl'],\n ['n', 'boy'],\n ['a', 'girl'],\n ['e', 'girl'],\n ['s', 'boy'],\n ['a', 'girl'],\n ['e', 'boy'],\n ['d', 'boy'],\n ['r', 'boy'],\n ['n', 'boy'],\n ['y', 'boy'],\n ['l', 'boy'],\n ['a', 'girl'],\n ['e', 'girl'],\n ['i', 'girl'],\n ['a', 'girl'],\n ['s', 'boy'],\n ['s', 'boy'],\n ['a', 'girl'],\n ['t', 'boy'],\n ['a', 'girl'],\n ['m', 'boy'],\n ['y', 'girl'],\n ['i', 'girl'],\n ['a', 'girl'],\n ['e', 'boy'],\n ['h', 'girl'],\n ['e', 'girl'],\n ['y', 'boy'],\n ['n', 'girl'],\n ['e', 'boy'],\n ['a', 'girl'],\n ['o', 'boy'],\n ['a', 'girl'],\n ['a', 'boy'],\n ['g', 'boy'],\n ['a', 'girl'],\n ['d', 'boy'],\n ['e', 'girl'],\n ['a', 'girl'],\n ['a', 'girl'],\n ['n', 'boy'],\n ['s', 'boy'],\n ['a', 'girl'],\n ['e', 'girl'],\n ['m', 'boy'],\n ['n', 'boy'],\n ['e', 'girl'],\n ['n', 'boy'],\n ['d', 'girl'],\n ['n', 'boy'],\n ['a', 'girl'],\n ['a', 'girl'],\n ['e', 'girl'],\n ['l', 'girl'],\n ['y', 'boy'],\n ['e', 'girl'],\n ['k', 'boy'],\n ['h', 'girl'],\n ['e', 'boy'],\n ['a', 'girl'],\n ['a', 'girl'],\n ['s', 'boy'],\n ['a', 'boy'],\n ['a', 'girl'],\n ['e', 'girl'],\n ['m', 'boy'],\n ['o', 'boy'],\n ['e', 'boy'],\n ['a', 'girl'],\n ['r', 'boy'],\n ['e', 'boy'],\n ['o', 'boy'],\n ['n', 'boy'],\n ['e', 'girl'],\n ['n', 'girl'],\n ['n', 'boy'],\n ['a', 'girl'],\n ['e', 'girl'],\n ['l', 'boy'],\n ['e', 'boy'],\n ['a', 'boy'],\n ['a', 'girl'],\n ['e', 'girl'],\n ['e', 'girl'],\n ['y', 'boy'],\n ['n', 'boy'],\n ['s', 'boy'],\n ['e', 'girl'],\n ['h', 'girl'],\n ['a', 'girl'],\n ['n', 'boy'],\n ['n', 'girl'],\n ['a', 'girl'],\n ['a', 'girl'],\n ['t', 'boy'],\n ['r', 'boy'],\n ['n', 'boy'],\n ['s', 'boy'],\n ['k', 'boy'],\n ['a', 'girl'],\n ['e', 'boy'],\n ['d', 'boy'],\n ['y', 'boy'],\n ['h', 'girl'],\n ['e', 'girl'],\n ['y', 'boy'],\n ['t', 'girl'],\n ['e', 'girl'],\n ['a', 'girl'],\n ['y', 'girl'],\n ['s', 'boy'],\n ['d', 'boy'],\n ['d', 'girl'],\n ['y', 'boy'],\n ['l', 'boy'],\n ['i', 'girl'],\n ['i', 'boy'],\n ['n', 'boy'],\n ['a', 'girl'],\n ['e', 'boy'],\n ['h', 'boy'],\n ['n', 'boy'],\n ['s', 'girl'],\n ['l', 'boy'],\n ['e', 'boy'],\n ['e', 'girl'],\n ['n', 'girl'],\n ['e', 'girl'],\n ['a', 'boy'],\n ['l', 'girl'],\n ['a', 'girl'],\n ['o', 'boy'],\n ['e', 'girl'],\n ['e', 'girl'],\n ['n', 'girl'],\n ['a', 'girl'],\n ['y', 'boy'],\n ['a', 'girl'],\n ['n', 'boy'],\n ['y', 'girl'],\n ['n', 'boy'],\n ['l', 'girl'],\n ['a', 'girl'],\n ['e', 'girl'],\n ['d', 'girl'],\n ['e', 'girl'],\n ['n', 'boy'],\n ['n', 'boy'],\n ['a', 'girl'],\n ['a', 'girl'],\n ['d', 'boy'],\n ['e', 'boy'],\n ['a', 'girl'],\n ['e', 'girl'],\n ['s', 'girl'],\n ['r', 'boy'],\n ['y', 'boy'],\n ['a', 'girl'],\n ['t', 'boy'],\n ['a', 'girl'],\n ['a', 'girl'],\n ['o', 'boy'],\n ['e', 'girl'],\n ['e', 'boy'],\n ['y', 'girl'],\n ['a', 'girl'],\n ['y', 'boy'],\n ['n', 'girl'],\n ['n', 'boy'],\n ['e', 'girl'],\n ['s', 'girl'],\n ['n', 'boy'],\n ['n', 'girl'],\n ['s', 'boy'],\n ['e', 'girl'],\n ['l', 'boy'],\n ['e', 'boy'],\n ['r', 'girl'],\n ['y', 'boy'],\n ['e', 'boy'],\n ['n', 'boy'],\n ['e', 'girl'],\n ['a', 'girl'],\n ['a', 'girl'],\n ['c', 'boy'],\n ['n', 'girl'],\n ['a', 'girl'],\n ['e', 'girl'],\n ['e', 'girl'],\n ['a', 'girl'],\n ['a', 'girl'],\n ['l', 'boy'],\n ['a', 'girl'],\n ['l', 'boy'],\n ['a', 'girl'],\n ['a', 'girl'],\n ['m', 'boy'],\n ['n', 'boy'],\n ['a', 'girl'],\n ['m', 'boy'],\n ['e', 'girl'],\n ['l', 'boy'],\n ['f', 'boy'],\n ['n', 'boy'],\n ['a', 'girl'],\n ['s', 'boy'],\n ['a', 'girl'],\n ['t', 'boy'],\n ['n', 'boy'],\n ['n', 'boy'],\n ['t', 'girl'],\n ['a', 'girl'],\n ['n', 'boy'],\n ['y', 'girl'],\n ['s', 'girl'],\n ['n', 'boy'],\n ['r', 'boy'],\n ['y', 'boy'],\n ['a', 'girl'],\n ['a', 'girl'],\n ['a', 'girl'],\n ['c', 'boy'],\n ['a', 'boy'],\n ['a', 'girl'],\n ['a', 'girl'],\n ['y', 'boy'],\n ['a', 'girl'],\n ['e', 'girl'],\n ['e', 'boy'],\n ['e', 'girl'],\n ['l', 'girl'],\n ['y', 'girl'],\n ['a', 'girl'],\n ['n', 'boy'],\n ['y', 'boy'],\n ['y', 'girl'],\n ['s', 'boy'],\n ['e', 'girl'],\n ['e', 'boy'],\n ['t', 'boy'],\n ['n', 'boy'],\n ['a', 'girl'],\n ['s', 'boy'],\n ['l', 'girl'],\n ['a', 'girl'],\n ['o', 'girl'],\n ['h', 'boy'],\n ['h', 'boy'],\n ['n', 'girl'],\n ['a', 'girl'],\n ['t', 'boy'],\n ['n', 'girl'],\n ['n', 'boy'],\n ['n', 'boy'],\n ['a', 'girl'],\n ['y', 'boy'],\n ['a', 'girl'],\n ['o', 'boy'],\n ['n', 'boy'],\n ['a', 'girl'],\n ['a', 'girl'],\n ['n', 'boy'],\n ['r', 'boy'],\n ['d', 'boy'],\n ['i', 'girl'],\n ['e', 'boy'],\n ['d', 'boy'],\n ['y', 'girl'],\n ['a', 'girl'],\n ['r', 'girl'],\n ['e', 'girl'],\n ['s', 'boy'],\n ['n', 'boy'],\n ['r', 'boy'],\n ['e', 'girl'],\n ['n', 'boy'],\n ['n', 'boy'],\n ['a', 'girl'],\n ['e', 'boy'],\n ['a', 'girl'],\n ['e', 'boy'],\n ['d', 'boy'],\n ['n', 'boy'],\n ['e', 'girl'],\n ['a', 'girl'],\n ['n', 'girl'],\n ['l', 'boy'],\n ['n', 'girl'],\n ['e', 'girl'],\n ['n', 'boy'],\n ['e', 'boy'],\n ['a', 'girl'],\n ['l', 'boy'],\n ['a', 'girl'],\n ['a', 'boy'],\n ['e', 'boy'],\n ['r', 'boy'],\n ['y', 'boy'],\n ...]"
     },
     "execution_count": 95,
     "metadata": {},
     "output_type": "execute_result"
    }
   ],
   "source": [
    "# обучение\n",
    "samples = [[get_features(name), lable] for name, lable in zip(data_train['name'], data_train['sex'])]\n",
    "samples"
   ],
   "metadata": {
    "collapsed": false
   }
  },
  {
   "cell_type": "code",
   "execution_count": 96,
   "outputs": [
    {
     "data": {
      "text/plain": "(defaultdict(<function __main__.naive_bayesian_train.<locals>.<lambda>()>,\n             {'boy': 0.49988372093023253, 'girl': 0.5001162790697674}),\n defaultdict(<function __main__.naive_bayesian_train.<locals>.<lambda>()>,\n             {('boy', 'n'): 0.21466786295816304,\n              ('boy', 'o'): 0.06299360870191296,\n              ('girl', 'a'): 0.3844953000963231,\n              ('girl', 'e'): 0.3006609758527917,\n              ('boy', 't'): 0.053766656697570865,\n              ('boy', 'i'): 0.00559377042280043,\n              ('girl', 'h'): 0.025531161081033205,\n              ('girl', 'n'): 0.0803246199665637,\n              ('boy', 'e'): 0.13867012261987838,\n              ('boy', 'h'): 0.02626302905437588,\n              ('girl', 'y'): 0.0781988684801984,\n              ('boy', 'y'): 0.11094495951439427,\n              ('girl', 'r'): 0.012023781844753712,\n              ('boy', 'd'): 0.07219840716002614,\n              ('boy', 'm'): 0.01663731321791336,\n              ('girl', 'l'): 0.034930968434804754,\n              ('boy', 'l'): 0.08265488098007288,\n              ('girl', 'i'): 0.0273690503869532,\n              ('boy', 'a'): 0.016260702932021844,\n              ('girl', 'o'): 0.005148304381040954,\n              ('boy', 's'): 0.07822417173429036,\n              ('boy', 'r'): 0.06056779538984703,\n              ('girl', 's'): 0.022840756856102123,\n              ('boy', 'f'): 0.003323031934336889,\n              ('boy', 'c'): 0.00935987328171557,\n              ('boy', 'k'): 0.02147786306893076,\n              ('girl', 'u'): 0.0017936028166207194,\n              ('girl', 'd'): 0.007960496451545045,\n              ('boy', 'w'): 0.004763012439216207,\n              ('boy', 'x'): 0.004541476976927082,\n              ('girl', 't'): 0.011215553415041907,\n              ('girl', 'm'): 0.0030336245170004762,\n              ('boy', 'g'): 0.006070071666722051,\n              ('boy', 'b'): 0.0039765615480898105,\n              ('girl', 'z'): 0.002037178507766743,\n              ('boy', 'u'): 0.0008196812104697659,\n              ('boy', 'z'): 0.00230396880780691,\n              ('girl', 'k'): 0.0009189446529599982,\n              ('boy', 'p'): 0.003179033883848957,\n              ('girl', 'x'): 0.00021036082417156586,\n              ('girl', 'g'): 0.0005425094939161435,\n              ('girl', 'w'): 0.0004207216483431317,\n              ('boy', 'q'): 0.00012184450425901926,\n              ('boy', 'v'): 0.0005095315632649897,\n              ('girl', 'c'): 0.00024357569114602363,\n              ('girl', 'b'): 7.750135627373479e-05,\n              ('boy', 'j'): 0.00011076773114456296,\n              ('girl', 'v'): 2.214324464963851e-05}))"
     },
     "execution_count": 96,
     "metadata": {},
     "output_type": "execute_result"
    }
   ],
   "source": [
    "classifier = naive_bayesian_train(samples)\n",
    "classifier"
   ],
   "metadata": {
    "collapsed": false
   }
  },
  {
   "cell_type": "code",
   "execution_count": 97,
   "outputs": [
    {
     "name": "stdout",
     "output_type": "stream",
     "text": [
      "Max is a boy\n",
      "Nikita is a girl\n",
      "Vika is a girl\n"
     ]
    }
   ],
   "source": [
    "# проверка\n",
    "names = ['Max', 'Nikita', 'Vika']\n",
    "for name in names:\n",
    "    print(f\"{name} is a {classify(classifier, get_features(name))}\")"
   ],
   "metadata": {
    "collapsed": false
   }
  },
  {
   "cell_type": "code",
   "execution_count": 98,
   "outputs": [
    {
     "data": {
      "text/plain": "           name   sex predicted_sex\n129389  Antonia  girl          girl\n144396    Eddie  girl          girl\n63818       Ian   boy           boy\n200861   Phoebe  girl          girl\n61723    Arther   boy           boy\n...         ...   ...           ...\n177529  Isabell  girl           boy\n122941   Darrin   boy           boy\n158518   Ramona  girl          girl\n159336    Joyce  girl          girl\n239876  Corrine  girl          girl\n\n[77400 rows x 3 columns]",
      "text/html": "<div>\n<style scoped>\n    .dataframe tbody tr th:only-of-type {\n        vertical-align: middle;\n    }\n\n    .dataframe tbody tr th {\n        vertical-align: top;\n    }\n\n    .dataframe thead th {\n        text-align: right;\n    }\n</style>\n<table border=\"1\" class=\"dataframe\">\n  <thead>\n    <tr style=\"text-align: right;\">\n      <th></th>\n      <th>name</th>\n      <th>sex</th>\n      <th>predicted_sex</th>\n    </tr>\n  </thead>\n  <tbody>\n    <tr>\n      <th>129389</th>\n      <td>Antonia</td>\n      <td>girl</td>\n      <td>girl</td>\n    </tr>\n    <tr>\n      <th>144396</th>\n      <td>Eddie</td>\n      <td>girl</td>\n      <td>girl</td>\n    </tr>\n    <tr>\n      <th>63818</th>\n      <td>Ian</td>\n      <td>boy</td>\n      <td>boy</td>\n    </tr>\n    <tr>\n      <th>200861</th>\n      <td>Phoebe</td>\n      <td>girl</td>\n      <td>girl</td>\n    </tr>\n    <tr>\n      <th>61723</th>\n      <td>Arther</td>\n      <td>boy</td>\n      <td>boy</td>\n    </tr>\n    <tr>\n      <th>...</th>\n      <td>...</td>\n      <td>...</td>\n      <td>...</td>\n    </tr>\n    <tr>\n      <th>177529</th>\n      <td>Isabell</td>\n      <td>girl</td>\n      <td>boy</td>\n    </tr>\n    <tr>\n      <th>122941</th>\n      <td>Darrin</td>\n      <td>boy</td>\n      <td>boy</td>\n    </tr>\n    <tr>\n      <th>158518</th>\n      <td>Ramona</td>\n      <td>girl</td>\n      <td>girl</td>\n    </tr>\n    <tr>\n      <th>159336</th>\n      <td>Joyce</td>\n      <td>girl</td>\n      <td>girl</td>\n    </tr>\n    <tr>\n      <th>239876</th>\n      <td>Corrine</td>\n      <td>girl</td>\n      <td>girl</td>\n    </tr>\n  </tbody>\n</table>\n<p>77400 rows × 3 columns</p>\n</div>"
     },
     "execution_count": 98,
     "metadata": {},
     "output_type": "execute_result"
    }
   ],
   "source": [
    "data_test['predicted_sex'] = [classify(classifier, get_features(name)) for name in data_test['name']]\n",
    "data_test[['name', 'sex', 'predicted_sex']]"
   ],
   "metadata": {
    "collapsed": false
   }
  },
  {
   "cell_type": "markdown",
   "source": [
    "# Проверка через метрики"
   ],
   "metadata": {
    "collapsed": false
   }
  },
  {
   "cell_type": "code",
   "execution_count": 99,
   "outputs": [
    {
     "data": {
      "text/plain": "0.7762532299741602"
     },
     "execution_count": 99,
     "metadata": {},
     "output_type": "execute_result"
    }
   ],
   "source": [
    "# точность (accuracy)\n",
    "\n",
    "accuracy_naive = accuracy_score(data_test['sex'], data_test['predicted_sex'])\n",
    "accuracy_naive"
   ],
   "metadata": {
    "collapsed": false
   }
  },
  {
   "cell_type": "code",
   "execution_count": 100,
   "outputs": [
    {
     "data": {
      "text/plain": "[0.8336303297952016, 0.7188138266242664]"
     },
     "execution_count": 100,
     "metadata": {},
     "output_type": "execute_result"
    }
   ],
   "source": [
    "# полнота (recall) вычисленная вручную\n",
    "\n",
    "recall = [0, 0]\n",
    "\n",
    "# насколько верно он определяет мужские имена\n",
    "sex = 'boy'\n",
    "recall[0] = data_test.loc[data_test['sex'].str.contains(sex) & data_test['predicted_sex'].str.contains(sex)].shape[0] / \\\n",
    "            data_test.loc[data_test['sex'].str.contains(sex)].shape[0]\n",
    "\n",
    "# насколько верно он определяет мужские имена\n",
    "sex = 'girl'\n",
    "recall[1] = data_test.loc[data_test['sex'].str.contains(sex) & data_test['predicted_sex'].str.contains(sex)].shape[0] / \\\n",
    "            data_test.loc[data_test['sex'].str.contains(sex)].shape[0]\n",
    "\n",
    "recall"
   ],
   "metadata": {
    "collapsed": false
   }
  },
  {
   "cell_type": "code",
   "execution_count": 101,
   "outputs": [
    {
     "data": {
      "text/plain": "[0.8336303297952016, 0.7188138266242664]"
     },
     "execution_count": 101,
     "metadata": {},
     "output_type": "execute_result"
    }
   ],
   "source": [
    "# полнота (recall) через sklearn\n",
    "\n",
    "list(recall_score(data_test['sex'], data_test['predicted_sex'], average=None))"
   ],
   "metadata": {
    "collapsed": false
   }
  },
  {
   "cell_type": "code",
   "execution_count": 102,
   "outputs": [
    {
     "data": {
      "text/plain": "[0.7479782180512108, 0.8118849467075485]"
     },
     "execution_count": 102,
     "metadata": {},
     "output_type": "execute_result"
    }
   ],
   "source": [
    "# precision\n",
    "\n",
    "list(precision_score(data_test['sex'], data_test['predicted_sex'], average=None))"
   ],
   "metadata": {
    "collapsed": false
   }
  },
  {
   "cell_type": "markdown",
   "source": [
    "# Изменим get_features"
   ],
   "metadata": {
    "collapsed": false
   }
  },
  {
   "cell_type": "code",
   "execution_count": 103,
   "outputs": [
    {
     "data": {
      "text/plain": "0.7014082687338501"
     },
     "execution_count": 103,
     "metadata": {},
     "output_type": "execute_result"
    }
   ],
   "source": [
    "def get_features(sample: str):\n",
    "    \"\"\"\n",
    "    Функция для превращения слова в признак.\n",
    "    Признак: последние 2 буквы.\n",
    "    \"\"\"\n",
    "    return sample[-2:]\n",
    "\n",
    "\n",
    "samples = [[get_features(name), lable] for name, lable in zip(data_train['name'], data_train['sex'])]\n",
    "classifier = naive_bayesian_train(samples)\n",
    "data_test['predicted_sex'] = [classify(classifier, get_features(name)) for name in data_test['name']]\n",
    "accuracy = accuracy_score(data_test['sex'], data_test['predicted_sex'])\n",
    "accuracy"
   ],
   "metadata": {
    "collapsed": false
   }
  },
  {
   "cell_type": "code",
   "execution_count": 104,
   "outputs": [
    {
     "data": {
      "text/plain": "0.7095865633074936"
     },
     "execution_count": 104,
     "metadata": {},
     "output_type": "execute_result"
    }
   ],
   "source": [
    "def get_features(sample: str):\n",
    "    \"\"\"\n",
    "    Функция для превращения слова в признак.\n",
    "    Признак: Первая + последняя буквы.\n",
    "    \"\"\"\n",
    "    return sample[1] + sample[-1]  # get last letter\n",
    "\n",
    "\n",
    "samples = [[get_features(name), lable] for name, lable in zip(data_train['name'], data_train['sex'])]\n",
    "classifier = naive_bayesian_train(samples)\n",
    "data_test['predicted_sex'] = [classify(classifier, get_features(name)) for name in data_test['name']]\n",
    "accuracy = accuracy_score(data_test['sex'], data_test['predicted_sex'])\n",
    "accuracy"
   ],
   "metadata": {
    "collapsed": false
   }
  },
  {
   "cell_type": "markdown",
   "source": [
    "При обоих изменениях точность упала"
   ],
   "metadata": {
    "collapsed": false
   }
  },
  {
   "cell_type": "markdown",
   "source": [
    "# Изменим classify"
   ],
   "metadata": {
    "collapsed": false
   }
  },
  {
   "cell_type": "code",
   "execution_count": 105,
   "outputs": [],
   "source": [
    "def get_features(sample: str):\n",
    "    \"\"\"\n",
    "    Функция для превращения слова в признак.\n",
    "    Признак: последняя буква.\n",
    "    \"\"\"\n",
    "    return sample[-1]  # get last letter"
   ],
   "metadata": {
    "collapsed": false
   }
  },
  {
   "cell_type": "code",
   "execution_count": 106,
   "outputs": [
    {
     "data": {
      "text/plain": "0.7799354005167959"
     },
     "execution_count": 106,
     "metadata": {},
     "output_type": "execute_result"
    }
   ],
   "source": [
    "def classify(classifier, feats):\n",
    "    \"\"\"\n",
    "    Функция для классификации\n",
    "    \"\"\"\n",
    "    classes, prob = classifier\n",
    "    return max(classes.keys(),\n",
    "               key=lambda cl: classes[cl] \\\n",
    "                              + sum(prob.get((cl, feat)) if (cl, feat) in prob else 0 for feat in feats))\n",
    "\n",
    "\n",
    "samples = [[get_features(name), lable] for name, lable in zip(data_train['name'], data_train['sex'])]\n",
    "classifier = naive_bayesian_train(samples)\n",
    "data_test['predicted_sex'] = [classify(classifier, get_features(name)) for name in data_test['name']]\n",
    "accuracy = accuracy_score(data_test['sex'], data_test['predicted_sex'])\n",
    "accuracy"
   ],
   "metadata": {
    "collapsed": false
   }
  },
  {
   "cell_type": "markdown",
   "source": [
    "Видно, что незначительно увеличилась. Как будто бы можно считать, что не изменилась"
   ],
   "metadata": {
    "collapsed": false
   }
  },
  {
   "cell_type": "markdown",
   "source": [
    "# sklearn.naive_bayes"
   ],
   "metadata": {
    "collapsed": false
   }
  },
  {
   "cell_type": "code",
   "execution_count": 107,
   "outputs": [
    {
     "name": "stdout",
     "output_type": "stream",
     "text": [
      "Наивный: 0.7762532299741602\n",
      "Гаусс: 0.7308914728682171\n",
      "Мультиномиальный: 0.7308914728682171\n"
     ]
    }
   ],
   "source": [
    "from sklearn.naive_bayes import GaussianNB\n",
    "from sklearn.naive_bayes import MultinomialNB\n",
    "\n",
    "data = pd.read_csv('names.csv')\n",
    "X, y = data['name'], data['sex']\n",
    "\n",
    "# превратим имена в последнюю букву\n",
    "X_numbers = np.array([ord(x[-1]) for x in X])\n",
    "\n",
    "# разделим данные\n",
    "X_train, X_test, y_train, y_test = train_test_split(X_numbers, y, test_size=0.2)\n",
    "\n",
    "# гауссовский метод\n",
    "gnb = GaussianNB()\n",
    "gnb.fit(X_train.reshape(-1, 1), y_train)\n",
    "y_pred_gauss = gnb.predict(X_test.reshape(-1, 1))\n",
    "\n",
    "# мультиноминальный\n",
    "mnb = MultinomialNB()\n",
    "mnb.fit(X_train.reshape(-1, 1), y_train)\n",
    "y_pred_multi = gnb.predict(X_test.reshape(-1, 1))\n",
    "\n",
    "# точность\n",
    "accuracy_gauss = accuracy_score(y_test, y_pred_gauss)\n",
    "accuracy_multi = accuracy_score(y_test, y_pred_multi)\n",
    "print(f\"Наивный: {accuracy_naive}\")\n",
    "print(f\"Гаусс: {accuracy_gauss}\")\n",
    "print(f\"Мультиномиальный: {accuracy_multi}\")"
   ],
   "metadata": {
    "collapsed": false
   }
  },
  {
   "cell_type": "markdown",
   "source": [
    "Видно, что наиболее точный метод — наивный байесовский, который написан руками"
   ],
   "metadata": {
    "collapsed": false
   }
  }
 ],
 "metadata": {
  "kernelspec": {
   "display_name": "Python 3",
   "language": "python",
   "name": "python3"
  },
  "language_info": {
   "codemirror_mode": {
    "name": "ipython",
    "version": 2
   },
   "file_extension": ".py",
   "mimetype": "text/x-python",
   "name": "python",
   "nbconvert_exporter": "python",
   "pygments_lexer": "ipython2",
   "version": "2.7.6"
  }
 },
 "nbformat": 4,
 "nbformat_minor": 0
}
