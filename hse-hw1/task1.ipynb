{
 "cells": [
  {
   "cell_type": "code",
   "execution_count": 2,
   "metadata": {
    "collapsed": true
   },
   "outputs": [],
   "source": [
    "import pandas as pd\n",
    "import numpy as np\n",
    "from sklearn.model_selection import train_test_split\n",
    "from sklearn.metrics import accuracy_score\n",
    "from sklearn.metrics import recall_score\n",
    "from sklearn.metrics import precision_score\n",
    "\n",
    "from collections import defaultdict\n",
    "from math import log"
   ]
  },
  {
   "cell_type": "markdown",
   "source": [
    "# Считывание данных"
   ],
   "metadata": {
    "collapsed": false
   }
  },
  {
   "cell_type": "code",
   "execution_count": 3,
   "outputs": [
    {
     "data": {
      "text/plain": "        year      name   percent   sex\n0       1880      John  0.081541   boy\n1       1880   William  0.080511   boy\n2       1880     James  0.050057   boy\n3       1880   Charles  0.045167   boy\n4       1880    George  0.043292   boy\n...      ...       ...       ...   ...\n257995  2008  Carleigh  0.000128  girl\n257996  2008     Iyana  0.000128  girl\n257997  2008    Kenley  0.000127  girl\n257998  2008    Sloane  0.000127  girl\n257999  2008   Elianna  0.000127  girl\n\n[258000 rows x 4 columns]",
      "text/html": "<div>\n<style scoped>\n    .dataframe tbody tr th:only-of-type {\n        vertical-align: middle;\n    }\n\n    .dataframe tbody tr th {\n        vertical-align: top;\n    }\n\n    .dataframe thead th {\n        text-align: right;\n    }\n</style>\n<table border=\"1\" class=\"dataframe\">\n  <thead>\n    <tr style=\"text-align: right;\">\n      <th></th>\n      <th>year</th>\n      <th>name</th>\n      <th>percent</th>\n      <th>sex</th>\n    </tr>\n  </thead>\n  <tbody>\n    <tr>\n      <th>0</th>\n      <td>1880</td>\n      <td>John</td>\n      <td>0.081541</td>\n      <td>boy</td>\n    </tr>\n    <tr>\n      <th>1</th>\n      <td>1880</td>\n      <td>William</td>\n      <td>0.080511</td>\n      <td>boy</td>\n    </tr>\n    <tr>\n      <th>2</th>\n      <td>1880</td>\n      <td>James</td>\n      <td>0.050057</td>\n      <td>boy</td>\n    </tr>\n    <tr>\n      <th>3</th>\n      <td>1880</td>\n      <td>Charles</td>\n      <td>0.045167</td>\n      <td>boy</td>\n    </tr>\n    <tr>\n      <th>4</th>\n      <td>1880</td>\n      <td>George</td>\n      <td>0.043292</td>\n      <td>boy</td>\n    </tr>\n    <tr>\n      <th>...</th>\n      <td>...</td>\n      <td>...</td>\n      <td>...</td>\n      <td>...</td>\n    </tr>\n    <tr>\n      <th>257995</th>\n      <td>2008</td>\n      <td>Carleigh</td>\n      <td>0.000128</td>\n      <td>girl</td>\n    </tr>\n    <tr>\n      <th>257996</th>\n      <td>2008</td>\n      <td>Iyana</td>\n      <td>0.000128</td>\n      <td>girl</td>\n    </tr>\n    <tr>\n      <th>257997</th>\n      <td>2008</td>\n      <td>Kenley</td>\n      <td>0.000127</td>\n      <td>girl</td>\n    </tr>\n    <tr>\n      <th>257998</th>\n      <td>2008</td>\n      <td>Sloane</td>\n      <td>0.000127</td>\n      <td>girl</td>\n    </tr>\n    <tr>\n      <th>257999</th>\n      <td>2008</td>\n      <td>Elianna</td>\n      <td>0.000127</td>\n      <td>girl</td>\n    </tr>\n  </tbody>\n</table>\n<p>258000 rows × 4 columns</p>\n</div>"
     },
     "execution_count": 3,
     "metadata": {},
     "output_type": "execute_result"
    }
   ],
   "source": [
    "data = pd.read_csv(\"names.csv\")\n",
    "data"
   ],
   "metadata": {
    "collapsed": false
   }
  },
  {
   "cell_type": "markdown",
   "source": [
    "# Разделение на тестовую и обучающую выборку"
   ],
   "metadata": {
    "collapsed": false
   }
  },
  {
   "cell_type": "code",
   "execution_count": 4,
   "outputs": [],
   "source": [
    "data_train, data_test = train_test_split(data, test_size=0.3)"
   ],
   "metadata": {
    "collapsed": false
   }
  },
  {
   "cell_type": "code",
   "execution_count": 5,
   "outputs": [
    {
     "data": {
      "text/plain": "        year      name   percent   sex\n18246   1898   Carroll  0.000386   boy\n203093  1954  Michelle  0.002225  girl\n66537   1946   Rolland  0.000086   boy\n197916  1948   Marilou  0.000052  girl\n135351  1886       Eda  0.000241  girl\n...      ...       ...       ...   ...\n90598   1970   Domingo  0.000096   boy\n253949  2004     Tracy  0.000126  girl\n218355  1969  Annmarie  0.000371  girl\n214148  1965    Elaine  0.001367  girl\n216484  1967    Aretha  0.000224  girl\n\n[77400 rows x 4 columns]",
      "text/html": "<div>\n<style scoped>\n    .dataframe tbody tr th:only-of-type {\n        vertical-align: middle;\n    }\n\n    .dataframe tbody tr th {\n        vertical-align: top;\n    }\n\n    .dataframe thead th {\n        text-align: right;\n    }\n</style>\n<table border=\"1\" class=\"dataframe\">\n  <thead>\n    <tr style=\"text-align: right;\">\n      <th></th>\n      <th>year</th>\n      <th>name</th>\n      <th>percent</th>\n      <th>sex</th>\n    </tr>\n  </thead>\n  <tbody>\n    <tr>\n      <th>18246</th>\n      <td>1898</td>\n      <td>Carroll</td>\n      <td>0.000386</td>\n      <td>boy</td>\n    </tr>\n    <tr>\n      <th>203093</th>\n      <td>1954</td>\n      <td>Michelle</td>\n      <td>0.002225</td>\n      <td>girl</td>\n    </tr>\n    <tr>\n      <th>66537</th>\n      <td>1946</td>\n      <td>Rolland</td>\n      <td>0.000086</td>\n      <td>boy</td>\n    </tr>\n    <tr>\n      <th>197916</th>\n      <td>1948</td>\n      <td>Marilou</td>\n      <td>0.000052</td>\n      <td>girl</td>\n    </tr>\n    <tr>\n      <th>135351</th>\n      <td>1886</td>\n      <td>Eda</td>\n      <td>0.000241</td>\n      <td>girl</td>\n    </tr>\n    <tr>\n      <th>...</th>\n      <td>...</td>\n      <td>...</td>\n      <td>...</td>\n      <td>...</td>\n    </tr>\n    <tr>\n      <th>90598</th>\n      <td>1970</td>\n      <td>Domingo</td>\n      <td>0.000096</td>\n      <td>boy</td>\n    </tr>\n    <tr>\n      <th>253949</th>\n      <td>2004</td>\n      <td>Tracy</td>\n      <td>0.000126</td>\n      <td>girl</td>\n    </tr>\n    <tr>\n      <th>218355</th>\n      <td>1969</td>\n      <td>Annmarie</td>\n      <td>0.000371</td>\n      <td>girl</td>\n    </tr>\n    <tr>\n      <th>214148</th>\n      <td>1965</td>\n      <td>Elaine</td>\n      <td>0.001367</td>\n      <td>girl</td>\n    </tr>\n    <tr>\n      <th>216484</th>\n      <td>1967</td>\n      <td>Aretha</td>\n      <td>0.000224</td>\n      <td>girl</td>\n    </tr>\n  </tbody>\n</table>\n<p>77400 rows × 4 columns</p>\n</div>"
     },
     "execution_count": 5,
     "metadata": {},
     "output_type": "execute_result"
    }
   ],
   "source": [
    "data_test"
   ],
   "metadata": {
    "collapsed": false
   }
  },
  {
   "cell_type": "code",
   "execution_count": 6,
   "outputs": [
    {
     "data": {
      "text/plain": "        year         name   percent   sex\n192636  1943       Pattie  0.000099  girl\n157814  1908       Jackie  0.000065  girl\n225107  1976          Ann  0.001549  girl\n146510  1897      Delphia  0.000133  girl\n100303  1980         Toby  0.000350   boy\n...      ...          ...       ...   ...\n222215  1973      Darlene  0.000748  girl\n222722  1973       Adrian  0.000128  girl\n233502  1984  Christopher  0.000218  girl\n73951   1953         Oren  0.000029   boy\n115427  1995      Grayson  0.000264   boy\n\n[180600 rows x 4 columns]",
      "text/html": "<div>\n<style scoped>\n    .dataframe tbody tr th:only-of-type {\n        vertical-align: middle;\n    }\n\n    .dataframe tbody tr th {\n        vertical-align: top;\n    }\n\n    .dataframe thead th {\n        text-align: right;\n    }\n</style>\n<table border=\"1\" class=\"dataframe\">\n  <thead>\n    <tr style=\"text-align: right;\">\n      <th></th>\n      <th>year</th>\n      <th>name</th>\n      <th>percent</th>\n      <th>sex</th>\n    </tr>\n  </thead>\n  <tbody>\n    <tr>\n      <th>192636</th>\n      <td>1943</td>\n      <td>Pattie</td>\n      <td>0.000099</td>\n      <td>girl</td>\n    </tr>\n    <tr>\n      <th>157814</th>\n      <td>1908</td>\n      <td>Jackie</td>\n      <td>0.000065</td>\n      <td>girl</td>\n    </tr>\n    <tr>\n      <th>225107</th>\n      <td>1976</td>\n      <td>Ann</td>\n      <td>0.001549</td>\n      <td>girl</td>\n    </tr>\n    <tr>\n      <th>146510</th>\n      <td>1897</td>\n      <td>Delphia</td>\n      <td>0.000133</td>\n      <td>girl</td>\n    </tr>\n    <tr>\n      <th>100303</th>\n      <td>1980</td>\n      <td>Toby</td>\n      <td>0.000350</td>\n      <td>boy</td>\n    </tr>\n    <tr>\n      <th>...</th>\n      <td>...</td>\n      <td>...</td>\n      <td>...</td>\n      <td>...</td>\n    </tr>\n    <tr>\n      <th>222215</th>\n      <td>1973</td>\n      <td>Darlene</td>\n      <td>0.000748</td>\n      <td>girl</td>\n    </tr>\n    <tr>\n      <th>222722</th>\n      <td>1973</td>\n      <td>Adrian</td>\n      <td>0.000128</td>\n      <td>girl</td>\n    </tr>\n    <tr>\n      <th>233502</th>\n      <td>1984</td>\n      <td>Christopher</td>\n      <td>0.000218</td>\n      <td>girl</td>\n    </tr>\n    <tr>\n      <th>73951</th>\n      <td>1953</td>\n      <td>Oren</td>\n      <td>0.000029</td>\n      <td>boy</td>\n    </tr>\n    <tr>\n      <th>115427</th>\n      <td>1995</td>\n      <td>Grayson</td>\n      <td>0.000264</td>\n      <td>boy</td>\n    </tr>\n  </tbody>\n</table>\n<p>180600 rows × 4 columns</p>\n</div>"
     },
     "execution_count": 6,
     "metadata": {},
     "output_type": "execute_result"
    }
   ],
   "source": [
    "data_train"
   ],
   "metadata": {
    "collapsed": false
   }
  },
  {
   "cell_type": "markdown",
   "source": [
    "# Функция для наивной байесовской классификации"
   ],
   "metadata": {
    "collapsed": false
   }
  },
  {
   "cell_type": "code",
   "execution_count": 7,
   "outputs": [],
   "source": [
    "def naive_bayesian_train(samples):\n",
    "    classes, freq = defaultdict(lambda: 0), defaultdict(lambda: 0)\n",
    "\n",
    "    for feats, label in samples:\n",
    "        classes[label] += 1\n",
    "        for feat in feats:\n",
    "            freq[label, feat] += 1\n",
    "\n",
    "    for label, feat in freq:\n",
    "        freq[label, feat] /= classes[label]\n",
    "    for c in classes:\n",
    "        classes[c] /= len(samples)\n",
    "\n",
    "    return classes, freq\n",
    "\n",
    "\n",
    "def classify(classifier, feats):\n",
    "    classes, prob = classifier\n",
    "    return min(classes.keys(),\n",
    "               key=lambda cl: -log(classes[cl]) \\\n",
    "                              + sum(-log(prob.get((cl, feat))) if (cl, feat) in prob else 0 for feat in feats))"
   ],
   "metadata": {
    "collapsed": false
   }
  },
  {
   "cell_type": "code",
   "execution_count": 8,
   "outputs": [],
   "source": [
    "def get_features(sample: str):\n",
    "    \"\"\"\n",
    "    Функция для превращения слова в признак.\n",
    "    Признак: последняя буква.\n",
    "    \"\"\"\n",
    "    return sample[-1]  # get last letter"
   ],
   "metadata": {
    "collapsed": false
   }
  },
  {
   "cell_type": "markdown",
   "source": [
    "# Применение функции"
   ],
   "metadata": {
    "collapsed": false
   }
  },
  {
   "cell_type": "code",
   "execution_count": 9,
   "outputs": [
    {
     "data": {
      "text/plain": "array([['e', 'girl'],\n       ['e', 'girl'],\n       ['n', 'girl'],\n       ...,\n       ['r', 'girl'],\n       ['n', 'boy'],\n       ['n', 'boy']], dtype='<U4')"
     },
     "execution_count": 9,
     "metadata": {},
     "output_type": "execute_result"
    }
   ],
   "source": [
    "# обучение\n",
    "samples = [[get_features(name), lable] for name, lable in zip(data_train['name'], data_train['sex'])]\n",
    "np.array(samples)"
   ],
   "metadata": {
    "collapsed": false
   }
  },
  {
   "cell_type": "code",
   "execution_count": 96,
   "outputs": [
    {
     "data": {
      "text/plain": "(defaultdict(<function __main__.naive_bayesian_train.<locals>.<lambda>()>,\n             {'boy': 0.49988372093023253, 'girl': 0.5001162790697674}),\n defaultdict(<function __main__.naive_bayesian_train.<locals>.<lambda>()>,\n             {('boy', 'n'): 0.21466786295816304,\n              ('boy', 'o'): 0.06299360870191296,\n              ('girl', 'a'): 0.3844953000963231,\n              ('girl', 'e'): 0.3006609758527917,\n              ('boy', 't'): 0.053766656697570865,\n              ('boy', 'i'): 0.00559377042280043,\n              ('girl', 'h'): 0.025531161081033205,\n              ('girl', 'n'): 0.0803246199665637,\n              ('boy', 'e'): 0.13867012261987838,\n              ('boy', 'h'): 0.02626302905437588,\n              ('girl', 'y'): 0.0781988684801984,\n              ('boy', 'y'): 0.11094495951439427,\n              ('girl', 'r'): 0.012023781844753712,\n              ('boy', 'd'): 0.07219840716002614,\n              ('boy', 'm'): 0.01663731321791336,\n              ('girl', 'l'): 0.034930968434804754,\n              ('boy', 'l'): 0.08265488098007288,\n              ('girl', 'i'): 0.0273690503869532,\n              ('boy', 'a'): 0.016260702932021844,\n              ('girl', 'o'): 0.005148304381040954,\n              ('boy', 's'): 0.07822417173429036,\n              ('boy', 'r'): 0.06056779538984703,\n              ('girl', 's'): 0.022840756856102123,\n              ('boy', 'f'): 0.003323031934336889,\n              ('boy', 'c'): 0.00935987328171557,\n              ('boy', 'k'): 0.02147786306893076,\n              ('girl', 'u'): 0.0017936028166207194,\n              ('girl', 'd'): 0.007960496451545045,\n              ('boy', 'w'): 0.004763012439216207,\n              ('boy', 'x'): 0.004541476976927082,\n              ('girl', 't'): 0.011215553415041907,\n              ('girl', 'm'): 0.0030336245170004762,\n              ('boy', 'g'): 0.006070071666722051,\n              ('boy', 'b'): 0.0039765615480898105,\n              ('girl', 'z'): 0.002037178507766743,\n              ('boy', 'u'): 0.0008196812104697659,\n              ('boy', 'z'): 0.00230396880780691,\n              ('girl', 'k'): 0.0009189446529599982,\n              ('boy', 'p'): 0.003179033883848957,\n              ('girl', 'x'): 0.00021036082417156586,\n              ('girl', 'g'): 0.0005425094939161435,\n              ('girl', 'w'): 0.0004207216483431317,\n              ('boy', 'q'): 0.00012184450425901926,\n              ('boy', 'v'): 0.0005095315632649897,\n              ('girl', 'c'): 0.00024357569114602363,\n              ('girl', 'b'): 7.750135627373479e-05,\n              ('boy', 'j'): 0.00011076773114456296,\n              ('girl', 'v'): 2.214324464963851e-05}))"
     },
     "execution_count": 96,
     "metadata": {},
     "output_type": "execute_result"
    }
   ],
   "source": [
    "classifier = naive_bayesian_train(samples)\n",
    "classifier"
   ],
   "metadata": {
    "collapsed": false
   }
  },
  {
   "cell_type": "code",
   "execution_count": 97,
   "outputs": [
    {
     "name": "stdout",
     "output_type": "stream",
     "text": [
      "Max is a boy\n",
      "Nikita is a girl\n",
      "Vika is a girl\n"
     ]
    }
   ],
   "source": [
    "# проверка\n",
    "names = ['Max', 'Nikita', 'Vika']\n",
    "for name in names:\n",
    "    print(f\"{name} is a {classify(classifier, get_features(name))}\")"
   ],
   "metadata": {
    "collapsed": false
   }
  },
  {
   "cell_type": "code",
   "execution_count": 98,
   "outputs": [
    {
     "data": {
      "text/plain": "           name   sex predicted_sex\n129389  Antonia  girl          girl\n144396    Eddie  girl          girl\n63818       Ian   boy           boy\n200861   Phoebe  girl          girl\n61723    Arther   boy           boy\n...         ...   ...           ...\n177529  Isabell  girl           boy\n122941   Darrin   boy           boy\n158518   Ramona  girl          girl\n159336    Joyce  girl          girl\n239876  Corrine  girl          girl\n\n[77400 rows x 3 columns]",
      "text/html": "<div>\n<style scoped>\n    .dataframe tbody tr th:only-of-type {\n        vertical-align: middle;\n    }\n\n    .dataframe tbody tr th {\n        vertical-align: top;\n    }\n\n    .dataframe thead th {\n        text-align: right;\n    }\n</style>\n<table border=\"1\" class=\"dataframe\">\n  <thead>\n    <tr style=\"text-align: right;\">\n      <th></th>\n      <th>name</th>\n      <th>sex</th>\n      <th>predicted_sex</th>\n    </tr>\n  </thead>\n  <tbody>\n    <tr>\n      <th>129389</th>\n      <td>Antonia</td>\n      <td>girl</td>\n      <td>girl</td>\n    </tr>\n    <tr>\n      <th>144396</th>\n      <td>Eddie</td>\n      <td>girl</td>\n      <td>girl</td>\n    </tr>\n    <tr>\n      <th>63818</th>\n      <td>Ian</td>\n      <td>boy</td>\n      <td>boy</td>\n    </tr>\n    <tr>\n      <th>200861</th>\n      <td>Phoebe</td>\n      <td>girl</td>\n      <td>girl</td>\n    </tr>\n    <tr>\n      <th>61723</th>\n      <td>Arther</td>\n      <td>boy</td>\n      <td>boy</td>\n    </tr>\n    <tr>\n      <th>...</th>\n      <td>...</td>\n      <td>...</td>\n      <td>...</td>\n    </tr>\n    <tr>\n      <th>177529</th>\n      <td>Isabell</td>\n      <td>girl</td>\n      <td>boy</td>\n    </tr>\n    <tr>\n      <th>122941</th>\n      <td>Darrin</td>\n      <td>boy</td>\n      <td>boy</td>\n    </tr>\n    <tr>\n      <th>158518</th>\n      <td>Ramona</td>\n      <td>girl</td>\n      <td>girl</td>\n    </tr>\n    <tr>\n      <th>159336</th>\n      <td>Joyce</td>\n      <td>girl</td>\n      <td>girl</td>\n    </tr>\n    <tr>\n      <th>239876</th>\n      <td>Corrine</td>\n      <td>girl</td>\n      <td>girl</td>\n    </tr>\n  </tbody>\n</table>\n<p>77400 rows × 3 columns</p>\n</div>"
     },
     "execution_count": 98,
     "metadata": {},
     "output_type": "execute_result"
    }
   ],
   "source": [
    "data_test['predicted_sex'] = [classify(classifier, get_features(name)) for name in data_test['name']]\n",
    "data_test[['name', 'sex', 'predicted_sex']]"
   ],
   "metadata": {
    "collapsed": false
   }
  },
  {
   "cell_type": "markdown",
   "source": [
    "# Проверка через метрики"
   ],
   "metadata": {
    "collapsed": false
   }
  },
  {
   "cell_type": "code",
   "execution_count": 99,
   "outputs": [
    {
     "data": {
      "text/plain": "0.7762532299741602"
     },
     "execution_count": 99,
     "metadata": {},
     "output_type": "execute_result"
    }
   ],
   "source": [
    "# точность (accuracy)\n",
    "\n",
    "accuracy_naive = accuracy_score(data_test['sex'], data_test['predicted_sex'])\n",
    "accuracy_naive"
   ],
   "metadata": {
    "collapsed": false
   }
  },
  {
   "cell_type": "code",
   "execution_count": 100,
   "outputs": [
    {
     "data": {
      "text/plain": "[0.8336303297952016, 0.7188138266242664]"
     },
     "execution_count": 100,
     "metadata": {},
     "output_type": "execute_result"
    }
   ],
   "source": [
    "# полнота (recall) вычисленная вручную\n",
    "\n",
    "recall = [0, 0]\n",
    "\n",
    "# насколько верно он определяет мужские имена\n",
    "sex = 'boy'\n",
    "recall[0] = data_test.loc[data_test['sex'].str.contains(sex) & data_test['predicted_sex'].str.contains(sex)].shape[0] / \\\n",
    "            data_test.loc[data_test['sex'].str.contains(sex)].shape[0]\n",
    "\n",
    "# насколько верно он определяет мужские имена\n",
    "sex = 'girl'\n",
    "recall[1] = data_test.loc[data_test['sex'].str.contains(sex) & data_test['predicted_sex'].str.contains(sex)].shape[0] / \\\n",
    "            data_test.loc[data_test['sex'].str.contains(sex)].shape[0]\n",
    "\n",
    "recall"
   ],
   "metadata": {
    "collapsed": false
   }
  },
  {
   "cell_type": "code",
   "execution_count": 101,
   "outputs": [
    {
     "data": {
      "text/plain": "[0.8336303297952016, 0.7188138266242664]"
     },
     "execution_count": 101,
     "metadata": {},
     "output_type": "execute_result"
    }
   ],
   "source": [
    "# полнота (recall) через sklearn\n",
    "\n",
    "list(recall_score(data_test['sex'], data_test['predicted_sex'], average=None))"
   ],
   "metadata": {
    "collapsed": false
   }
  },
  {
   "cell_type": "code",
   "execution_count": 102,
   "outputs": [
    {
     "data": {
      "text/plain": "[0.7479782180512108, 0.8118849467075485]"
     },
     "execution_count": 102,
     "metadata": {},
     "output_type": "execute_result"
    }
   ],
   "source": [
    "# precision\n",
    "\n",
    "list(precision_score(data_test['sex'], data_test['predicted_sex'], average=None))"
   ],
   "metadata": {
    "collapsed": false
   }
  },
  {
   "cell_type": "markdown",
   "source": [
    "# Изменим get_features"
   ],
   "metadata": {
    "collapsed": false
   }
  },
  {
   "cell_type": "code",
   "execution_count": 103,
   "outputs": [
    {
     "data": {
      "text/plain": "0.7014082687338501"
     },
     "execution_count": 103,
     "metadata": {},
     "output_type": "execute_result"
    }
   ],
   "source": [
    "def get_features(sample: str):\n",
    "    \"\"\"\n",
    "    Функция для превращения слова в признак.\n",
    "    Признак: последние 2 буквы.\n",
    "    \"\"\"\n",
    "    return sample[-2:]\n",
    "\n",
    "\n",
    "samples = [[get_features(name), lable] for name, lable in zip(data_train['name'], data_train['sex'])]\n",
    "classifier = naive_bayesian_train(samples)\n",
    "data_test['predicted_sex'] = [classify(classifier, get_features(name)) for name in data_test['name']]\n",
    "accuracy = accuracy_score(data_test['sex'], data_test['predicted_sex'])\n",
    "accuracy"
   ],
   "metadata": {
    "collapsed": false
   }
  },
  {
   "cell_type": "code",
   "execution_count": 104,
   "outputs": [
    {
     "data": {
      "text/plain": "0.7095865633074936"
     },
     "execution_count": 104,
     "metadata": {},
     "output_type": "execute_result"
    }
   ],
   "source": [
    "def get_features(sample: str):\n",
    "    \"\"\"\n",
    "    Функция для превращения слова в признак.\n",
    "    Признак: Первая + последняя буквы.\n",
    "    \"\"\"\n",
    "    return sample[1] + sample[-1]  # get last letter\n",
    "\n",
    "\n",
    "samples = [[get_features(name), lable] for name, lable in zip(data_train['name'], data_train['sex'])]\n",
    "classifier = naive_bayesian_train(samples)\n",
    "data_test['predicted_sex'] = [classify(classifier, get_features(name)) for name in data_test['name']]\n",
    "accuracy = accuracy_score(data_test['sex'], data_test['predicted_sex'])\n",
    "accuracy"
   ],
   "metadata": {
    "collapsed": false
   }
  },
  {
   "cell_type": "markdown",
   "source": [
    "При обоих изменениях точность упала"
   ],
   "metadata": {
    "collapsed": false
   }
  },
  {
   "cell_type": "markdown",
   "source": [
    "# Изменим classify"
   ],
   "metadata": {
    "collapsed": false
   }
  },
  {
   "cell_type": "code",
   "execution_count": 105,
   "outputs": [],
   "source": [
    "def get_features(sample: str):\n",
    "    \"\"\"\n",
    "    Функция для превращения слова в признак.\n",
    "    Признак: последняя буква.\n",
    "    \"\"\"\n",
    "    return sample[-1]  # get last letter"
   ],
   "metadata": {
    "collapsed": false
   }
  },
  {
   "cell_type": "code",
   "execution_count": 106,
   "outputs": [
    {
     "data": {
      "text/plain": "0.7799354005167959"
     },
     "execution_count": 106,
     "metadata": {},
     "output_type": "execute_result"
    }
   ],
   "source": [
    "def classify(classifier, feats):\n",
    "    \"\"\"\n",
    "    Функция для классификации\n",
    "    \"\"\"\n",
    "    classes, prob = classifier\n",
    "    return max(classes.keys(),\n",
    "               key=lambda cl: classes[cl] \\\n",
    "                              + sum(prob.get((cl, feat)) if (cl, feat) in prob else 0 for feat in feats))\n",
    "\n",
    "\n",
    "samples = [[get_features(name), lable] for name, lable in zip(data_train['name'], data_train['sex'])]\n",
    "classifier = naive_bayesian_train(samples)\n",
    "data_test['predicted_sex'] = [classify(classifier, get_features(name)) for name in data_test['name']]\n",
    "accuracy = accuracy_score(data_test['sex'], data_test['predicted_sex'])\n",
    "accuracy"
   ],
   "metadata": {
    "collapsed": false
   }
  },
  {
   "cell_type": "markdown",
   "source": [
    "Видно, что незначительно увеличилась. Как будто бы можно считать, что не изменилась"
   ],
   "metadata": {
    "collapsed": false
   }
  },
  {
   "cell_type": "markdown",
   "source": [
    "# sklearn.naive_bayes"
   ],
   "metadata": {
    "collapsed": false
   }
  },
  {
   "cell_type": "code",
   "execution_count": 107,
   "outputs": [
    {
     "name": "stdout",
     "output_type": "stream",
     "text": [
      "Наивный: 0.7762532299741602\n",
      "Гаусс: 0.7308914728682171\n",
      "Мультиномиальный: 0.7308914728682171\n"
     ]
    }
   ],
   "source": [
    "from sklearn.naive_bayes import GaussianNB\n",
    "from sklearn.naive_bayes import MultinomialNB\n",
    "\n",
    "data = pd.read_csv('names.csv')\n",
    "X, y = data['name'], data['sex']\n",
    "\n",
    "# превратим имена в последнюю букву\n",
    "X_numbers = np.array([ord(x[-1]) for x in X])\n",
    "\n",
    "# разделим данные\n",
    "X_train, X_test, y_train, y_test = train_test_split(X_numbers, y, test_size=0.2)\n",
    "\n",
    "# гауссовский метод\n",
    "gnb = GaussianNB()\n",
    "gnb.fit(X_train.reshape(-1, 1), y_train)\n",
    "y_pred_gauss = gnb.predict(X_test.reshape(-1, 1))\n",
    "\n",
    "# мультиноминальный\n",
    "mnb = MultinomialNB()\n",
    "mnb.fit(X_train.reshape(-1, 1), y_train)\n",
    "y_pred_multi = gnb.predict(X_test.reshape(-1, 1))\n",
    "\n",
    "# точность\n",
    "accuracy_gauss = accuracy_score(y_test, y_pred_gauss)\n",
    "accuracy_multi = accuracy_score(y_test, y_pred_multi)\n",
    "print(f\"Наивный: {accuracy_naive}\")\n",
    "print(f\"Гаусс: {accuracy_gauss}\")\n",
    "print(f\"Мультиномиальный: {accuracy_multi}\")"
   ],
   "metadata": {
    "collapsed": false
   }
  },
  {
   "cell_type": "markdown",
   "source": [
    "Видно, что наиболее точный метод — наивный байесовский, который написан руками"
   ],
   "metadata": {
    "collapsed": false
   }
  }
 ],
 "metadata": {
  "kernelspec": {
   "display_name": "Python 3",
   "language": "python",
   "name": "python3"
  },
  "language_info": {
   "codemirror_mode": {
    "name": "ipython",
    "version": 2
   },
   "file_extension": ".py",
   "mimetype": "text/x-python",
   "name": "python",
   "nbconvert_exporter": "python",
   "pygments_lexer": "ipython2",
   "version": "2.7.6"
  }
 },
 "nbformat": 4,
 "nbformat_minor": 0
}
