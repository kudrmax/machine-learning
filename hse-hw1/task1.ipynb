{
 "cells": [
  {
   "cell_type": "code",
   "execution_count": 116,
   "metadata": {
    "collapsed": true
   },
   "outputs": [],
   "source": [
    "import pandas as pd\n",
    "from sklearn.model_selection import train_test_split"
   ]
  },
  {
   "cell_type": "markdown",
   "source": [
    "# Считывание данных"
   ],
   "metadata": {
    "collapsed": false
   }
  },
  {
   "cell_type": "code",
   "execution_count": 117,
   "outputs": [
    {
     "data": {
      "text/plain": "        year      name   percent   sex\n0       1880      John  0.081541   boy\n1       1880   William  0.080511   boy\n2       1880     James  0.050057   boy\n3       1880   Charles  0.045167   boy\n4       1880    George  0.043292   boy\n...      ...       ...       ...   ...\n257995  2008  Carleigh  0.000128  girl\n257996  2008     Iyana  0.000128  girl\n257997  2008    Kenley  0.000127  girl\n257998  2008    Sloane  0.000127  girl\n257999  2008   Elianna  0.000127  girl\n\n[258000 rows x 4 columns]",
      "text/html": "<div>\n<style scoped>\n    .dataframe tbody tr th:only-of-type {\n        vertical-align: middle;\n    }\n\n    .dataframe tbody tr th {\n        vertical-align: top;\n    }\n\n    .dataframe thead th {\n        text-align: right;\n    }\n</style>\n<table border=\"1\" class=\"dataframe\">\n  <thead>\n    <tr style=\"text-align: right;\">\n      <th></th>\n      <th>year</th>\n      <th>name</th>\n      <th>percent</th>\n      <th>sex</th>\n    </tr>\n  </thead>\n  <tbody>\n    <tr>\n      <th>0</th>\n      <td>1880</td>\n      <td>John</td>\n      <td>0.081541</td>\n      <td>boy</td>\n    </tr>\n    <tr>\n      <th>1</th>\n      <td>1880</td>\n      <td>William</td>\n      <td>0.080511</td>\n      <td>boy</td>\n    </tr>\n    <tr>\n      <th>2</th>\n      <td>1880</td>\n      <td>James</td>\n      <td>0.050057</td>\n      <td>boy</td>\n    </tr>\n    <tr>\n      <th>3</th>\n      <td>1880</td>\n      <td>Charles</td>\n      <td>0.045167</td>\n      <td>boy</td>\n    </tr>\n    <tr>\n      <th>4</th>\n      <td>1880</td>\n      <td>George</td>\n      <td>0.043292</td>\n      <td>boy</td>\n    </tr>\n    <tr>\n      <th>...</th>\n      <td>...</td>\n      <td>...</td>\n      <td>...</td>\n      <td>...</td>\n    </tr>\n    <tr>\n      <th>257995</th>\n      <td>2008</td>\n      <td>Carleigh</td>\n      <td>0.000128</td>\n      <td>girl</td>\n    </tr>\n    <tr>\n      <th>257996</th>\n      <td>2008</td>\n      <td>Iyana</td>\n      <td>0.000128</td>\n      <td>girl</td>\n    </tr>\n    <tr>\n      <th>257997</th>\n      <td>2008</td>\n      <td>Kenley</td>\n      <td>0.000127</td>\n      <td>girl</td>\n    </tr>\n    <tr>\n      <th>257998</th>\n      <td>2008</td>\n      <td>Sloane</td>\n      <td>0.000127</td>\n      <td>girl</td>\n    </tr>\n    <tr>\n      <th>257999</th>\n      <td>2008</td>\n      <td>Elianna</td>\n      <td>0.000127</td>\n      <td>girl</td>\n    </tr>\n  </tbody>\n</table>\n<p>258000 rows × 4 columns</p>\n</div>"
     },
     "execution_count": 117,
     "metadata": {},
     "output_type": "execute_result"
    }
   ],
   "source": [
    "data = pd.read_csv(\"names.csv\")\n",
    "data"
   ],
   "metadata": {
    "collapsed": false
   }
  },
  {
   "cell_type": "markdown",
   "source": [
    "# Разделение на тестовую и обучающую выборку"
   ],
   "metadata": {
    "collapsed": false
   }
  },
  {
   "cell_type": "code",
   "execution_count": 118,
   "outputs": [],
   "source": [
    "data_train, data_test = train_test_split(data, test_size=0.3)"
   ],
   "metadata": {
    "collapsed": false
   }
  },
  {
   "cell_type": "code",
   "execution_count": 119,
   "outputs": [
    {
     "data": {
      "text/plain": "        year       name   percent   sex\n112312  1992   Geoffrey  0.000403   boy\n205089  1956      Helen  0.002561  girl\n76029   1956    Anthony  0.007251   boy\n24535   1904  Valentine  0.000130   boy\n51612   1931        Ken  0.000089   boy\n...      ...        ...       ...   ...\n24723   1904      Alois  0.000079   boy\n244051  1995     Brooke  0.003318  girl\n255149  2006    Liliana  0.001088  girl\n88590   1968     Efrain  0.000093   boy\n218950  1969   Christen  0.000072  girl\n\n[77400 rows x 4 columns]",
      "text/html": "<div>\n<style scoped>\n    .dataframe tbody tr th:only-of-type {\n        vertical-align: middle;\n    }\n\n    .dataframe tbody tr th {\n        vertical-align: top;\n    }\n\n    .dataframe thead th {\n        text-align: right;\n    }\n</style>\n<table border=\"1\" class=\"dataframe\">\n  <thead>\n    <tr style=\"text-align: right;\">\n      <th></th>\n      <th>year</th>\n      <th>name</th>\n      <th>percent</th>\n      <th>sex</th>\n    </tr>\n  </thead>\n  <tbody>\n    <tr>\n      <th>112312</th>\n      <td>1992</td>\n      <td>Geoffrey</td>\n      <td>0.000403</td>\n      <td>boy</td>\n    </tr>\n    <tr>\n      <th>205089</th>\n      <td>1956</td>\n      <td>Helen</td>\n      <td>0.002561</td>\n      <td>girl</td>\n    </tr>\n    <tr>\n      <th>76029</th>\n      <td>1956</td>\n      <td>Anthony</td>\n      <td>0.007251</td>\n      <td>boy</td>\n    </tr>\n    <tr>\n      <th>24535</th>\n      <td>1904</td>\n      <td>Valentine</td>\n      <td>0.000130</td>\n      <td>boy</td>\n    </tr>\n    <tr>\n      <th>51612</th>\n      <td>1931</td>\n      <td>Ken</td>\n      <td>0.000089</td>\n      <td>boy</td>\n    </tr>\n    <tr>\n      <th>...</th>\n      <td>...</td>\n      <td>...</td>\n      <td>...</td>\n      <td>...</td>\n    </tr>\n    <tr>\n      <th>24723</th>\n      <td>1904</td>\n      <td>Alois</td>\n      <td>0.000079</td>\n      <td>boy</td>\n    </tr>\n    <tr>\n      <th>244051</th>\n      <td>1995</td>\n      <td>Brooke</td>\n      <td>0.003318</td>\n      <td>girl</td>\n    </tr>\n    <tr>\n      <th>255149</th>\n      <td>2006</td>\n      <td>Liliana</td>\n      <td>0.001088</td>\n      <td>girl</td>\n    </tr>\n    <tr>\n      <th>88590</th>\n      <td>1968</td>\n      <td>Efrain</td>\n      <td>0.000093</td>\n      <td>boy</td>\n    </tr>\n    <tr>\n      <th>218950</th>\n      <td>1969</td>\n      <td>Christen</td>\n      <td>0.000072</td>\n      <td>girl</td>\n    </tr>\n  </tbody>\n</table>\n<p>77400 rows × 4 columns</p>\n</div>"
     },
     "execution_count": 119,
     "metadata": {},
     "output_type": "execute_result"
    }
   ],
   "source": [
    "data_test"
   ],
   "metadata": {
    "collapsed": false
   }
  },
  {
   "cell_type": "code",
   "execution_count": 120,
   "outputs": [
    {
     "data": {
      "text/plain": "        year      name   percent   sex\n169852  1920   Elinore  0.000058  girl\n108381  1988   Clifton  0.000259   boy\n146973  1897    Silvia  0.000048  girl\n167513  1918  Marianne  0.000149  girl\n14175   1894      Adam  0.000689   boy\n...      ...       ...       ...   ...\n110530  1990      Dana  0.000161   boy\n110617  1990    Leonel  0.000124   boy\n215180  1966    Shelia  0.001028  girl\n173796  1924  Savannah  0.000068  girl\n50523   1930    Connie  0.000116   boy\n\n[180600 rows x 4 columns]",
      "text/html": "<div>\n<style scoped>\n    .dataframe tbody tr th:only-of-type {\n        vertical-align: middle;\n    }\n\n    .dataframe tbody tr th {\n        vertical-align: top;\n    }\n\n    .dataframe thead th {\n        text-align: right;\n    }\n</style>\n<table border=\"1\" class=\"dataframe\">\n  <thead>\n    <tr style=\"text-align: right;\">\n      <th></th>\n      <th>year</th>\n      <th>name</th>\n      <th>percent</th>\n      <th>sex</th>\n    </tr>\n  </thead>\n  <tbody>\n    <tr>\n      <th>169852</th>\n      <td>1920</td>\n      <td>Elinore</td>\n      <td>0.000058</td>\n      <td>girl</td>\n    </tr>\n    <tr>\n      <th>108381</th>\n      <td>1988</td>\n      <td>Clifton</td>\n      <td>0.000259</td>\n      <td>boy</td>\n    </tr>\n    <tr>\n      <th>146973</th>\n      <td>1897</td>\n      <td>Silvia</td>\n      <td>0.000048</td>\n      <td>girl</td>\n    </tr>\n    <tr>\n      <th>167513</th>\n      <td>1918</td>\n      <td>Marianne</td>\n      <td>0.000149</td>\n      <td>girl</td>\n    </tr>\n    <tr>\n      <th>14175</th>\n      <td>1894</td>\n      <td>Adam</td>\n      <td>0.000689</td>\n      <td>boy</td>\n    </tr>\n    <tr>\n      <th>...</th>\n      <td>...</td>\n      <td>...</td>\n      <td>...</td>\n      <td>...</td>\n    </tr>\n    <tr>\n      <th>110530</th>\n      <td>1990</td>\n      <td>Dana</td>\n      <td>0.000161</td>\n      <td>boy</td>\n    </tr>\n    <tr>\n      <th>110617</th>\n      <td>1990</td>\n      <td>Leonel</td>\n      <td>0.000124</td>\n      <td>boy</td>\n    </tr>\n    <tr>\n      <th>215180</th>\n      <td>1966</td>\n      <td>Shelia</td>\n      <td>0.001028</td>\n      <td>girl</td>\n    </tr>\n    <tr>\n      <th>173796</th>\n      <td>1924</td>\n      <td>Savannah</td>\n      <td>0.000068</td>\n      <td>girl</td>\n    </tr>\n    <tr>\n      <th>50523</th>\n      <td>1930</td>\n      <td>Connie</td>\n      <td>0.000116</td>\n      <td>boy</td>\n    </tr>\n  </tbody>\n</table>\n<p>180600 rows × 4 columns</p>\n</div>"
     },
     "execution_count": 120,
     "metadata": {},
     "output_type": "execute_result"
    }
   ],
   "source": [
    "data_train"
   ],
   "metadata": {
    "collapsed": false
   }
  },
  {
   "cell_type": "markdown",
   "source": [
    "# Функция для наивной байесовской классификации"
   ],
   "metadata": {
    "collapsed": false
   }
  },
  {
   "cell_type": "code",
   "execution_count": 121,
   "outputs": [],
   "source": [
    "from collections import defaultdict\n",
    "from math import log\n",
    "\n",
    "\n",
    "def train(samples):\n",
    "    \"\"\"\n",
    "    Функция для обучения модели\n",
    "    \"\"\"\n",
    "    classes, freq = defaultdict(lambda: 0), defaultdict(lambda: 0) # классы и частоты\n",
    "\n",
    "    # заполняем словари из классов и частот\n",
    "    for feats, label in samples: # идем по признакам (feats) и полам (label)\n",
    "        classes[label] += 1  # count classes frequencies\n",
    "        for feat in feats:\n",
    "            freq[label, feat] += 1  # count features frequencies\n",
    "\n",
    "    # превращаем count в количество\n",
    "    for label, feat in freq:  # normalize features frequencies\n",
    "        freq[label, feat] /= classes[label]\n",
    "    for c in classes:  # normalize classes frequencies\n",
    "        classes[c] /= len(samples)\n",
    "\n",
    "    return classes, freq  # return P(C) and P(O|C)\n",
    "\n",
    "\n",
    "def classify(classifier, feats):\n",
    "    \"\"\"\n",
    "    Функция для классификации\n",
    "    \"\"\"\n",
    "    classes, prob = classifier\n",
    "    return min(classes.keys(),  # calculate argmin(-log(P(C|O))) -> argmax(P(C|O))\n",
    "           key=lambda cl: -log(classes[cl]) \\\n",
    "                          + sum(-log(prob.get((cl, feat))) if (cl, feat) in prob else 0 for feat in feats))\n",
    "\n",
    "def get_features(sample: str):\n",
    "    \"\"\"\n",
    "    Функция для превращения слова в признак.\n",
    "    Признак: последняя буква.\n",
    "    \"\"\"\n",
    "    return sample[-1]  # get last letter"
   ],
   "metadata": {
    "collapsed": false
   }
  },
  {
   "cell_type": "markdown",
   "source": [
    "# Применение функции"
   ],
   "metadata": {
    "collapsed": false
   }
  },
  {
   "cell_type": "code",
   "execution_count": 122,
   "outputs": [
    {
     "data": {
      "text/plain": "(defaultdict(<function __main__.train.<locals>.<lambda>()>,\n             {'girl': 0.49861018826135106, 'boy': 0.5013898117386489}),\n defaultdict(<function __main__.train.<locals>.<lambda>()>,\n             {('girl', 'e'): 0.30026985307998977,\n              ('boy', 'n'): 0.21403408024207352,\n              ('girl', 'a'): 0.38456840164799166,\n              ('boy', 'm'): 0.01652107652041391,\n              ('boy', 'h'): 0.026857792846020474,\n              ('girl', 'y'): 0.07945674021921398,\n              ('boy', 'y'): 0.11100926549679187,\n              ('boy', 's'): 0.07856346147474903,\n              ('boy', 'r'): 0.060728208412938564,\n              ('girl', 'n'): 0.08031183022576598,\n              ('boy', 'e'): 0.13838610285916225,\n              ('girl', 'd'): 0.007895701229330698,\n              ('boy', 'l'): 0.08320173162085455,\n              ('boy', 'd'): 0.07292023279698734,\n              ('boy', 'o'): 0.062163863458161696,\n              ('boy', 'i'): 0.005621141677065963,\n              ('girl', 'h'): 0.025330653310975136,\n              ('boy', 't'): 0.05237932214994865,\n              ('girl', 'l'): 0.035369632089195885,\n              ('boy', 'x'): 0.004395313138452364,\n              ('boy', 'a'): 0.016233945511369283,\n              ('boy', 'k'): 0.022396218705480888,\n              ('girl', 't'): 0.010583126964208375,\n              ('girl', 'z'): 0.001954491443547402,\n              ('girl', 's'): 0.022632122511077303,\n              ('girl', 'i'): 0.02732956501460316,\n              ('boy', 'b'): 0.003953573124537553,\n              ('girl', 'g'): 0.0005219380559473175,\n              ('boy', 'v'): 0.0005300880166977726,\n              ('girl', 'r'): 0.012082310741929394,\n              ('boy', 'w'): 0.004958531656193747,\n              ('boy', 'g'): 0.00591931618645846,\n              ('girl', 'm'): 0.0028984219702606357,\n              ('boy', 'p'): 0.0032026151008823756,\n              ('girl', 'u'): 0.001887861053426468,\n              ('boy', 'f'): 0.0036664421154929266,\n              ('girl', 'o'): 0.005008384324090218,\n              ('boy', 'c'): 0.009155061788384447,\n              ('boy', 'z'): 0.0022307870702697927,\n              ('boy', 'j'): 8.834800278296208e-05,\n              ('girl', 'k'): 0.0008661950715721441,\n              ('girl', 'w'): 0.0003886772757054493,\n              ('boy', 'q'): 0.0001435655045223134,\n              ('boy', 'u'): 0.0007399145233073075,\n              ('girl', 'c'): 0.0003109418205643594,\n              ('girl', 'x'): 0.00019989117036280248,\n              ('girl', 'v'): 3.331519506046708e-05,\n              ('girl', 'b'): 9.994558518140124e-05}))"
     },
     "execution_count": 122,
     "metadata": {},
     "output_type": "execute_result"
    }
   ],
   "source": [
    "# обучение\n",
    "samples = [[get_features(name), lable] for name, lable in zip(data_train['name'], data_train['sex'])]\n",
    "classifier = train(samples)\n",
    "classifier"
   ],
   "metadata": {
    "collapsed": false
   }
  },
  {
   "cell_type": "code",
   "execution_count": 123,
   "outputs": [
    {
     "name": "stdout",
     "output_type": "stream",
     "text": [
      "Max is a boy\n",
      "Nikita is a girl\n",
      "Vika is a girl\n"
     ]
    }
   ],
   "source": [
    "# проверка\n",
    "names = ['Max', 'Nikita', 'Vika']\n",
    "for name in names:\n",
    "    print(f\"{name} is a {classify(classifier, get_features(name))}\")"
   ],
   "metadata": {
    "collapsed": false
   }
  },
  {
   "cell_type": "code",
   "execution_count": 124,
   "outputs": [
    {
     "data": {
      "text/plain": "             name   sex class\n112312   Geoffrey   boy   boy\n205089      Helen  girl   boy\n76029     Anthony   boy   boy\n24535   Valentine   boy  girl\n51612         Ken   boy   boy\n...           ...   ...   ...\n24723       Alois   boy   boy\n244051     Brooke  girl  girl\n255149    Liliana  girl  girl\n88590      Efrain   boy   boy\n218950   Christen  girl   boy\n\n[77400 rows x 3 columns]",
      "text/html": "<div>\n<style scoped>\n    .dataframe tbody tr th:only-of-type {\n        vertical-align: middle;\n    }\n\n    .dataframe tbody tr th {\n        vertical-align: top;\n    }\n\n    .dataframe thead th {\n        text-align: right;\n    }\n</style>\n<table border=\"1\" class=\"dataframe\">\n  <thead>\n    <tr style=\"text-align: right;\">\n      <th></th>\n      <th>name</th>\n      <th>sex</th>\n      <th>class</th>\n    </tr>\n  </thead>\n  <tbody>\n    <tr>\n      <th>112312</th>\n      <td>Geoffrey</td>\n      <td>boy</td>\n      <td>boy</td>\n    </tr>\n    <tr>\n      <th>205089</th>\n      <td>Helen</td>\n      <td>girl</td>\n      <td>boy</td>\n    </tr>\n    <tr>\n      <th>76029</th>\n      <td>Anthony</td>\n      <td>boy</td>\n      <td>boy</td>\n    </tr>\n    <tr>\n      <th>24535</th>\n      <td>Valentine</td>\n      <td>boy</td>\n      <td>girl</td>\n    </tr>\n    <tr>\n      <th>51612</th>\n      <td>Ken</td>\n      <td>boy</td>\n      <td>boy</td>\n    </tr>\n    <tr>\n      <th>...</th>\n      <td>...</td>\n      <td>...</td>\n      <td>...</td>\n    </tr>\n    <tr>\n      <th>24723</th>\n      <td>Alois</td>\n      <td>boy</td>\n      <td>boy</td>\n    </tr>\n    <tr>\n      <th>244051</th>\n      <td>Brooke</td>\n      <td>girl</td>\n      <td>girl</td>\n    </tr>\n    <tr>\n      <th>255149</th>\n      <td>Liliana</td>\n      <td>girl</td>\n      <td>girl</td>\n    </tr>\n    <tr>\n      <th>88590</th>\n      <td>Efrain</td>\n      <td>boy</td>\n      <td>boy</td>\n    </tr>\n    <tr>\n      <th>218950</th>\n      <td>Christen</td>\n      <td>girl</td>\n      <td>boy</td>\n    </tr>\n  </tbody>\n</table>\n<p>77400 rows × 3 columns</p>\n</div>"
     },
     "execution_count": 124,
     "metadata": {},
     "output_type": "execute_result"
    }
   ],
   "source": [
    "data_test['class'] = [classify(classifier, get_features(name)) for name in data_test['name']]\n",
    "data_test[['name', 'sex', 'class']]"
   ],
   "metadata": {
    "collapsed": false
   }
  },
  {
   "cell_type": "markdown",
   "source": [
    "# Точность"
   ],
   "metadata": {
    "collapsed": false
   }
  },
  {
   "cell_type": "code",
   "execution_count": 125,
   "outputs": [
    {
     "data": {
      "text/plain": "0.7761498708010336"
     },
     "execution_count": 125,
     "metadata": {},
     "output_type": "execute_result"
    }
   ],
   "source": [
    "accuracy = sum([sex == cl for sex, cl in zip(data_test['sex'], data_test['class'])]) / data_test.shape[0]"
   ],
   "metadata": {
    "collapsed": false
   }
  }
 ],
 "metadata": {
  "kernelspec": {
   "display_name": "Python 3",
   "language": "python",
   "name": "python3"
  },
  "language_info": {
   "codemirror_mode": {
    "name": "ipython",
    "version": 2
   },
   "file_extension": ".py",
   "mimetype": "text/x-python",
   "name": "python",
   "nbconvert_exporter": "python",
   "pygments_lexer": "ipython2",
   "version": "2.7.6"
  }
 },
 "nbformat": 4,
 "nbformat_minor": 0
}
