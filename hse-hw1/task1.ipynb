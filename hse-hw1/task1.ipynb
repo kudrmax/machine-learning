{
 "cells": [
  {
   "cell_type": "code",
   "execution_count": 1,
   "metadata": {
    "collapsed": true
   },
   "outputs": [
    {
     "name": "stderr",
     "output_type": "stream",
     "text": [
      "/var/folders/hh/8pgkyy797f7941n9r5qyp10w0000gn/T/ipykernel_35258/4080736814.py:1: DeprecationWarning: \n",
      "Pyarrow will become a required dependency of pandas in the next major release of pandas (pandas 3.0),\n",
      "(to allow more performant data types, such as the Arrow string type, and better interoperability with other libraries)\n",
      "but was not found to be installed on your system.\n",
      "If this would cause problems for you,\n",
      "please provide us feedback at https://github.com/pandas-dev/pandas/issues/54466\n",
      "        \n",
      "  import pandas as pd\n"
     ]
    }
   ],
   "source": [
    "import pandas as pd"
   ]
  },
  {
   "cell_type": "code",
   "execution_count": 10,
   "outputs": [
    {
     "data": {
      "text/plain": "        year      name   percent   sex\n0       1880      John  0.081541   boy\n1       1880   William  0.080511   boy\n2       1880     James  0.050057   boy\n3       1880   Charles  0.045167   boy\n4       1880    George  0.043292   boy\n...      ...       ...       ...   ...\n257995  2008  Carleigh  0.000128  girl\n257996  2008     Iyana  0.000128  girl\n257997  2008    Kenley  0.000127  girl\n257998  2008    Sloane  0.000127  girl\n257999  2008   Elianna  0.000127  girl\n\n[258000 rows x 4 columns]",
      "text/html": "<div>\n<style scoped>\n    .dataframe tbody tr th:only-of-type {\n        vertical-align: middle;\n    }\n\n    .dataframe tbody tr th {\n        vertical-align: top;\n    }\n\n    .dataframe thead th {\n        text-align: right;\n    }\n</style>\n<table border=\"1\" class=\"dataframe\">\n  <thead>\n    <tr style=\"text-align: right;\">\n      <th></th>\n      <th>year</th>\n      <th>name</th>\n      <th>percent</th>\n      <th>sex</th>\n    </tr>\n  </thead>\n  <tbody>\n    <tr>\n      <th>0</th>\n      <td>1880</td>\n      <td>John</td>\n      <td>0.081541</td>\n      <td>boy</td>\n    </tr>\n    <tr>\n      <th>1</th>\n      <td>1880</td>\n      <td>William</td>\n      <td>0.080511</td>\n      <td>boy</td>\n    </tr>\n    <tr>\n      <th>2</th>\n      <td>1880</td>\n      <td>James</td>\n      <td>0.050057</td>\n      <td>boy</td>\n    </tr>\n    <tr>\n      <th>3</th>\n      <td>1880</td>\n      <td>Charles</td>\n      <td>0.045167</td>\n      <td>boy</td>\n    </tr>\n    <tr>\n      <th>4</th>\n      <td>1880</td>\n      <td>George</td>\n      <td>0.043292</td>\n      <td>boy</td>\n    </tr>\n    <tr>\n      <th>...</th>\n      <td>...</td>\n      <td>...</td>\n      <td>...</td>\n      <td>...</td>\n    </tr>\n    <tr>\n      <th>257995</th>\n      <td>2008</td>\n      <td>Carleigh</td>\n      <td>0.000128</td>\n      <td>girl</td>\n    </tr>\n    <tr>\n      <th>257996</th>\n      <td>2008</td>\n      <td>Iyana</td>\n      <td>0.000128</td>\n      <td>girl</td>\n    </tr>\n    <tr>\n      <th>257997</th>\n      <td>2008</td>\n      <td>Kenley</td>\n      <td>0.000127</td>\n      <td>girl</td>\n    </tr>\n    <tr>\n      <th>257998</th>\n      <td>2008</td>\n      <td>Sloane</td>\n      <td>0.000127</td>\n      <td>girl</td>\n    </tr>\n    <tr>\n      <th>257999</th>\n      <td>2008</td>\n      <td>Elianna</td>\n      <td>0.000127</td>\n      <td>girl</td>\n    </tr>\n  </tbody>\n</table>\n<p>258000 rows × 4 columns</p>\n</div>"
     },
     "execution_count": 10,
     "metadata": {},
     "output_type": "execute_result"
    }
   ],
   "source": [
    "data = pd.read_csv(\"names.csv\")\n",
    "data"
   ],
   "metadata": {
    "collapsed": false
   }
  },
  {
   "cell_type": "code",
   "execution_count": 12,
   "outputs": [
    {
     "data": {
      "text/plain": "        year      name   percent   sex\n212735  1963     Candi  0.000098  girl\n165951  1916  Claribel  0.000048  girl\n192728  1943  Katheryn  0.000079  girl\n234366  1985  Clarissa  0.000344  girl\n8111    1888    Warren  0.001139   boy\n...      ...       ...       ...   ...\n159720  1910      Zada  0.000083  girl\n194008  1945    Judith  0.014996  girl\n122964  2002    Dontae  0.000080   boy\n172519  1923     Adell  0.000146  girl\n248620  1999    Shawna  0.000197  girl\n\n[180600 rows x 4 columns]",
      "text/html": "<div>\n<style scoped>\n    .dataframe tbody tr th:only-of-type {\n        vertical-align: middle;\n    }\n\n    .dataframe tbody tr th {\n        vertical-align: top;\n    }\n\n    .dataframe thead th {\n        text-align: right;\n    }\n</style>\n<table border=\"1\" class=\"dataframe\">\n  <thead>\n    <tr style=\"text-align: right;\">\n      <th></th>\n      <th>year</th>\n      <th>name</th>\n      <th>percent</th>\n      <th>sex</th>\n    </tr>\n  </thead>\n  <tbody>\n    <tr>\n      <th>212735</th>\n      <td>1963</td>\n      <td>Candi</td>\n      <td>0.000098</td>\n      <td>girl</td>\n    </tr>\n    <tr>\n      <th>165951</th>\n      <td>1916</td>\n      <td>Claribel</td>\n      <td>0.000048</td>\n      <td>girl</td>\n    </tr>\n    <tr>\n      <th>192728</th>\n      <td>1943</td>\n      <td>Katheryn</td>\n      <td>0.000079</td>\n      <td>girl</td>\n    </tr>\n    <tr>\n      <th>234366</th>\n      <td>1985</td>\n      <td>Clarissa</td>\n      <td>0.000344</td>\n      <td>girl</td>\n    </tr>\n    <tr>\n      <th>8111</th>\n      <td>1888</td>\n      <td>Warren</td>\n      <td>0.001139</td>\n      <td>boy</td>\n    </tr>\n    <tr>\n      <th>...</th>\n      <td>...</td>\n      <td>...</td>\n      <td>...</td>\n      <td>...</td>\n    </tr>\n    <tr>\n      <th>159720</th>\n      <td>1910</td>\n      <td>Zada</td>\n      <td>0.000083</td>\n      <td>girl</td>\n    </tr>\n    <tr>\n      <th>194008</th>\n      <td>1945</td>\n      <td>Judith</td>\n      <td>0.014996</td>\n      <td>girl</td>\n    </tr>\n    <tr>\n      <th>122964</th>\n      <td>2002</td>\n      <td>Dontae</td>\n      <td>0.000080</td>\n      <td>boy</td>\n    </tr>\n    <tr>\n      <th>172519</th>\n      <td>1923</td>\n      <td>Adell</td>\n      <td>0.000146</td>\n      <td>girl</td>\n    </tr>\n    <tr>\n      <th>248620</th>\n      <td>1999</td>\n      <td>Shawna</td>\n      <td>0.000197</td>\n      <td>girl</td>\n    </tr>\n  </tbody>\n</table>\n<p>180600 rows × 4 columns</p>\n</div>"
     },
     "execution_count": 12,
     "metadata": {},
     "output_type": "execute_result"
    }
   ],
   "source": [
    "# Разделить данные в выборке на обучающий набор и тестирование (выбор принципа разделения за вами – например, 70% данных в обучении и 30% в тестировании)\n",
    "test = data.sample(frac=0.7)\n",
    "test"
   ],
   "metadata": {
    "collapsed": false
   }
  },
  {
   "cell_type": "code",
   "execution_count": 32,
   "outputs": [],
   "source": [
    "from collections import defaultdict\n",
    "from math import log\n",
    "\n",
    "\n",
    "def train(samples):\n",
    "    classes, freq = defaultdict(lambda: 0), defaultdict(lambda: 0) # классы и частоты\n",
    "\n",
    "    # заполняем словари из классов и частот\n",
    "    for feats, label in samples: # идем по признакам (feats) и полам (label)\n",
    "        classes[label] += 1  # count classes frequencies\n",
    "        for feat in feats:\n",
    "            freq[label, feat] += 1  # count features frequencies\n",
    "\n",
    "    # превращаем count в колличество\n",
    "    for label, feat in freq:  # normalize features frequencies\n",
    "        freq[label, feat] /= classes[label]\n",
    "    for c in classes:  # normalize classes frequencies\n",
    "        classes[c] /= len(samples)\n",
    "\n",
    "    return classes, freq  # return P(C) and P(O|C)\n",
    "\n",
    "\n",
    "def classify(classifier, feats):\n",
    "    # просто формула из теории\n",
    "    classes, prob = classifier\n",
    "    return min(classes.keys(),  # calculate argmin(-log(P(C|O))) -> argmax(P(C|O))\n",
    "               key=lambda cl: -log(classes[cl]) + \\\n",
    "                              sum(-log(prob.get((cl, feat))) for feat in feats))\n",
    "\n",
    "\n",
    "def get_features(sample: str):\n",
    "    return sample[-1]  # get last letter"
   ],
   "metadata": {
    "collapsed": false
   }
  },
  {
   "cell_type": "code",
   "execution_count": 39,
   "outputs": [],
   "source": [
    "samples = [(\"Anna\", \"F\"), (\"Michael\", \"M\"), (\"Jane\", \"F\"), (\"Ilya\", \"M\"), (\"Anthony\", \"M\")]\n",
    "features = [(get_features(feat), label) for feat, label in samples]\n",
    "classifier = train(features)"
   ],
   "metadata": {
    "collapsed": false
   }
  },
  {
   "cell_type": "code",
   "execution_count": 40,
   "outputs": [
    {
     "data": {
      "text/plain": "[('Anna', 'F'),\n ('Michael', 'M'),\n ('Jane', 'F'),\n ('Ilya', 'M'),\n ('Anthony', 'M')]"
     },
     "execution_count": 40,
     "metadata": {},
     "output_type": "execute_result"
    }
   ],
   "source": [
    "samples"
   ],
   "metadata": {
    "collapsed": false
   }
  },
  {
   "cell_type": "code",
   "execution_count": 41,
   "outputs": [
    {
     "data": {
      "text/plain": "[('a', 'F'), ('l', 'M'), ('e', 'F'), ('a', 'M'), ('y', 'M')]"
     },
     "execution_count": 41,
     "metadata": {},
     "output_type": "execute_result"
    }
   ],
   "source": [
    "features"
   ],
   "metadata": {
    "collapsed": false
   }
  },
  {
   "cell_type": "code",
   "execution_count": 42,
   "outputs": [
    {
     "data": {
      "text/plain": "(defaultdict(<function __main__.train.<locals>.<lambda>()>,\n             {'F': 0.4, 'M': 0.6}),\n defaultdict(<function __main__.train.<locals>.<lambda>()>,\n             {('F', 'a'): 0.5,\n              ('M', 'l'): 0.3333333333333333,\n              ('F', 'e'): 0.5,\n              ('M', 'a'): 0.3333333333333333,\n              ('M', 'y'): 0.3333333333333333}))"
     },
     "execution_count": 42,
     "metadata": {},
     "output_type": "execute_result"
    }
   ],
   "source": [
    "classifier"
   ],
   "metadata": {
    "collapsed": false
   }
  },
  {
   "cell_type": "code",
   "execution_count": null,
   "outputs": [],
   "source": [],
   "metadata": {
    "collapsed": false
   }
  }
 ],
 "metadata": {
  "kernelspec": {
   "display_name": "Python 3",
   "language": "python",
   "name": "python3"
  },
  "language_info": {
   "codemirror_mode": {
    "name": "ipython",
    "version": 2
   },
   "file_extension": ".py",
   "mimetype": "text/x-python",
   "name": "python",
   "nbconvert_exporter": "python",
   "pygments_lexer": "ipython2",
   "version": "2.7.6"
  }
 },
 "nbformat": 4,
 "nbformat_minor": 0
}
